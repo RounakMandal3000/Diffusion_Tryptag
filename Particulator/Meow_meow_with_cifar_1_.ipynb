{
 "cells": [
  {
   "cell_type": "code",
   "execution_count": 1,
   "metadata": {
    "id": "I3DjmVErVNeN"
   },
   "outputs": [],
   "source": [
    "from typing import Dict, Tuple\n",
    "from tqdm import tqdm\n",
    "import torch\n",
    "import torch.nn as nn\n",
    "import torch.nn.functional as F\n",
    "from torch.utils.data import DataLoader\n",
    "from torchvision import models, transforms\n",
    "from torchvision.utils import save_image, make_grid\n",
    "import matplotlib.pyplot as plt\n",
    "from matplotlib.animation import FuncAnimation, PillowWriter\n",
    "import numpy as np\n",
    "from IPython.display import HTML"
   ]
  },
  {
   "cell_type": "code",
   "execution_count": 2,
   "metadata": {
    "id": "RXh5WJzawU-h"
   },
   "outputs": [],
   "source": [
    "class ResidualConvBlock(nn.Module):\n",
    "    def __init__(self, in_channels: int, out_channels: int, is_res: bool = False) -> None:\n",
    "        super().__init__()\n",
    "        self.same_channels = in_channels == out_channels\n",
    "        self.is_res = is_res\n",
    "        self.conv1 = nn.Sequential(\n",
    "            nn.Conv2d(in_channels, out_channels, 3, 1, 1),\n",
    "            nn.GroupNorm(8, out_channels), \n",
    "            nn.ReLU(), \n",
    "        )\n",
    "        self.conv2 = nn.Sequential(\n",
    "            nn.Conv2d(out_channels, out_channels, 3, 1, 1),\n",
    "            nn.GroupNorm(8, out_channels),\n",
    "            nn.ReLU(),\n",
    "            nn.Conv2d(out_channels, out_channels, 3, 1, 1),\n",
    "            nn.GroupNorm(8, out_channels),\n",
    "            nn.ReLU(),\n",
    "        )\n",
    "\n",
    "    def forward(self, x: torch.Tensor) -> torch.Tensor:\n",
    "        if self.is_res:\n",
    "            x1 = self.conv1(x)\n",
    "            x2 = self.conv2(x1)\n",
    "            out = x1 + x2\n",
    "            return out / 1.414\n",
    "        else:\n",
    "            x1 = self.conv1(x)\n",
    "            x2 = self.conv2(x1)\n",
    "            return x2"
   ]
  },
  {
   "cell_type": "code",
   "execution_count": 3,
   "metadata": {
    "id": "QlBlPqCSWBvx"
   },
   "outputs": [],
   "source": [
    "class UnetDown(nn.Module):\n",
    "    def __init__(self, in_channels, out_channels):\n",
    "        super(UnetDown, self).__init__()\n",
    "        layers = [ResidualConvBlock(in_channels, out_channels), nn.MaxPool2d(2)]\n",
    "        self.model = nn.Sequential(*layers)\n",
    "\n",
    "    def forward(self, x):\n",
    "        return self.model(x)\n",
    "\n",
    "class UnetUp(nn.Module):\n",
    "    def __init__(self, in_channels, out_channels):\n",
    "        super(UnetUp, self).__init__()\n",
    "        layers = [\n",
    "            nn.ConvTranspose2d(in_channels, out_channels, 2, 2),\n",
    "            ResidualConvBlock(out_channels, out_channels),\n",
    "            ResidualConvBlock(out_channels, out_channels), \n",
    "        ]\n",
    "        self.model = nn.Sequential(*layers)\n",
    "\n",
    "    def forward(self, x, skip):\n",
    "        return self.model(torch.cat((x, skip), 1))\n"
   ]
  },
  {
   "cell_type": "code",
   "execution_count": 4,
   "metadata": {
    "id": "yeTlCQ6JWB1-"
   },
   "outputs": [],
   "source": [
    "\n",
    "class EmbedFC(nn.Module):\n",
    "    def __init__(self, input_dim , emb_dim):\n",
    "        super(EmbedFC, self).__init__()\n",
    "        self.input_dim = input_dim\n",
    "        layers = [\n",
    "            nn.Linear(input_dim, emb_dim),\n",
    "            nn.Linear(emb_dim, emb_dim),\n",
    "        ]\n",
    "        self.model = nn.Sequential(*layers)\n",
    "\n",
    "    def forward(self, x):\n",
    "        x = x.view(-1, self.input_dim).to(device)\n",
    "        return self.model(x)"
   ]
  },
  {
   "cell_type": "code",
   "execution_count": 5,
   "metadata": {},
   "outputs": [],
   "source": [
    "class TimeSiren(nn.Module):\n",
    "    def __init__(self, emb_dim):\n",
    "        super(TimeSiren, self).__init__()\n",
    "\n",
    "        self.lin1 = nn.Linear(1, emb_dim, bias=False)\n",
    "        self.lin2 = nn.Linear(emb_dim, emb_dim)\n",
    "\n",
    "    def forward(self, x: torch.Tensor) -> torch.Tensor:\n",
    "        x = x.view(-1, 1).to(device)\n",
    "        x = torch.sin(self.lin1(x))\n",
    "        x = self.lin2(x)\n",
    "        return x"
   ]
  },
  {
   "cell_type": "code",
   "execution_count": 6,
   "metadata": {
    "id": "4F88l1xfV3AF"
   },
   "outputs": [],
   "source": [
    "class ContextUnet(nn.Module):\n",
    "    def __init__(self, in_channels, n_feat=256, n_cfeat=10):\n",
    "        super(ContextUnet, self).__init__()\n",
    "        self.in_channels = in_channels\n",
    "        self.n_feat = n_feat\n",
    "        self.n_cfeat = n_cfeat\n",
    "        \n",
    "        self.init_conv = ResidualConvBlock(in_channels, n_feat, is_res=True)\n",
    "        self.down1 = UnetDown(n_feat, n_feat)\n",
    "        self.down2 = UnetDown(n_feat, 2 * n_feat)\n",
    "        self.down3 = UnetDown(2*n_feat, 2 * n_feat) \n",
    "        \n",
    "        self.to_vec = nn.Sequential(nn.AvgPool2d((4)), nn.ReLU())\n",
    "        \n",
    "        self.timeembed1 = TimeSiren(2*n_feat)\n",
    "        #self.timeembed2 = TimeSiren(1*n_feat)\n",
    "        \n",
    "        #self.contextembed1 = EmbedFC(n_cfeat, 2*n_feat)\n",
    "        #self.contextembed2 = EmbedFC(n_cfeat, 1*n_feat)\n",
    "        \n",
    "        self.up0 = nn.Sequential(\n",
    "            nn.ConvTranspose2d(2 * n_feat, 2 * n_feat, 4, 4), \n",
    "            nn.GroupNorm(8, 2 * n_feat),                        \n",
    "            nn.ReLU(),\n",
    "        )\n",
    "        \n",
    "        self.up1 = UnetUp(4 * n_feat, 2*n_feat)\n",
    "        self.up2 = UnetUp(4 * n_feat, n_feat)\n",
    "        self.up3 = UnetUp(2*n_feat, n_feat)\n",
    "        self.out = nn.Conv2d(2 * n_feat, self.in_channels, 3, 1, 1)\n",
    "\n",
    "    def forward(self, x, t, c=None):\n",
    "        x = self.init_conv(x)\n",
    "        \n",
    "        down1 = self.down1(x)\n",
    "        down2 = self.down2(down1)\n",
    "        down3 = self.down3(down2)\n",
    "        \n",
    "        hiddenvec = self.to_vec(down3)\n",
    "        temb1 = self.timeembed1(t).view(-1, self.n_feat * 2, 1, 1)\n",
    "        #if c is None:\n",
    "        #   c = torch.zeros(x.shape[0], self.n_cfeat).to(x)\n",
    "        #cemb1 = self.contextembed1(c).view(-1, self.n_feat * 2, 1, 1)     # (batch, 2*n_feat, 1,1)\n",
    "        #cemb2 = self.contextembed2(c).view(-1, self.n_feat, 1, 1)\n",
    "        #temb2 = self.timeembed2(t).view(-1, self.n_feat, 1, 1)\n",
    "        up0 = self.up0(hiddenvec + temb1)\n",
    "        up1 = self.up1(up0, down3) + temb1\n",
    "        up2 = self.up2(up1, down2)\n",
    "        up3 = self.up3(up2, down1)\n",
    "        out = self.out(torch.cat((up3, x), 1))\n",
    "        return out\n"
   ]
  },
  {
   "cell_type": "code",
   "execution_count": 7,
   "metadata": {},
   "outputs": [
    {
     "data": {
      "text/plain": [
       "0.0"
      ]
     },
     "execution_count": 7,
     "metadata": {},
     "output_type": "execute_result"
    }
   ],
   "source": [
    "torch.cuda.memory_allocated(torch.device(\"cuda\")) * 1e-9"
   ]
  },
  {
   "cell_type": "code",
   "execution_count": 33,
   "metadata": {
    "id": "P0abri9TWKUA"
   },
   "outputs": [],
   "source": [
    "timesteps = 1000\n",
    "beta1 = 1e-4\n",
    "beta2 = 0.02\n",
    "\n",
    "\n",
    "device=\"cuda\" if torch.cuda.is_available() else \"gpu\"\n",
    "n_feat = 256\n",
    "n_cfeat = 10 \n",
    "height = 32 \n",
    "save_dir = './weight_cifar/'\n",
    "\n",
    "batch_size = 256\n",
    "n_epoch = 1000\n",
    "lrate=1e-5"
   ]
  },
  {
   "cell_type": "code",
   "execution_count": 9,
   "metadata": {
    "id": "SOu1LS2AWOov"
   },
   "outputs": [],
   "source": [
    "nn_model = ContextUnet(in_channels=3, n_feat=n_feat, n_cfeat=n_cfeat).to(device)\n",
    "optim = torch.optim.Adam(nn_model.parameters(), lr=lrate)"
   ]
  },
  {
   "cell_type": "code",
   "execution_count": 10,
   "metadata": {
    "colab": {
     "base_uri": "https://localhost:8080/"
    },
    "id": "FhvGmM2wXQ4s",
    "outputId": "5953731b-0a85-40f6-db2e-b794a44c80c3"
   },
   "outputs": [
    {
     "name": "stdout",
     "output_type": "stream",
     "text": [
      "Files already downloaded and verified\n"
     ]
    }
   ],
   "source": [
    "from torchvision.datasets import CIFAR10\n",
    "tf = transforms.Compose([transforms.ToTensor(), transforms.Normalize((0.5, 0.5, 0.5), (0.5, 0.5, 0.5))])\n",
    "dataset = CIFAR10(\"./data\", train=True, download=True, transform=tf)\n",
    "dataloader = DataLoader(dataset, batch_size=batch_size, shuffle=True, num_workers=16)\n",
    "optim = torch.optim.Adam(nn_model.parameters(), lr=lrate)"
   ]
  },
  {
   "cell_type": "code",
   "execution_count": 11,
   "metadata": {},
   "outputs": [
    {
     "data": {
      "text/plain": [
       "0.18241689600000002"
      ]
     },
     "execution_count": 11,
     "metadata": {},
     "output_type": "execute_result"
    }
   ],
   "source": [
    "torch.cuda.memory_allocated(torch.device(\"cuda\")) * 1e-9"
   ]
  },
  {
   "cell_type": "code",
   "execution_count": 12,
   "metadata": {
    "id": "MdHawegkWMAg"
   },
   "outputs": [],
   "source": [
    "b_t = (beta2 - beta1) * torch.linspace(0, 1, timesteps + 1) + beta1\n",
    "sqrt_b_t = torch.sqrt(b_t)\n",
    "a_t = 1 - b_t\n",
    "ab_t = torch.cumsum(a_t.log(), dim=0).exp()  \n",
    "sqrt_ab_t = torch.sqrt(ab_t)\n",
    "oneover_sqrt_a_t = 1/torch.sqrt(a_t)\n",
    "sqrt_mab = torch.sqrt(1 - ab_t)\n",
    "mab_over_sqrtmab_inv = (1 - a_t) / sqrt_mab\n",
    "\n",
    "b_t = b_t.to(device)\n",
    "a_t  = a_t.to(b_t)\n",
    "ab_t = ab_t.to(a_t)\n"
   ]
  },
  {
   "cell_type": "code",
   "execution_count": 13,
   "metadata": {},
   "outputs": [
    {
     "data": {
      "text/plain": [
       "0.18242918400000002"
      ]
     },
     "execution_count": 13,
     "metadata": {},
     "output_type": "execute_result"
    }
   ],
   "source": [
    "torch.cuda.memory_allocated(torch.device(\"cuda\")) * 1e-9"
   ]
  },
  {
   "cell_type": "code",
   "execution_count": 14,
   "metadata": {
    "id": "_qLq6GEKWVzt"
   },
   "outputs": [],
   "source": [
    "@torch.no_grad()\n",
    "def sample_ddpm_context(n_sample, save_rate=20):\n",
    "    # x_T ~ N(0, 1), sample initial noise\n",
    "    samples = torch.randn(n_sample, 3, height, height).to(device)  \n",
    "\n",
    "    # array to keep track of generated steps for plotting\n",
    "    intermediate = [] \n",
    "    \n",
    "    for i in range(timesteps, 0, -1):\n",
    "        # reshape time tensor\n",
    "        #t = torch.tensor([i / timesteps])[:, None, None, None].to(device)\n",
    "        t = torch.tensor(i / timesteps).to(device).repeat(n_sample, 1)\n",
    "\n",
    "        # sample some random noise to inject back in. For i = 1, don't add back in noise\n",
    "        z = torch.randn_like(samples) if i > 1 else 0\n",
    "\n",
    "        eps = nn_model(samples, t)    # predict noise e_(x_t,t, ctx)\n",
    "        samples = denoise_add_noise(samples, i, eps, z)\n",
    "        if i % save_rate==0 or i==timesteps or i<8:\n",
    "            intermediate.append(samples.detach().cpu().numpy())\n",
    "\n",
    "    intermediate = np.stack(intermediate)\n",
    "    return samples, intermediate"
   ]
  },
  {
   "cell_type": "code",
   "execution_count": 15,
   "metadata": {
    "id": "hWPgKPrOXdmg"
   },
   "outputs": [],
   "source": [
    "# helper function: perturbs an image to a specified noise level\n",
    "def perturb_input(x, t, noise, device=device):\n",
    "    final = ab_t.sqrt()[t, None, None, None] * x + (1 - ab_t[t, None, None, None]) * noise\n",
    "    final = final.to(device)\n",
    "    return final"
   ]
  },
  {
   "cell_type": "code",
   "execution_count": 16,
   "metadata": {
    "id": "DWbssCNVWSnB"
   },
   "outputs": [],
   "source": [
    "# helper function; removes the predicted noise (but adds some noise back in to avoid collapse)\n",
    "def denoise_add_noise(x, t, pred_noise, z=None):\n",
    "    if z is None:\n",
    "        z = torch.randn_like(x)\n",
    "    noise = b_t.sqrt()[t] * z\n",
    "    mean = (x - pred_noise * ((1 - a_t[t]) / (1 - ab_t[t]).sqrt())) / a_t[t].sqrt()\n",
    "    return mean + noise"
   ]
  },
  {
   "cell_type": "code",
   "execution_count": 17,
   "metadata": {},
   "outputs": [],
   "source": [
    "# define sampling function for DDIM   \n",
    "# removes the noise using ddim\n",
    "def denoise_ddim(x, t, t_prev, pred_noise):\n",
    "    ab = ab_t[t]\n",
    "    ab_prev = ab_t[t_prev]\n",
    "    \n",
    "    x0_pred = ab_prev.sqrt() / ab.sqrt() * (x - (1 - ab).sqrt() * pred_noise)\n",
    "    dir_xt = (1 - ab_prev).sqrt() * pred_noise\n",
    "\n",
    "    return x0_pred + dir_xt"
   ]
  },
  {
   "cell_type": "code",
   "execution_count": 18,
   "metadata": {},
   "outputs": [],
   "source": [
    "# fast sampling algorithm with context\n",
    "@torch.no_grad()\n",
    "def sample_ddim_context(n_sample, n=20):\n",
    "    # x_T ~ N(0, 1), sample initial noise\n",
    "    samples = torch.randn(n_sample, 3, height, height).to(device)  \n",
    "\n",
    "    # array to keep track of generated steps for plotting\n",
    "    intermediate = [] \n",
    "    step_size = timesteps // n\n",
    "    for i in range(timesteps, 0, -step_size):\n",
    "        \n",
    "        # reshape time tensor\n",
    "        t = torch.tensor([i / timesteps])[:, None, None, None].to(device)\n",
    "\n",
    "        eps = nn_model(samples, t)    # predict noise e_(x_t,t)\n",
    "        samples = denoise_ddim(samples, i, i - step_size, eps)\n",
    "        intermediate.append(samples.detach().cpu().numpy())\n",
    "\n",
    "    intermediate = np.stack(intermediate)\n",
    "    return samples, intermediate"
   ]
  },
  {
   "cell_type": "code",
   "execution_count": 19,
   "metadata": {
    "id": "jQNyQpQ9oHRR"
   },
   "outputs": [],
   "source": [
    "def make_encoding(x, n_samples=batch_size, n_classes=n_cfeat):\n",
    "    encode = [\n",
    "    [1,0,0,0,0,0,0,0,0,0],  \n",
    "    [0,1,0,0,0,0,0,0,0,0],    \n",
    "    [0,0,1,0,0,0,0,0,0,0],\n",
    "    [0,0,0,1,0,0,0,0,0,0],\n",
    "    [0,0,0,0,1,0,0,0,0,0],\n",
    "    [0,0,0,0,0,1,0,0,0,0],\n",
    "    [0,0,0,0,0,0,1,0,0,0],\n",
    "    [0,0,0,0,0,0,0,1,0,0],\n",
    "    [0,0,0,0,0,0,0,0,1,0],\n",
    "    [0,0,0,0,0,0,0,0,0,1]\n",
    "    ]\n",
    "    final = np.zeros((n_samples, n_classes))\n",
    "    for i in range(n_samples):\n",
    "        final[i] = encode[x[i].int()]\n",
    "    final = torch.tensor(final).float().to(device)\n",
    "    return final"
   ]
  },
  {
   "cell_type": "code",
   "execution_count": 20,
   "metadata": {},
   "outputs": [],
   "source": [
    "loss_train  = []\n",
    "loss_values_1 = []"
   ]
  },
  {
   "cell_type": "code",
   "execution_count": 75,
   "metadata": {
    "id": "-8zQfjIZWYLf"
   },
   "outputs": [],
   "source": [
    "def show_images(imgs, nrow=4):\n",
    "    _, axs = plt.subplots(nrow, imgs.shape[0] // nrow, figsize=(4,2 ))\n",
    "    axs = axs.flatten()\n",
    "    for img, ax in zip(imgs, axs):\n",
    "        img = (img.permute(1, 2, 0).clip(-1, 1).detach().cpu().numpy() + 1) / 2\n",
    "        ax.set_xticks([])\n",
    "        ax.set_yticks([])\n",
    "        ax.imshow(img, cmap='gray')\n",
    "    plt.show()"
   ]
  },
  {
   "cell_type": "code",
   "execution_count": 22,
   "metadata": {},
   "outputs": [
    {
     "data": {
      "text/plain": [
       "0.18242918400000002"
      ]
     },
     "execution_count": 22,
     "metadata": {},
     "output_type": "execute_result"
    }
   ],
   "source": [
    "torch.cuda.memory_allocated(torch.device(\"cuda\")) * 1e-9\n"
   ]
  },
  {
   "cell_type": "code",
   "execution_count": 23,
   "metadata": {},
   "outputs": [
    {
     "data": {
      "text/plain": [
       "124"
      ]
     },
     "execution_count": 23,
     "metadata": {},
     "output_type": "execute_result"
    }
   ],
   "source": [
    "import gc\n",
    "torch.cuda.empty_cache()\n",
    "gc.collect()"
   ]
  },
  {
   "cell_type": "code",
   "execution_count": 68,
   "metadata": {},
   "outputs": [
    {
     "data": {
      "text/plain": [
       "<All keys matched successfully>"
      ]
     },
     "execution_count": 68,
     "metadata": {},
     "output_type": "execute_result"
    }
   ],
   "source": [
    "checkpoint = torch.load(f\"{save_dir}nn_model260.pth\", map_location = device)\n",
    "epoch = checkpoint['epoch']\n",
    "optim.load_state_dict(checkpoint['optimizer_state_dict'])\n",
    "nn_model.load_state_dict(checkpoint['model_state_dict'])"
   ]
  },
  {
   "cell_type": "code",
   "execution_count": 71,
   "metadata": {
    "colab": {
     "base_uri": "https://localhost:8080/",
     "height": 415
    },
    "id": "e2jSpotiWQJm",
    "outputId": "20745c80-3de3-4729-894e-5f8a72ac7d77"
   },
   "outputs": [
    {
     "name": "stdout",
     "output_type": "stream",
     "text": [
      "allocated mem - 1.3242234880000001\n",
      "epoch number:  200\n"
     ]
    },
    {
     "name": "stderr",
     "output_type": "stream",
     "text": [
      "100%|█████████████████████████████████████████| 196/196 [02:07<00:00,  1.54it/s]\n"
     ]
    },
    {
     "name": "stdout",
     "output_type": "stream",
     "text": [
      "Saved model at ./weight_cifar/nn_model200.pth\n",
      "tensor(13.9127, device='cuda:0', grad_fn=<AddBackward0>)\n",
      "allocated mem - 1.319308288\n",
      "epoch number:  201\n"
     ]
    },
    {
     "name": "stderr",
     "output_type": "stream",
     "text": [
      "100%|█████████████████████████████████████████| 196/196 [02:07<00:00,  1.54it/s]\n"
     ]
    },
    {
     "name": "stdout",
     "output_type": "stream",
     "text": [
      "tensor(14.1683, device='cuda:0', grad_fn=<AddBackward0>)\n",
      "allocated mem - 1.319308288\n",
      "epoch number:  202\n"
     ]
    },
    {
     "name": "stderr",
     "output_type": "stream",
     "text": [
      "100%|█████████████████████████████████████████| 196/196 [02:07<00:00,  1.53it/s]\n"
     ]
    },
    {
     "name": "stdout",
     "output_type": "stream",
     "text": [
      "tensor(13.9087, device='cuda:0', grad_fn=<AddBackward0>)\n",
      "allocated mem - 1.319308288\n",
      "epoch number:  203\n"
     ]
    },
    {
     "name": "stderr",
     "output_type": "stream",
     "text": [
      "100%|█████████████████████████████████████████| 196/196 [02:07<00:00,  1.54it/s]\n"
     ]
    },
    {
     "name": "stdout",
     "output_type": "stream",
     "text": [
      "tensor(14.1970, device='cuda:0', grad_fn=<AddBackward0>)\n",
      "allocated mem - 1.319308288\n",
      "epoch number:  204\n"
     ]
    },
    {
     "name": "stderr",
     "output_type": "stream",
     "text": [
      "100%|█████████████████████████████████████████| 196/196 [02:07<00:00,  1.54it/s]\n"
     ]
    },
    {
     "name": "stdout",
     "output_type": "stream",
     "text": [
      "tensor(13.9822, device='cuda:0', grad_fn=<AddBackward0>)\n",
      "allocated mem - 1.319308288\n",
      "epoch number:  205\n"
     ]
    },
    {
     "name": "stderr",
     "output_type": "stream",
     "text": [
      "100%|█████████████████████████████████████████| 196/196 [02:07<00:00,  1.54it/s]\n"
     ]
    },
    {
     "name": "stdout",
     "output_type": "stream",
     "text": [
      "tensor(14.1856, device='cuda:0', grad_fn=<AddBackward0>)\n",
      "allocated mem - 1.319308288\n",
      "epoch number:  206\n"
     ]
    },
    {
     "name": "stderr",
     "output_type": "stream",
     "text": [
      "100%|█████████████████████████████████████████| 196/196 [02:07<00:00,  1.54it/s]\n"
     ]
    },
    {
     "name": "stdout",
     "output_type": "stream",
     "text": [
      "tensor(13.8453, device='cuda:0', grad_fn=<AddBackward0>)\n",
      "allocated mem - 1.319308288\n",
      "epoch number:  207\n"
     ]
    },
    {
     "name": "stderr",
     "output_type": "stream",
     "text": [
      "100%|█████████████████████████████████████████| 196/196 [02:07<00:00,  1.54it/s]\n"
     ]
    },
    {
     "name": "stdout",
     "output_type": "stream",
     "text": [
      "tensor(13.9288, device='cuda:0', grad_fn=<AddBackward0>)\n",
      "allocated mem - 1.319308288\n",
      "epoch number:  208\n"
     ]
    },
    {
     "name": "stderr",
     "output_type": "stream",
     "text": [
      "100%|█████████████████████████████████████████| 196/196 [02:07<00:00,  1.54it/s]\n"
     ]
    },
    {
     "name": "stdout",
     "output_type": "stream",
     "text": [
      "tensor(13.9111, device='cuda:0', grad_fn=<AddBackward0>)\n",
      "allocated mem - 1.319308288\n",
      "epoch number:  209\n"
     ]
    },
    {
     "name": "stderr",
     "output_type": "stream",
     "text": [
      "100%|█████████████████████████████████████████| 196/196 [02:07<00:00,  1.54it/s]\n"
     ]
    },
    {
     "name": "stdout",
     "output_type": "stream",
     "text": [
      "tensor(13.9245, device='cuda:0', grad_fn=<AddBackward0>)\n",
      "allocated mem - 1.319308288\n",
      "epoch number:  210\n"
     ]
    },
    {
     "name": "stderr",
     "output_type": "stream",
     "text": [
      "100%|█████████████████████████████████████████| 196/196 [02:07<00:00,  1.54it/s]\n"
     ]
    },
    {
     "name": "stdout",
     "output_type": "stream",
     "text": [
      "Saved model at ./weight_cifar/nn_model210.pth\n",
      "tensor(13.8434, device='cuda:0', grad_fn=<AddBackward0>)\n",
      "allocated mem - 1.319308288\n",
      "epoch number:  211\n"
     ]
    },
    {
     "name": "stderr",
     "output_type": "stream",
     "text": [
      "100%|█████████████████████████████████████████| 196/196 [02:07<00:00,  1.54it/s]\n"
     ]
    },
    {
     "name": "stdout",
     "output_type": "stream",
     "text": [
      "tensor(14.2462, device='cuda:0', grad_fn=<AddBackward0>)\n",
      "allocated mem - 1.319308288\n",
      "epoch number:  212\n"
     ]
    },
    {
     "name": "stderr",
     "output_type": "stream",
     "text": [
      "100%|█████████████████████████████████████████| 196/196 [02:07<00:00,  1.53it/s]\n"
     ]
    },
    {
     "name": "stdout",
     "output_type": "stream",
     "text": [
      "tensor(13.9224, device='cuda:0', grad_fn=<AddBackward0>)\n",
      "allocated mem - 1.319308288\n",
      "epoch number:  213\n"
     ]
    },
    {
     "name": "stderr",
     "output_type": "stream",
     "text": [
      "100%|█████████████████████████████████████████| 196/196 [02:07<00:00,  1.54it/s]\n"
     ]
    },
    {
     "name": "stdout",
     "output_type": "stream",
     "text": [
      "tensor(13.9853, device='cuda:0', grad_fn=<AddBackward0>)\n",
      "allocated mem - 1.319308288\n",
      "epoch number:  214\n"
     ]
    },
    {
     "name": "stderr",
     "output_type": "stream",
     "text": [
      "100%|█████████████████████████████████████████| 196/196 [02:07<00:00,  1.54it/s]\n"
     ]
    },
    {
     "name": "stdout",
     "output_type": "stream",
     "text": [
      "tensor(14.0921, device='cuda:0', grad_fn=<AddBackward0>)\n",
      "allocated mem - 1.319308288\n",
      "epoch number:  215\n"
     ]
    },
    {
     "name": "stderr",
     "output_type": "stream",
     "text": [
      "100%|█████████████████████████████████████████| 196/196 [02:07<00:00,  1.54it/s]\n"
     ]
    },
    {
     "name": "stdout",
     "output_type": "stream",
     "text": [
      "tensor(14.0598, device='cuda:0', grad_fn=<AddBackward0>)\n",
      "allocated mem - 1.319308288\n",
      "epoch number:  216\n"
     ]
    },
    {
     "name": "stderr",
     "output_type": "stream",
     "text": [
      "100%|█████████████████████████████████████████| 196/196 [02:07<00:00,  1.54it/s]\n"
     ]
    },
    {
     "name": "stdout",
     "output_type": "stream",
     "text": [
      "tensor(13.8121, device='cuda:0', grad_fn=<AddBackward0>)\n",
      "allocated mem - 1.319308288\n",
      "epoch number:  217\n"
     ]
    },
    {
     "name": "stderr",
     "output_type": "stream",
     "text": [
      "100%|█████████████████████████████████████████| 196/196 [02:07<00:00,  1.54it/s]\n"
     ]
    },
    {
     "name": "stdout",
     "output_type": "stream",
     "text": [
      "tensor(13.9405, device='cuda:0', grad_fn=<AddBackward0>)\n",
      "allocated mem - 1.319308288\n",
      "epoch number:  218\n"
     ]
    },
    {
     "name": "stderr",
     "output_type": "stream",
     "text": [
      "100%|█████████████████████████████████████████| 196/196 [02:07<00:00,  1.53it/s]\n"
     ]
    },
    {
     "name": "stdout",
     "output_type": "stream",
     "text": [
      "tensor(13.9877, device='cuda:0', grad_fn=<AddBackward0>)\n",
      "allocated mem - 1.319308288\n",
      "epoch number:  219\n"
     ]
    },
    {
     "name": "stderr",
     "output_type": "stream",
     "text": [
      "100%|█████████████████████████████████████████| 196/196 [02:07<00:00,  1.54it/s]\n"
     ]
    },
    {
     "name": "stdout",
     "output_type": "stream",
     "text": [
      "tensor(13.8624, device='cuda:0', grad_fn=<AddBackward0>)\n",
      "allocated mem - 1.319308288\n",
      "epoch number:  220\n"
     ]
    },
    {
     "name": "stderr",
     "output_type": "stream",
     "text": [
      "100%|█████████████████████████████████████████| 196/196 [02:07<00:00,  1.54it/s]\n"
     ]
    },
    {
     "name": "stdout",
     "output_type": "stream",
     "text": [
      "Saved model at ./weight_cifar/nn_model220.pth\n",
      "tensor(13.9615, device='cuda:0', grad_fn=<AddBackward0>)\n",
      "allocated mem - 1.319308288\n",
      "epoch number:  221\n"
     ]
    },
    {
     "name": "stderr",
     "output_type": "stream",
     "text": [
      "100%|█████████████████████████████████████████| 196/196 [02:07<00:00,  1.54it/s]\n"
     ]
    },
    {
     "name": "stdout",
     "output_type": "stream",
     "text": [
      "tensor(14.0093, device='cuda:0', grad_fn=<AddBackward0>)\n",
      "allocated mem - 1.319308288\n",
      "epoch number:  222\n"
     ]
    },
    {
     "name": "stderr",
     "output_type": "stream",
     "text": [
      "100%|█████████████████████████████████████████| 196/196 [02:07<00:00,  1.54it/s]\n"
     ]
    },
    {
     "name": "stdout",
     "output_type": "stream",
     "text": [
      "tensor(13.9017, device='cuda:0', grad_fn=<AddBackward0>)\n",
      "allocated mem - 1.319308288\n",
      "epoch number:  223\n"
     ]
    },
    {
     "name": "stderr",
     "output_type": "stream",
     "text": [
      "100%|█████████████████████████████████████████| 196/196 [02:07<00:00,  1.54it/s]\n"
     ]
    },
    {
     "name": "stdout",
     "output_type": "stream",
     "text": [
      "tensor(14.1640, device='cuda:0', grad_fn=<AddBackward0>)\n",
      "allocated mem - 1.319308288\n",
      "epoch number:  224\n"
     ]
    },
    {
     "name": "stderr",
     "output_type": "stream",
     "text": [
      "100%|█████████████████████████████████████████| 196/196 [02:07<00:00,  1.53it/s]\n"
     ]
    },
    {
     "name": "stdout",
     "output_type": "stream",
     "text": [
      "tensor(14.1535, device='cuda:0', grad_fn=<AddBackward0>)\n",
      "allocated mem - 1.319308288\n",
      "epoch number:  225\n"
     ]
    },
    {
     "name": "stderr",
     "output_type": "stream",
     "text": [
      "100%|█████████████████████████████████████████| 196/196 [02:07<00:00,  1.54it/s]\n"
     ]
    },
    {
     "name": "stdout",
     "output_type": "stream",
     "text": [
      "tensor(13.8916, device='cuda:0', grad_fn=<AddBackward0>)\n",
      "allocated mem - 1.319308288\n",
      "epoch number:  226\n"
     ]
    },
    {
     "name": "stderr",
     "output_type": "stream",
     "text": [
      "100%|█████████████████████████████████████████| 196/196 [02:07<00:00,  1.54it/s]\n"
     ]
    },
    {
     "name": "stdout",
     "output_type": "stream",
     "text": [
      "tensor(13.9724, device='cuda:0', grad_fn=<AddBackward0>)\n",
      "allocated mem - 1.319308288\n",
      "epoch number:  227\n"
     ]
    },
    {
     "name": "stderr",
     "output_type": "stream",
     "text": [
      "100%|█████████████████████████████████████████| 196/196 [02:07<00:00,  1.54it/s]\n"
     ]
    },
    {
     "name": "stdout",
     "output_type": "stream",
     "text": [
      "tensor(13.7875, device='cuda:0', grad_fn=<AddBackward0>)\n",
      "allocated mem - 1.319308288\n",
      "epoch number:  228\n"
     ]
    },
    {
     "name": "stderr",
     "output_type": "stream",
     "text": [
      "100%|█████████████████████████████████████████| 196/196 [02:07<00:00,  1.54it/s]\n"
     ]
    },
    {
     "name": "stdout",
     "output_type": "stream",
     "text": [
      "tensor(13.6835, device='cuda:0', grad_fn=<AddBackward0>)\n",
      "allocated mem - 1.319308288\n",
      "epoch number:  229\n"
     ]
    },
    {
     "name": "stderr",
     "output_type": "stream",
     "text": [
      "100%|█████████████████████████████████████████| 196/196 [02:07<00:00,  1.54it/s]\n"
     ]
    },
    {
     "name": "stdout",
     "output_type": "stream",
     "text": [
      "tensor(13.7625, device='cuda:0', grad_fn=<AddBackward0>)\n",
      "allocated mem - 1.319308288\n",
      "epoch number:  230\n"
     ]
    },
    {
     "name": "stderr",
     "output_type": "stream",
     "text": [
      "100%|█████████████████████████████████████████| 196/196 [02:07<00:00,  1.53it/s]\n"
     ]
    },
    {
     "name": "stdout",
     "output_type": "stream",
     "text": [
      "Saved model at ./weight_cifar/nn_model230.pth\n",
      "tensor(14.0841, device='cuda:0', grad_fn=<AddBackward0>)\n",
      "allocated mem - 1.319308288\n",
      "epoch number:  231\n"
     ]
    },
    {
     "name": "stderr",
     "output_type": "stream",
     "text": [
      "100%|█████████████████████████████████████████| 196/196 [02:07<00:00,  1.54it/s]\n"
     ]
    },
    {
     "name": "stdout",
     "output_type": "stream",
     "text": [
      "tensor(13.6007, device='cuda:0', grad_fn=<AddBackward0>)\n",
      "allocated mem - 1.319308288\n",
      "epoch number:  232\n"
     ]
    },
    {
     "name": "stderr",
     "output_type": "stream",
     "text": [
      "100%|█████████████████████████████████████████| 196/196 [02:07<00:00,  1.54it/s]\n"
     ]
    },
    {
     "name": "stdout",
     "output_type": "stream",
     "text": [
      "tensor(13.6971, device='cuda:0', grad_fn=<AddBackward0>)\n",
      "allocated mem - 1.319308288\n",
      "epoch number:  233\n"
     ]
    },
    {
     "name": "stderr",
     "output_type": "stream",
     "text": [
      "100%|█████████████████████████████████████████| 196/196 [02:07<00:00,  1.53it/s]\n"
     ]
    },
    {
     "name": "stdout",
     "output_type": "stream",
     "text": [
      "tensor(13.9302, device='cuda:0', grad_fn=<AddBackward0>)\n",
      "allocated mem - 1.319308288\n",
      "epoch number:  234\n"
     ]
    },
    {
     "name": "stderr",
     "output_type": "stream",
     "text": [
      "100%|█████████████████████████████████████████| 196/196 [02:07<00:00,  1.54it/s]\n"
     ]
    },
    {
     "name": "stdout",
     "output_type": "stream",
     "text": [
      "tensor(13.8708, device='cuda:0', grad_fn=<AddBackward0>)\n",
      "allocated mem - 1.319308288\n",
      "epoch number:  235\n"
     ]
    },
    {
     "name": "stderr",
     "output_type": "stream",
     "text": [
      "100%|█████████████████████████████████████████| 196/196 [02:07<00:00,  1.54it/s]\n"
     ]
    },
    {
     "name": "stdout",
     "output_type": "stream",
     "text": [
      "tensor(13.8548, device='cuda:0', grad_fn=<AddBackward0>)\n",
      "allocated mem - 1.319308288\n",
      "epoch number:  236\n"
     ]
    },
    {
     "name": "stderr",
     "output_type": "stream",
     "text": [
      "100%|█████████████████████████████████████████| 196/196 [02:07<00:00,  1.54it/s]\n"
     ]
    },
    {
     "name": "stdout",
     "output_type": "stream",
     "text": [
      "tensor(14.0532, device='cuda:0', grad_fn=<AddBackward0>)\n",
      "allocated mem - 1.319308288\n",
      "epoch number:  237\n"
     ]
    },
    {
     "name": "stderr",
     "output_type": "stream",
     "text": [
      "100%|█████████████████████████████████████████| 196/196 [02:07<00:00,  1.54it/s]\n"
     ]
    },
    {
     "name": "stdout",
     "output_type": "stream",
     "text": [
      "tensor(14.0202, device='cuda:0', grad_fn=<AddBackward0>)\n",
      "allocated mem - 1.319308288\n",
      "epoch number:  238\n"
     ]
    },
    {
     "name": "stderr",
     "output_type": "stream",
     "text": [
      "100%|█████████████████████████████████████████| 196/196 [02:07<00:00,  1.54it/s]\n"
     ]
    },
    {
     "name": "stdout",
     "output_type": "stream",
     "text": [
      "tensor(13.8750, device='cuda:0', grad_fn=<AddBackward0>)\n",
      "allocated mem - 1.319308288\n",
      "epoch number:  239\n"
     ]
    },
    {
     "name": "stderr",
     "output_type": "stream",
     "text": [
      "100%|█████████████████████████████████████████| 196/196 [02:07<00:00,  1.54it/s]\n"
     ]
    },
    {
     "name": "stdout",
     "output_type": "stream",
     "text": [
      "tensor(13.9511, device='cuda:0', grad_fn=<AddBackward0>)\n",
      "allocated mem - 1.319308288\n",
      "epoch number:  240\n"
     ]
    },
    {
     "name": "stderr",
     "output_type": "stream",
     "text": [
      "100%|█████████████████████████████████████████| 196/196 [02:07<00:00,  1.54it/s]\n"
     ]
    },
    {
     "name": "stdout",
     "output_type": "stream",
     "text": [
      "Saved model at ./weight_cifar/nn_model240.pth\n",
      "tensor(13.7021, device='cuda:0', grad_fn=<AddBackward0>)\n",
      "allocated mem - 1.319308288\n",
      "epoch number:  241\n"
     ]
    },
    {
     "name": "stderr",
     "output_type": "stream",
     "text": [
      "100%|█████████████████████████████████████████| 196/196 [02:07<00:00,  1.54it/s]\n"
     ]
    },
    {
     "name": "stdout",
     "output_type": "stream",
     "text": [
      "tensor(13.6802, device='cuda:0', grad_fn=<AddBackward0>)\n",
      "allocated mem - 1.319308288\n",
      "epoch number:  242\n"
     ]
    },
    {
     "name": "stderr",
     "output_type": "stream",
     "text": [
      "100%|█████████████████████████████████████████| 196/196 [02:07<00:00,  1.54it/s]\n"
     ]
    },
    {
     "name": "stdout",
     "output_type": "stream",
     "text": [
      "tensor(13.9429, device='cuda:0', grad_fn=<AddBackward0>)\n",
      "allocated mem - 1.319308288\n",
      "epoch number:  243\n"
     ]
    },
    {
     "name": "stderr",
     "output_type": "stream",
     "text": [
      "100%|█████████████████████████████████████████| 196/196 [02:07<00:00,  1.54it/s]\n"
     ]
    },
    {
     "name": "stdout",
     "output_type": "stream",
     "text": [
      "tensor(13.8085, device='cuda:0', grad_fn=<AddBackward0>)\n",
      "allocated mem - 1.319308288\n",
      "epoch number:  244\n"
     ]
    },
    {
     "name": "stderr",
     "output_type": "stream",
     "text": [
      "100%|█████████████████████████████████████████| 196/196 [02:07<00:00,  1.54it/s]\n"
     ]
    },
    {
     "name": "stdout",
     "output_type": "stream",
     "text": [
      "tensor(13.8900, device='cuda:0', grad_fn=<AddBackward0>)\n",
      "allocated mem - 1.319308288\n",
      "epoch number:  245\n"
     ]
    },
    {
     "name": "stderr",
     "output_type": "stream",
     "text": [
      "100%|█████████████████████████████████████████| 196/196 [02:07<00:00,  1.54it/s]\n"
     ]
    },
    {
     "name": "stdout",
     "output_type": "stream",
     "text": [
      "tensor(13.6957, device='cuda:0', grad_fn=<AddBackward0>)\n",
      "allocated mem - 1.319308288\n",
      "epoch number:  246\n"
     ]
    },
    {
     "name": "stderr",
     "output_type": "stream",
     "text": [
      "100%|█████████████████████████████████████████| 196/196 [02:07<00:00,  1.54it/s]\n"
     ]
    },
    {
     "name": "stdout",
     "output_type": "stream",
     "text": [
      "tensor(13.9110, device='cuda:0', grad_fn=<AddBackward0>)\n",
      "allocated mem - 1.319308288\n",
      "epoch number:  247\n"
     ]
    },
    {
     "name": "stderr",
     "output_type": "stream",
     "text": [
      "100%|█████████████████████████████████████████| 196/196 [02:07<00:00,  1.54it/s]\n"
     ]
    },
    {
     "name": "stdout",
     "output_type": "stream",
     "text": [
      "tensor(14.0190, device='cuda:0', grad_fn=<AddBackward0>)\n",
      "allocated mem - 1.319308288\n",
      "epoch number:  248\n"
     ]
    },
    {
     "name": "stderr",
     "output_type": "stream",
     "text": [
      "100%|█████████████████████████████████████████| 196/196 [02:07<00:00,  1.54it/s]\n"
     ]
    },
    {
     "name": "stdout",
     "output_type": "stream",
     "text": [
      "tensor(13.8152, device='cuda:0', grad_fn=<AddBackward0>)\n",
      "allocated mem - 1.319308288\n",
      "epoch number:  249\n"
     ]
    },
    {
     "name": "stderr",
     "output_type": "stream",
     "text": [
      "100%|█████████████████████████████████████████| 196/196 [02:07<00:00,  1.54it/s]\n"
     ]
    },
    {
     "name": "stdout",
     "output_type": "stream",
     "text": [
      "tensor(13.8669, device='cuda:0', grad_fn=<AddBackward0>)\n",
      "allocated mem - 1.319308288\n",
      "epoch number:  250\n"
     ]
    },
    {
     "name": "stderr",
     "output_type": "stream",
     "text": [
      "100%|█████████████████████████████████████████| 196/196 [02:07<00:00,  1.54it/s]\n"
     ]
    },
    {
     "name": "stdout",
     "output_type": "stream",
     "text": [
      "Saved model at ./weight_cifar/nn_model250.pth\n",
      "tensor(13.9060, device='cuda:0', grad_fn=<AddBackward0>)\n",
      "allocated mem - 1.319308288\n",
      "epoch number:  251\n"
     ]
    },
    {
     "name": "stderr",
     "output_type": "stream",
     "text": [
      "100%|█████████████████████████████████████████| 196/196 [02:07<00:00,  1.54it/s]\n"
     ]
    },
    {
     "name": "stdout",
     "output_type": "stream",
     "text": [
      "tensor(13.8099, device='cuda:0', grad_fn=<AddBackward0>)\n",
      "allocated mem - 1.319308288\n",
      "epoch number:  252\n"
     ]
    },
    {
     "name": "stderr",
     "output_type": "stream",
     "text": [
      "100%|█████████████████████████████████████████| 196/196 [02:07<00:00,  1.54it/s]\n"
     ]
    },
    {
     "name": "stdout",
     "output_type": "stream",
     "text": [
      "tensor(13.9213, device='cuda:0', grad_fn=<AddBackward0>)\n",
      "allocated mem - 1.319308288\n",
      "epoch number:  253\n"
     ]
    },
    {
     "name": "stderr",
     "output_type": "stream",
     "text": [
      "100%|█████████████████████████████████████████| 196/196 [02:07<00:00,  1.54it/s]\n"
     ]
    },
    {
     "name": "stdout",
     "output_type": "stream",
     "text": [
      "tensor(13.9982, device='cuda:0', grad_fn=<AddBackward0>)\n",
      "allocated mem - 1.319308288\n",
      "epoch number:  254\n"
     ]
    },
    {
     "name": "stderr",
     "output_type": "stream",
     "text": [
      "100%|█████████████████████████████████████████| 196/196 [02:07<00:00,  1.54it/s]\n"
     ]
    },
    {
     "name": "stdout",
     "output_type": "stream",
     "text": [
      "tensor(13.9405, device='cuda:0', grad_fn=<AddBackward0>)\n",
      "allocated mem - 1.319308288\n",
      "epoch number:  255\n"
     ]
    },
    {
     "name": "stderr",
     "output_type": "stream",
     "text": [
      "100%|█████████████████████████████████████████| 196/196 [02:07<00:00,  1.53it/s]\n"
     ]
    },
    {
     "name": "stdout",
     "output_type": "stream",
     "text": [
      "tensor(13.7391, device='cuda:0', grad_fn=<AddBackward0>)\n",
      "allocated mem - 1.319308288\n",
      "epoch number:  256\n"
     ]
    },
    {
     "name": "stderr",
     "output_type": "stream",
     "text": [
      "100%|█████████████████████████████████████████| 196/196 [02:07<00:00,  1.54it/s]\n"
     ]
    },
    {
     "name": "stdout",
     "output_type": "stream",
     "text": [
      "tensor(13.7368, device='cuda:0', grad_fn=<AddBackward0>)\n",
      "allocated mem - 1.319308288\n",
      "epoch number:  257\n"
     ]
    },
    {
     "name": "stderr",
     "output_type": "stream",
     "text": [
      "100%|█████████████████████████████████████████| 196/196 [02:07<00:00,  1.54it/s]\n"
     ]
    },
    {
     "name": "stdout",
     "output_type": "stream",
     "text": [
      "tensor(13.8456, device='cuda:0', grad_fn=<AddBackward0>)\n",
      "allocated mem - 1.319308288\n",
      "epoch number:  258\n"
     ]
    },
    {
     "name": "stderr",
     "output_type": "stream",
     "text": [
      "100%|█████████████████████████████████████████| 196/196 [02:07<00:00,  1.54it/s]\n"
     ]
    },
    {
     "name": "stdout",
     "output_type": "stream",
     "text": [
      "tensor(13.7075, device='cuda:0', grad_fn=<AddBackward0>)\n",
      "allocated mem - 1.319308288\n",
      "epoch number:  259\n"
     ]
    },
    {
     "name": "stderr",
     "output_type": "stream",
     "text": [
      "100%|█████████████████████████████████████████| 196/196 [02:07<00:00,  1.54it/s]\n"
     ]
    },
    {
     "name": "stdout",
     "output_type": "stream",
     "text": [
      "tensor(13.8796, device='cuda:0', grad_fn=<AddBackward0>)\n",
      "allocated mem - 1.319308288\n",
      "epoch number:  260\n"
     ]
    },
    {
     "name": "stderr",
     "output_type": "stream",
     "text": [
      "100%|█████████████████████████████████████████| 196/196 [02:07<00:00,  1.54it/s]\n"
     ]
    },
    {
     "name": "stdout",
     "output_type": "stream",
     "text": [
      "Saved model at ./weight_cifar/nn_model260.pth\n",
      "tensor(13.8195, device='cuda:0', grad_fn=<AddBackward0>)\n",
      "allocated mem - 1.319308288\n",
      "epoch number:  261\n"
     ]
    },
    {
     "name": "stderr",
     "output_type": "stream",
     "text": [
      "100%|█████████████████████████████████████████| 196/196 [02:07<00:00,  1.54it/s]\n"
     ]
    },
    {
     "name": "stdout",
     "output_type": "stream",
     "text": [
      "tensor(13.5522, device='cuda:0', grad_fn=<AddBackward0>)\n",
      "allocated mem - 1.319308288\n",
      "epoch number:  262\n"
     ]
    },
    {
     "name": "stderr",
     "output_type": "stream",
     "text": [
      "100%|█████████████████████████████████████████| 196/196 [02:07<00:00,  1.54it/s]\n"
     ]
    },
    {
     "name": "stdout",
     "output_type": "stream",
     "text": [
      "tensor(13.9769, device='cuda:0', grad_fn=<AddBackward0>)\n",
      "allocated mem - 1.319308288\n",
      "epoch number:  263\n"
     ]
    },
    {
     "name": "stderr",
     "output_type": "stream",
     "text": [
      "100%|█████████████████████████████████████████| 196/196 [02:07<00:00,  1.54it/s]\n"
     ]
    },
    {
     "name": "stdout",
     "output_type": "stream",
     "text": [
      "tensor(13.8132, device='cuda:0', grad_fn=<AddBackward0>)\n",
      "allocated mem - 1.319308288\n",
      "epoch number:  264\n"
     ]
    },
    {
     "name": "stderr",
     "output_type": "stream",
     "text": [
      "100%|█████████████████████████████████████████| 196/196 [02:07<00:00,  1.54it/s]\n"
     ]
    },
    {
     "name": "stdout",
     "output_type": "stream",
     "text": [
      "tensor(13.7507, device='cuda:0', grad_fn=<AddBackward0>)\n",
      "allocated mem - 1.319308288\n",
      "epoch number:  265\n"
     ]
    },
    {
     "name": "stderr",
     "output_type": "stream",
     "text": [
      " 23%|█████████▋                                | 45/196 [00:31<01:45,  1.43it/s]\n"
     ]
    },
    {
     "ename": "KeyboardInterrupt",
     "evalue": "",
     "output_type": "error",
     "traceback": [
      "\u001b[0;31m---------------------------------------------------------------------------\u001b[0m",
      "\u001b[0;31mKeyboardInterrupt\u001b[0m                         Traceback (most recent call last)",
      "Cell \u001b[0;32mIn[71], line 25\u001b[0m\n\u001b[1;32m     23\u001b[0m     loss_val\u001b[38;5;241m+\u001b[39m\u001b[38;5;241m=\u001b[39mloss\n\u001b[1;32m     24\u001b[0m     loss\u001b[38;5;241m.\u001b[39mbackward()\n\u001b[0;32m---> 25\u001b[0m     \u001b[43moptim\u001b[49m\u001b[38;5;241;43m.\u001b[39;49m\u001b[43mstep\u001b[49m\u001b[43m(\u001b[49m\u001b[43m)\u001b[49m\n\u001b[1;32m     26\u001b[0m \u001b[38;5;28;01mif\u001b[39;00m(ep\u001b[38;5;241m%\u001b[39m\u001b[38;5;241m10\u001b[39m\u001b[38;5;241m==\u001b[39m\u001b[38;5;241m0\u001b[39m):\n\u001b[1;32m     27\u001b[0m     \u001b[38;5;28;01mif\u001b[39;00m \u001b[38;5;129;01mnot\u001b[39;00m os\u001b[38;5;241m.\u001b[39mpath\u001b[38;5;241m.\u001b[39mexists(save_dir):\n",
      "File \u001b[0;32m~/.local/lib/python3.10/site-packages/torch/optim/optimizer.py:280\u001b[0m, in \u001b[0;36mOptimizer.profile_hook_step.<locals>.wrapper\u001b[0;34m(*args, **kwargs)\u001b[0m\n\u001b[1;32m    276\u001b[0m         \u001b[38;5;28;01melse\u001b[39;00m:\n\u001b[1;32m    277\u001b[0m             \u001b[38;5;28;01mraise\u001b[39;00m \u001b[38;5;167;01mRuntimeError\u001b[39;00m(\u001b[38;5;124mf\u001b[39m\u001b[38;5;124m\"\u001b[39m\u001b[38;5;132;01m{\u001b[39;00mfunc\u001b[38;5;132;01m}\u001b[39;00m\u001b[38;5;124m must return None or a tuple of (new_args, new_kwargs),\u001b[39m\u001b[38;5;124m\"\u001b[39m\n\u001b[1;32m    278\u001b[0m                                \u001b[38;5;124mf\u001b[39m\u001b[38;5;124m\"\u001b[39m\u001b[38;5;124mbut got \u001b[39m\u001b[38;5;132;01m{\u001b[39;00mresult\u001b[38;5;132;01m}\u001b[39;00m\u001b[38;5;124m.\u001b[39m\u001b[38;5;124m\"\u001b[39m)\n\u001b[0;32m--> 280\u001b[0m out \u001b[38;5;241m=\u001b[39m \u001b[43mfunc\u001b[49m\u001b[43m(\u001b[49m\u001b[38;5;241;43m*\u001b[39;49m\u001b[43margs\u001b[49m\u001b[43m,\u001b[49m\u001b[43m \u001b[49m\u001b[38;5;241;43m*\u001b[39;49m\u001b[38;5;241;43m*\u001b[39;49m\u001b[43mkwargs\u001b[49m\u001b[43m)\u001b[49m\n\u001b[1;32m    281\u001b[0m \u001b[38;5;28mself\u001b[39m\u001b[38;5;241m.\u001b[39m_optimizer_step_code()\n\u001b[1;32m    283\u001b[0m \u001b[38;5;66;03m# call optimizer step post hooks\u001b[39;00m\n",
      "File \u001b[0;32m~/.local/lib/python3.10/site-packages/torch/optim/optimizer.py:33\u001b[0m, in \u001b[0;36m_use_grad_for_differentiable.<locals>._use_grad\u001b[0;34m(self, *args, **kwargs)\u001b[0m\n\u001b[1;32m     31\u001b[0m \u001b[38;5;28;01mtry\u001b[39;00m:\n\u001b[1;32m     32\u001b[0m     torch\u001b[38;5;241m.\u001b[39mset_grad_enabled(\u001b[38;5;28mself\u001b[39m\u001b[38;5;241m.\u001b[39mdefaults[\u001b[38;5;124m'\u001b[39m\u001b[38;5;124mdifferentiable\u001b[39m\u001b[38;5;124m'\u001b[39m])\n\u001b[0;32m---> 33\u001b[0m     ret \u001b[38;5;241m=\u001b[39m \u001b[43mfunc\u001b[49m\u001b[43m(\u001b[49m\u001b[38;5;28;43mself\u001b[39;49m\u001b[43m,\u001b[49m\u001b[43m \u001b[49m\u001b[38;5;241;43m*\u001b[39;49m\u001b[43margs\u001b[49m\u001b[43m,\u001b[49m\u001b[43m \u001b[49m\u001b[38;5;241;43m*\u001b[39;49m\u001b[38;5;241;43m*\u001b[39;49m\u001b[43mkwargs\u001b[49m\u001b[43m)\u001b[49m\n\u001b[1;32m     34\u001b[0m \u001b[38;5;28;01mfinally\u001b[39;00m:\n\u001b[1;32m     35\u001b[0m     torch\u001b[38;5;241m.\u001b[39mset_grad_enabled(prev_grad)\n",
      "File \u001b[0;32m~/.local/lib/python3.10/site-packages/torch/optim/adam.py:141\u001b[0m, in \u001b[0;36mAdam.step\u001b[0;34m(self, closure)\u001b[0m\n\u001b[1;32m    130\u001b[0m     beta1, beta2 \u001b[38;5;241m=\u001b[39m group[\u001b[38;5;124m'\u001b[39m\u001b[38;5;124mbetas\u001b[39m\u001b[38;5;124m'\u001b[39m]\n\u001b[1;32m    132\u001b[0m     \u001b[38;5;28mself\u001b[39m\u001b[38;5;241m.\u001b[39m_init_group(\n\u001b[1;32m    133\u001b[0m         group,\n\u001b[1;32m    134\u001b[0m         params_with_grad,\n\u001b[0;32m   (...)\u001b[0m\n\u001b[1;32m    138\u001b[0m         max_exp_avg_sqs,\n\u001b[1;32m    139\u001b[0m         state_steps)\n\u001b[0;32m--> 141\u001b[0m     \u001b[43madam\u001b[49m\u001b[43m(\u001b[49m\n\u001b[1;32m    142\u001b[0m \u001b[43m        \u001b[49m\u001b[43mparams_with_grad\u001b[49m\u001b[43m,\u001b[49m\n\u001b[1;32m    143\u001b[0m \u001b[43m        \u001b[49m\u001b[43mgrads\u001b[49m\u001b[43m,\u001b[49m\n\u001b[1;32m    144\u001b[0m \u001b[43m        \u001b[49m\u001b[43mexp_avgs\u001b[49m\u001b[43m,\u001b[49m\n\u001b[1;32m    145\u001b[0m \u001b[43m        \u001b[49m\u001b[43mexp_avg_sqs\u001b[49m\u001b[43m,\u001b[49m\n\u001b[1;32m    146\u001b[0m \u001b[43m        \u001b[49m\u001b[43mmax_exp_avg_sqs\u001b[49m\u001b[43m,\u001b[49m\n\u001b[1;32m    147\u001b[0m \u001b[43m        \u001b[49m\u001b[43mstate_steps\u001b[49m\u001b[43m,\u001b[49m\n\u001b[1;32m    148\u001b[0m \u001b[43m        \u001b[49m\u001b[43mamsgrad\u001b[49m\u001b[38;5;241;43m=\u001b[39;49m\u001b[43mgroup\u001b[49m\u001b[43m[\u001b[49m\u001b[38;5;124;43m'\u001b[39;49m\u001b[38;5;124;43mamsgrad\u001b[39;49m\u001b[38;5;124;43m'\u001b[39;49m\u001b[43m]\u001b[49m\u001b[43m,\u001b[49m\n\u001b[1;32m    149\u001b[0m \u001b[43m        \u001b[49m\u001b[43mbeta1\u001b[49m\u001b[38;5;241;43m=\u001b[39;49m\u001b[43mbeta1\u001b[49m\u001b[43m,\u001b[49m\n\u001b[1;32m    150\u001b[0m \u001b[43m        \u001b[49m\u001b[43mbeta2\u001b[49m\u001b[38;5;241;43m=\u001b[39;49m\u001b[43mbeta2\u001b[49m\u001b[43m,\u001b[49m\n\u001b[1;32m    151\u001b[0m \u001b[43m        \u001b[49m\u001b[43mlr\u001b[49m\u001b[38;5;241;43m=\u001b[39;49m\u001b[43mgroup\u001b[49m\u001b[43m[\u001b[49m\u001b[38;5;124;43m'\u001b[39;49m\u001b[38;5;124;43mlr\u001b[39;49m\u001b[38;5;124;43m'\u001b[39;49m\u001b[43m]\u001b[49m\u001b[43m,\u001b[49m\n\u001b[1;32m    152\u001b[0m \u001b[43m        \u001b[49m\u001b[43mweight_decay\u001b[49m\u001b[38;5;241;43m=\u001b[39;49m\u001b[43mgroup\u001b[49m\u001b[43m[\u001b[49m\u001b[38;5;124;43m'\u001b[39;49m\u001b[38;5;124;43mweight_decay\u001b[39;49m\u001b[38;5;124;43m'\u001b[39;49m\u001b[43m]\u001b[49m\u001b[43m,\u001b[49m\n\u001b[1;32m    153\u001b[0m \u001b[43m        \u001b[49m\u001b[43meps\u001b[49m\u001b[38;5;241;43m=\u001b[39;49m\u001b[43mgroup\u001b[49m\u001b[43m[\u001b[49m\u001b[38;5;124;43m'\u001b[39;49m\u001b[38;5;124;43meps\u001b[39;49m\u001b[38;5;124;43m'\u001b[39;49m\u001b[43m]\u001b[49m\u001b[43m,\u001b[49m\n\u001b[1;32m    154\u001b[0m \u001b[43m        \u001b[49m\u001b[43mmaximize\u001b[49m\u001b[38;5;241;43m=\u001b[39;49m\u001b[43mgroup\u001b[49m\u001b[43m[\u001b[49m\u001b[38;5;124;43m'\u001b[39;49m\u001b[38;5;124;43mmaximize\u001b[39;49m\u001b[38;5;124;43m'\u001b[39;49m\u001b[43m]\u001b[49m\u001b[43m,\u001b[49m\n\u001b[1;32m    155\u001b[0m \u001b[43m        \u001b[49m\u001b[43mforeach\u001b[49m\u001b[38;5;241;43m=\u001b[39;49m\u001b[43mgroup\u001b[49m\u001b[43m[\u001b[49m\u001b[38;5;124;43m'\u001b[39;49m\u001b[38;5;124;43mforeach\u001b[39;49m\u001b[38;5;124;43m'\u001b[39;49m\u001b[43m]\u001b[49m\u001b[43m,\u001b[49m\n\u001b[1;32m    156\u001b[0m \u001b[43m        \u001b[49m\u001b[43mcapturable\u001b[49m\u001b[38;5;241;43m=\u001b[39;49m\u001b[43mgroup\u001b[49m\u001b[43m[\u001b[49m\u001b[38;5;124;43m'\u001b[39;49m\u001b[38;5;124;43mcapturable\u001b[39;49m\u001b[38;5;124;43m'\u001b[39;49m\u001b[43m]\u001b[49m\u001b[43m,\u001b[49m\n\u001b[1;32m    157\u001b[0m \u001b[43m        \u001b[49m\u001b[43mdifferentiable\u001b[49m\u001b[38;5;241;43m=\u001b[39;49m\u001b[43mgroup\u001b[49m\u001b[43m[\u001b[49m\u001b[38;5;124;43m'\u001b[39;49m\u001b[38;5;124;43mdifferentiable\u001b[39;49m\u001b[38;5;124;43m'\u001b[39;49m\u001b[43m]\u001b[49m\u001b[43m,\u001b[49m\n\u001b[1;32m    158\u001b[0m \u001b[43m        \u001b[49m\u001b[43mfused\u001b[49m\u001b[38;5;241;43m=\u001b[39;49m\u001b[43mgroup\u001b[49m\u001b[43m[\u001b[49m\u001b[38;5;124;43m'\u001b[39;49m\u001b[38;5;124;43mfused\u001b[39;49m\u001b[38;5;124;43m'\u001b[39;49m\u001b[43m]\u001b[49m\u001b[43m,\u001b[49m\n\u001b[1;32m    159\u001b[0m \u001b[43m        \u001b[49m\u001b[43mgrad_scale\u001b[49m\u001b[38;5;241;43m=\u001b[39;49m\u001b[38;5;28;43mgetattr\u001b[39;49m\u001b[43m(\u001b[49m\u001b[38;5;28;43mself\u001b[39;49m\u001b[43m,\u001b[49m\u001b[43m \u001b[49m\u001b[38;5;124;43m\"\u001b[39;49m\u001b[38;5;124;43mgrad_scale\u001b[39;49m\u001b[38;5;124;43m\"\u001b[39;49m\u001b[43m,\u001b[49m\u001b[43m \u001b[49m\u001b[38;5;28;43;01mNone\u001b[39;49;00m\u001b[43m)\u001b[49m\u001b[43m,\u001b[49m\n\u001b[1;32m    160\u001b[0m \u001b[43m        \u001b[49m\u001b[43mfound_inf\u001b[49m\u001b[38;5;241;43m=\u001b[39;49m\u001b[38;5;28;43mgetattr\u001b[39;49m\u001b[43m(\u001b[49m\u001b[38;5;28;43mself\u001b[39;49m\u001b[43m,\u001b[49m\u001b[43m \u001b[49m\u001b[38;5;124;43m\"\u001b[39;49m\u001b[38;5;124;43mfound_inf\u001b[39;49m\u001b[38;5;124;43m\"\u001b[39;49m\u001b[43m,\u001b[49m\u001b[43m \u001b[49m\u001b[38;5;28;43;01mNone\u001b[39;49;00m\u001b[43m)\u001b[49m\u001b[43m,\u001b[49m\n\u001b[1;32m    161\u001b[0m \u001b[43m    \u001b[49m\u001b[43m)\u001b[49m\n\u001b[1;32m    163\u001b[0m \u001b[38;5;28;01mreturn\u001b[39;00m loss\n",
      "File \u001b[0;32m~/.local/lib/python3.10/site-packages/torch/optim/adam.py:281\u001b[0m, in \u001b[0;36madam\u001b[0;34m(params, grads, exp_avgs, exp_avg_sqs, max_exp_avg_sqs, state_steps, foreach, capturable, differentiable, fused, grad_scale, found_inf, amsgrad, beta1, beta2, lr, weight_decay, eps, maximize)\u001b[0m\n\u001b[1;32m    278\u001b[0m \u001b[38;5;28;01melse\u001b[39;00m:\n\u001b[1;32m    279\u001b[0m     func \u001b[38;5;241m=\u001b[39m _single_tensor_adam\n\u001b[0;32m--> 281\u001b[0m \u001b[43mfunc\u001b[49m\u001b[43m(\u001b[49m\u001b[43mparams\u001b[49m\u001b[43m,\u001b[49m\n\u001b[1;32m    282\u001b[0m \u001b[43m     \u001b[49m\u001b[43mgrads\u001b[49m\u001b[43m,\u001b[49m\n\u001b[1;32m    283\u001b[0m \u001b[43m     \u001b[49m\u001b[43mexp_avgs\u001b[49m\u001b[43m,\u001b[49m\n\u001b[1;32m    284\u001b[0m \u001b[43m     \u001b[49m\u001b[43mexp_avg_sqs\u001b[49m\u001b[43m,\u001b[49m\n\u001b[1;32m    285\u001b[0m \u001b[43m     \u001b[49m\u001b[43mmax_exp_avg_sqs\u001b[49m\u001b[43m,\u001b[49m\n\u001b[1;32m    286\u001b[0m \u001b[43m     \u001b[49m\u001b[43mstate_steps\u001b[49m\u001b[43m,\u001b[49m\n\u001b[1;32m    287\u001b[0m \u001b[43m     \u001b[49m\u001b[43mamsgrad\u001b[49m\u001b[38;5;241;43m=\u001b[39;49m\u001b[43mamsgrad\u001b[49m\u001b[43m,\u001b[49m\n\u001b[1;32m    288\u001b[0m \u001b[43m     \u001b[49m\u001b[43mbeta1\u001b[49m\u001b[38;5;241;43m=\u001b[39;49m\u001b[43mbeta1\u001b[49m\u001b[43m,\u001b[49m\n\u001b[1;32m    289\u001b[0m \u001b[43m     \u001b[49m\u001b[43mbeta2\u001b[49m\u001b[38;5;241;43m=\u001b[39;49m\u001b[43mbeta2\u001b[49m\u001b[43m,\u001b[49m\n\u001b[1;32m    290\u001b[0m \u001b[43m     \u001b[49m\u001b[43mlr\u001b[49m\u001b[38;5;241;43m=\u001b[39;49m\u001b[43mlr\u001b[49m\u001b[43m,\u001b[49m\n\u001b[1;32m    291\u001b[0m \u001b[43m     \u001b[49m\u001b[43mweight_decay\u001b[49m\u001b[38;5;241;43m=\u001b[39;49m\u001b[43mweight_decay\u001b[49m\u001b[43m,\u001b[49m\n\u001b[1;32m    292\u001b[0m \u001b[43m     \u001b[49m\u001b[43meps\u001b[49m\u001b[38;5;241;43m=\u001b[39;49m\u001b[43meps\u001b[49m\u001b[43m,\u001b[49m\n\u001b[1;32m    293\u001b[0m \u001b[43m     \u001b[49m\u001b[43mmaximize\u001b[49m\u001b[38;5;241;43m=\u001b[39;49m\u001b[43mmaximize\u001b[49m\u001b[43m,\u001b[49m\n\u001b[1;32m    294\u001b[0m \u001b[43m     \u001b[49m\u001b[43mcapturable\u001b[49m\u001b[38;5;241;43m=\u001b[39;49m\u001b[43mcapturable\u001b[49m\u001b[43m,\u001b[49m\n\u001b[1;32m    295\u001b[0m \u001b[43m     \u001b[49m\u001b[43mdifferentiable\u001b[49m\u001b[38;5;241;43m=\u001b[39;49m\u001b[43mdifferentiable\u001b[49m\u001b[43m,\u001b[49m\n\u001b[1;32m    296\u001b[0m \u001b[43m     \u001b[49m\u001b[43mgrad_scale\u001b[49m\u001b[38;5;241;43m=\u001b[39;49m\u001b[43mgrad_scale\u001b[49m\u001b[43m,\u001b[49m\n\u001b[1;32m    297\u001b[0m \u001b[43m     \u001b[49m\u001b[43mfound_inf\u001b[49m\u001b[38;5;241;43m=\u001b[39;49m\u001b[43mfound_inf\u001b[49m\u001b[43m)\u001b[49m\n",
      "File \u001b[0;32m~/.local/lib/python3.10/site-packages/torch/optim/adam.py:489\u001b[0m, in \u001b[0;36m_multi_tensor_adam\u001b[0;34m(params, grads, exp_avgs, exp_avg_sqs, max_exp_avg_sqs, state_steps, grad_scale, found_inf, amsgrad, beta1, beta2, lr, weight_decay, eps, maximize, capturable, differentiable)\u001b[0m\n\u001b[1;32m    487\u001b[0m     torch\u001b[38;5;241m.\u001b[39m_foreach_addcdiv_(params_, device_exp_avgs, denom)\n\u001b[1;32m    488\u001b[0m \u001b[38;5;28;01melse\u001b[39;00m:\n\u001b[0;32m--> 489\u001b[0m     bias_correction1 \u001b[38;5;241m=\u001b[39m [\u001b[38;5;241m1\u001b[39m \u001b[38;5;241m-\u001b[39m beta1 \u001b[38;5;241m*\u001b[39m\u001b[38;5;241m*\u001b[39m _get_value(step) \u001b[38;5;28;01mfor\u001b[39;00m step \u001b[38;5;129;01min\u001b[39;00m device_state_steps]\n\u001b[1;32m    490\u001b[0m     bias_correction2 \u001b[38;5;241m=\u001b[39m [\u001b[38;5;241m1\u001b[39m \u001b[38;5;241m-\u001b[39m beta2 \u001b[38;5;241m*\u001b[39m\u001b[38;5;241m*\u001b[39m _get_value(step) \u001b[38;5;28;01mfor\u001b[39;00m step \u001b[38;5;129;01min\u001b[39;00m device_state_steps]\n\u001b[1;32m    492\u001b[0m     step_size \u001b[38;5;241m=\u001b[39m _stack_if_compiling([(lr \u001b[38;5;241m/\u001b[39m bc) \u001b[38;5;241m*\u001b[39m \u001b[38;5;241m-\u001b[39m\u001b[38;5;241m1\u001b[39m \u001b[38;5;28;01mfor\u001b[39;00m bc \u001b[38;5;129;01min\u001b[39;00m bias_correction1])\n",
      "File \u001b[0;32m~/.local/lib/python3.10/site-packages/torch/optim/adam.py:489\u001b[0m, in \u001b[0;36m<listcomp>\u001b[0;34m(.0)\u001b[0m\n\u001b[1;32m    487\u001b[0m     torch\u001b[38;5;241m.\u001b[39m_foreach_addcdiv_(params_, device_exp_avgs, denom)\n\u001b[1;32m    488\u001b[0m \u001b[38;5;28;01melse\u001b[39;00m:\n\u001b[0;32m--> 489\u001b[0m     bias_correction1 \u001b[38;5;241m=\u001b[39m [\u001b[38;5;241m1\u001b[39m \u001b[38;5;241m-\u001b[39m beta1 \u001b[38;5;241m*\u001b[39m\u001b[38;5;241m*\u001b[39m \u001b[43m_get_value\u001b[49m\u001b[43m(\u001b[49m\u001b[43mstep\u001b[49m\u001b[43m)\u001b[49m \u001b[38;5;28;01mfor\u001b[39;00m step \u001b[38;5;129;01min\u001b[39;00m device_state_steps]\n\u001b[1;32m    490\u001b[0m     bias_correction2 \u001b[38;5;241m=\u001b[39m [\u001b[38;5;241m1\u001b[39m \u001b[38;5;241m-\u001b[39m beta2 \u001b[38;5;241m*\u001b[39m\u001b[38;5;241m*\u001b[39m _get_value(step) \u001b[38;5;28;01mfor\u001b[39;00m step \u001b[38;5;129;01min\u001b[39;00m device_state_steps]\n\u001b[1;32m    492\u001b[0m     step_size \u001b[38;5;241m=\u001b[39m _stack_if_compiling([(lr \u001b[38;5;241m/\u001b[39m bc) \u001b[38;5;241m*\u001b[39m \u001b[38;5;241m-\u001b[39m\u001b[38;5;241m1\u001b[39m \u001b[38;5;28;01mfor\u001b[39;00m bc \u001b[38;5;129;01min\u001b[39;00m bias_correction1])\n",
      "File \u001b[0;32m~/.local/lib/python3.10/site-packages/torch/optim/optimizer.py:44\u001b[0m, in \u001b[0;36m_get_value\u001b[0;34m(x)\u001b[0m\n\u001b[1;32m     42\u001b[0m     \u001b[38;5;28;01mreturn\u001b[39;00m x\n\u001b[1;32m     43\u001b[0m \u001b[38;5;28;01melse\u001b[39;00m:\n\u001b[0;32m---> 44\u001b[0m     \u001b[38;5;28;01mreturn\u001b[39;00m \u001b[43mx\u001b[49m\u001b[38;5;241;43m.\u001b[39;49m\u001b[43mitem\u001b[49m\u001b[43m(\u001b[49m\u001b[43m)\u001b[49m\n",
      "\u001b[0;31mKeyboardInterrupt\u001b[0m: "
     ]
    }
   ],
   "source": [
    "import os\n",
    "nn_model.train()\n",
    "\n",
    "\n",
    "for ep in range(epoch, n_epoch):\n",
    "    print(\"allocated mem -\", torch.cuda.memory_allocated(torch.device(\"cuda\")) * 1e-9)\n",
    "    print(\"epoch number: \", ep)\n",
    "    optim.param_groups[0]['lr'] = lrate\n",
    "    pbar = tqdm(dataloader, mininterval = 2)\n",
    "    #print(pbar)\n",
    "    #break\n",
    "    #k=0\n",
    "    loss_val = 0\n",
    "    for x,_ in pbar:\n",
    "        optim.zero_grad()\n",
    "        x=x.to(device)\n",
    "        noise = torch.randn_like(x)\n",
    "        t = torch.randint(1, timesteps + 1, (x.shape[0],))\n",
    "        x_pert = perturb_input(x, t, noise).to(device)\n",
    "        pred_noise = nn_model(x_pert, t/timesteps)\n",
    "        loss = F.mse_loss(pred_noise, noise)\n",
    "        #loss_values_1.append(loss.item())\n",
    "        loss_val+=loss\n",
    "        loss.backward()\n",
    "        optim.step()\n",
    "    if(ep%10==0):\n",
    "        if not os.path.exists(save_dir):\n",
    "            os.mkdir(save_dir)\n",
    "        torch.save({\n",
    "            'epoch': ep,\n",
    "            'model_state_dict': nn_model.state_dict(),\n",
    "            'optimizer_state_dict': optim.state_dict(),\n",
    "            'loss': loss_val\n",
    "            }, str(save_dir+f\"nn_model{ep}.pth\"))\n",
    "        print(\"Saved model at \" + str(save_dir+f\"nn_model{ep}.pth\"))\n",
    "    print(loss_val)\n",
    "    "
   ]
  },
  {
   "cell_type": "code",
   "execution_count": 41,
   "metadata": {},
   "outputs": [
    {
     "data": {
      "image/png": "[encoded data removed]",
      "text/plain": [
       "<Figure size 640x480 with 1 Axes>"
      ]
     },
     "metadata": {},
     "output_type": "display_data"
    }
   ],
   "source": [
    "loss_values_1 = torch.tensor(loss_values_1).cpu()\n",
    "plt.plot(np.array(loss_values_1))\n",
    "loss_values_1 = loss_values_1.tolist()"
   ]
  },
  {
   "cell_type": "code",
   "execution_count": 45,
   "metadata": {},
   "outputs": [
    {
     "data": {
      "text/plain": [
       "[1.0425622463226318,\n",
       " 1.0202202796936035,\n",
       " 0.9970542788505554,\n",
       " 0.9773823618888855,\n",
       " 0.9652798175811768,\n",
       " 0.954014778137207,\n",
       " 0.9363252520561218,\n",
       " 0.9280189275741577,\n",
       " 0.915996253490448,\n",
       " 0.8952407240867615,\n",
       " 0.8946956992149353,\n",
       " 0.879905104637146,\n",
       " 0.8704050779342651,\n",
       " 0.8621482849121094,\n",
       " 0.8509654998779297,\n",
       " 0.8377400636672974,\n",
       " 0.8287315368652344,\n",
       " 0.8193833231925964,\n",
       " 0.8089159727096558,\n",
       " 0.7928543090820312,\n",
       " 0.7850136756896973,\n",
       " 0.7857739329338074,\n",
       " 0.7731568813323975,\n",
       " 0.7522597312927246,\n",
       " 0.7492865920066833,\n",
       " 0.7313202619552612,\n",
       " 0.7357608079910278,\n",
       " 0.7279250025749207,\n",
       " 0.7110700011253357,\n",
       " 0.7057894468307495,\n",
       " 0.6850621700286865,\n",
       " 0.6861337423324585,\n",
       " 0.6553335189819336,\n",
       " 0.6462891101837158,\n",
       " 0.6443241834640503,\n",
       " 0.6208381652832031,\n",
       " 0.6262111067771912,\n",
       " 0.6170444488525391,\n",
       " 0.6068087220191956,\n",
       " 0.5896410346031189,\n",
       " 0.5648505687713623,\n",
       " 0.562142550945282,\n",
       " 0.558562159538269,\n",
       " 0.5414583086967468,\n",
       " 0.5365532636642456,\n",
       " 0.5452604293823242,\n",
       " 0.5183343887329102,\n",
       " 0.5167480707168579,\n",
       " 0.5107772946357727,\n",
       " 0.485962837934494,\n",
       " 0.48624753952026367,\n",
       " 0.49424004554748535,\n",
       " 0.4733656048774719,\n",
       " 0.4481668472290039,\n",
       " 0.46617183089256287,\n",
       " 0.4477013945579529,\n",
       " 0.4239620566368103,\n",
       " 0.4698403775691986,\n",
       " 0.42634814977645874,\n",
       " 0.448832243680954,\n",
       " 0.41282224655151367,\n",
       " 0.40336906909942627,\n",
       " 0.3605124354362488,\n",
       " 0.4091451168060303,\n",
       " 0.37236714363098145,\n",
       " 0.36212417483329773,\n",
       " 0.3861556947231293,\n",
       " 0.3649601340293884,\n",
       " 0.36190104484558105,\n",
       " 0.36287111043930054,\n",
       " 0.3701469600200653,\n",
       " 0.32467150688171387,\n",
       " 0.3510790765285492,\n",
       " 0.35184621810913086,\n",
       " 0.3499496877193451,\n",
       " 0.3495296835899353,\n",
       " 0.34920287132263184,\n",
       " 0.3242475092411041,\n",
       " 0.3123488426208496,\n",
       " 0.3286978006362915,\n",
       " 0.31234580278396606,\n",
       " 0.3423648774623871,\n",
       " 0.31111130118370056,\n",
       " 0.2714237868785858,\n",
       " 0.2934054732322693,\n",
       " 0.29597246646881104,\n",
       " 0.2799738049507141,\n",
       " 0.3010568916797638,\n",
       " 0.29419562220573425,\n",
       " 0.2843192219734192,\n",
       " 0.29023072123527527,\n",
       " 0.2754165232181549,\n",
       " 0.28174757957458496,\n",
       " 0.2632870674133301,\n",
       " 0.2739160656929016,\n",
       " 0.26971590518951416,\n",
       " 0.26108604669570923,\n",
       " 0.27813661098480225,\n",
       " 0.27791357040405273,\n",
       " 0.24109992384910583,\n",
       " 0.26523900032043457,\n",
       " 0.2513195276260376,\n",
       " 0.3039094805717468,\n",
       " 0.23568522930145264,\n",
       " 0.21448743343353271,\n",
       " 0.24804334342479706,\n",
       " 0.25090688467025757,\n",
       " 0.23883211612701416,\n",
       " 0.25794529914855957,\n",
       " 0.25624313950538635,\n",
       " 0.2406885027885437,\n",
       " 0.24627304077148438,\n",
       " 0.2587395906448364,\n",
       " 0.22357851266860962,\n",
       " 0.2223215103149414,\n",
       " 0.2371717095375061,\n",
       " 0.20201075077056885,\n",
       " 0.2484467327594757,\n",
       " 0.23182819783687592,\n",
       " 0.2317264974117279,\n",
       " 0.23583613336086273,\n",
       " 0.23214749991893768,\n",
       " 0.23474207520484924,\n",
       " 0.23555657267570496,\n",
       " 0.21749304234981537,\n",
       " 0.21168681979179382,\n",
       " 0.21839448809623718,\n",
       " 0.2311239242553711,\n",
       " 0.20711956918239594,\n",
       " 0.22897598147392273,\n",
       " 0.22007450461387634,\n",
       " 0.2488522231578827,\n",
       " 0.2276075780391693,\n",
       " 0.2381892204284668,\n",
       " 0.2249203771352768,\n",
       " 0.19417467713356018,\n",
       " 0.23496536910533905,\n",
       " 0.1924259066581726,\n",
       " 0.1793273687362671,\n",
       " 0.21098069846630096,\n",
       " 0.20342803001403809,\n",
       " 0.20786917209625244,\n",
       " 0.22937166690826416,\n",
       " 0.21328118443489075,\n",
       " 0.21171140670776367,\n",
       " 0.19273045659065247,\n",
       " 0.21671363711357117,\n",
       " 0.1677519679069519,\n",
       " 0.20653973519802094,\n",
       " 0.20119217038154602,\n",
       " 0.1788143813610077,\n",
       " 0.21566078066825867,\n",
       " 0.209578737616539,\n",
       " 0.2336849570274353,\n",
       " 0.19232532382011414,\n",
       " 0.17988494038581848,\n",
       " 0.19041725993156433,\n",
       " 0.21285615861415863,\n",
       " 0.20718607306480408,\n",
       " 0.22955314815044403,\n",
       " 0.20433585345745087,\n",
       " 0.1905357539653778,\n",
       " 0.20786914229393005,\n",
       " 0.21708714962005615,\n",
       " 0.20043566823005676,\n",
       " 0.17932741343975067,\n",
       " 0.20288658142089844,\n",
       " 0.16918936371803284,\n",
       " 0.2086641490459442,\n",
       " 0.20808641612529755,\n",
       " 0.18031582236289978,\n",
       " 0.20219188928604126,\n",
       " 0.19220826029777527,\n",
       " 0.16061770915985107,\n",
       " 0.1685965359210968,\n",
       " 0.17130979895591736,\n",
       " 0.17947643995285034,\n",
       " 0.18942111730575562,\n",
       " 0.19601988792419434,\n",
       " 0.18003526329994202,\n",
       " 0.19296833872795105,\n",
       " 0.1905735582113266,\n",
       " 0.18554767966270447,\n",
       " 0.21901516616344452,\n",
       " 0.1770130693912506,\n",
       " 0.22030310332775116,\n",
       " 0.17868022620677948,\n",
       " 0.1770721673965454,\n",
       " 0.21609923243522644,\n",
       " 0.21490582823753357,\n",
       " 0.1816709339618683,\n",
       " 0.18839111924171448,\n",
       " 0.23632460832595825,\n",
       " 0.17970919609069824,\n",
       " 0.1863170564174652,\n",
       " 0.15349523723125458,\n",
       " 0.18716125190258026,\n",
       " 0.18751567602157593,\n",
       " 0.20888499915599823,\n",
       " 0.18931452929973602,\n",
       " 0.16474200785160065,\n",
       " 0.16818851232528687,\n",
       " 0.17259334027767181,\n",
       " 0.1898159384727478,\n",
       " 0.19499894976615906,\n",
       " 0.14754951000213623,\n",
       " 0.16926567256450653,\n",
       " 0.2007395476102829,\n",
       " 0.18107657134532928,\n",
       " 0.18813471496105194,\n",
       " 0.1879495084285736,\n",
       " 0.1703784316778183,\n",
       " 0.19628995656967163,\n",
       " 0.18440160155296326,\n",
       " 0.19325391948223114,\n",
       " 0.21878093481063843,\n",
       " 0.207037091255188,\n",
       " 0.18841120600700378,\n",
       " 0.19597527384757996,\n",
       " 0.18465673923492432,\n",
       " 0.18923000991344452,\n",
       " 0.20336274802684784,\n",
       " 0.17528888583183289,\n",
       " 0.21767711639404297,\n",
       " 0.15422344207763672,\n",
       " 0.1810743510723114,\n",
       " 0.14610552787780762,\n",
       " 0.15734444558620453,\n",
       " 0.15792301297187805,\n",
       " 0.1504313349723816,\n",
       " 0.18189352750778198,\n",
       " 0.16928347945213318,\n",
       " 0.16960148513317108,\n",
       " 0.18822871148586273,\n",
       " 0.16429537534713745,\n",
       " 0.1478070318698883,\n",
       " 0.1511029750108719,\n",
       " 0.15511399507522583,\n",
       " 0.15648196637630463,\n",
       " 0.18892090022563934,\n",
       " 0.15510311722755432,\n",
       " 0.17428290843963623,\n",
       " 0.17429402470588684,\n",
       " 0.1818871945142746,\n",
       " 0.163509801030159,\n",
       " 0.16739872097969055,\n",
       " 0.1804848611354828,\n",
       " 0.18986789882183075,\n",
       " 0.16937586665153503,\n",
       " 0.16562944650650024,\n",
       " 0.19886299967765808,\n",
       " 0.19412903487682343,\n",
       " 0.16031360626220703,\n",
       " 0.1928630769252777,\n",
       " 0.17753885686397552,\n",
       " 0.15682241320610046,\n",
       " 0.1624889075756073,\n",
       " 0.1628868579864502,\n",
       " 0.16876903176307678,\n",
       " 0.1939067244529724,\n",
       " 0.17188714444637299,\n",
       " 0.1884133666753769,\n",
       " 0.17063507437705994,\n",
       " 0.16876785457134247,\n",
       " 0.1805845946073532,\n",
       " 0.19447001814842224,\n",
       " 0.14886406064033508,\n",
       " 0.19419482350349426,\n",
       " 0.19765523076057434,\n",
       " 0.14546526968479156,\n",
       " 0.15141382813453674,\n",
       " 0.16507820785045624,\n",
       " 0.18977010250091553,\n",
       " 0.16134390234947205,\n",
       " 0.14849063754081726,\n",
       " 0.1774248331785202,\n",
       " 0.15399976074695587,\n",
       " 0.15901879966259003,\n",
       " 0.1616489589214325,\n",
       " 0.15003709495067596,\n",
       " 0.14548645913600922,\n",
       " 0.14956018328666687,\n",
       " 0.13421779870986938,\n",
       " 0.15141284465789795,\n",
       " 0.1407276690006256,\n",
       " 0.19083568453788757,\n",
       " 0.16619139909744263,\n",
       " 0.13975553214550018,\n",
       " 0.18982172012329102,\n",
       " 0.18118922412395477,\n",
       " 0.15374384820461273,\n",
       " 0.1557551920413971,\n",
       " 0.17819073796272278,\n",
       " 0.154585063457489,\n",
       " 0.1538609266281128,\n",
       " 0.14269860088825226,\n",
       " 0.15747666358947754,\n",
       " 0.15792028605937958,\n",
       " 0.1746404618024826,\n",
       " 0.1478860080242157,\n",
       " 0.16848967969417572,\n",
       " 0.18634270131587982,\n",
       " 0.1803593635559082,\n",
       " 0.15061748027801514,\n",
       " 0.1448051780462265,\n",
       " 0.21216008067131042,\n",
       " 0.17118620872497559,\n",
       " 0.14729078114032745,\n",
       " 0.15924321115016937,\n",
       " 0.16557888686656952,\n",
       " 0.1552187204360962,\n",
       " 0.15979059040546417,\n",
       " 0.16205523908138275,\n",
       " 0.19348931312561035,\n",
       " 0.17768912017345428,\n",
       " 0.14628224074840546,\n",
       " 0.14768674969673157,\n",
       " 0.1459437906742096,\n",
       " 0.17907337844371796,\n",
       " 0.1759844869375229,\n",
       " 0.17462585866451263,\n",
       " 0.15931051969528198,\n",
       " 0.14866244792938232,\n",
       " 0.15407033264636993,\n",
       " 0.15303166210651398,\n",
       " 0.1490194946527481,\n",
       " 0.13683415949344635,\n",
       " 0.15397384762763977,\n",
       " 0.16625277698040009,\n",
       " 0.1808519810438156,\n",
       " 0.15885251760482788,\n",
       " 0.13625821471214294,\n",
       " 0.15491706132888794,\n",
       " 0.16025815904140472,\n",
       " 0.16741614043712616,\n",
       " 0.15579958260059357,\n",
       " 0.1701900064945221,\n",
       " 0.13364335894584656,\n",
       " 0.16943970322608948,\n",
       " 0.16799114644527435,\n",
       " 0.1544177234172821,\n",
       " 0.1549457609653473,\n",
       " 0.16927461326122284,\n",
       " 0.13443920016288757,\n",
       " 0.16769418120384216,\n",
       " 0.16271500289440155,\n",
       " 0.1585463434457779,\n",
       " 0.1632867157459259,\n",
       " 0.16849765181541443,\n",
       " 0.11981624364852905,\n",
       " 0.1655707061290741,\n",
       " 0.15006974339485168,\n",
       " 0.12590548396110535,\n",
       " 0.1754724681377411,\n",
       " 0.1400187611579895,\n",
       " 0.16228064894676208,\n",
       " 0.15425175428390503,\n",
       " 0.1654682755470276,\n",
       " 0.1380973905324936,\n",
       " 0.1625262349843979,\n",
       " 0.16926205158233643,\n",
       " 0.13096186518669128,\n",
       " 0.143583744764328,\n",
       " 0.16402938961982727,\n",
       " 0.14776059985160828,\n",
       " 0.13500623404979706,\n",
       " 0.1438189595937729,\n",
       " 0.14722400903701782,\n",
       " 0.1595689356327057,\n",
       " 0.16939422488212585,\n",
       " 0.13484013080596924,\n",
       " 0.14903272688388824,\n",
       " 0.1725306361913681,\n",
       " 0.14818313717842102,\n",
       " 0.16972856223583221,\n",
       " 0.14211320877075195,\n",
       " 0.13917014002799988,\n",
       " 0.1599445790052414,\n",
       " 0.16792970895767212,\n",
       " 0.14885082840919495,\n",
       " 0.14391177892684937,\n",
       " 0.15149293839931488,\n",
       " 0.1603248119354248,\n",
       " 0.1288679838180542,\n",
       " 0.12404938787221909,\n",
       " 0.13892672955989838,\n",
       " 0.13463306427001953,\n",
       " 0.14121130108833313,\n",
       " 0.1310110092163086,\n",
       " 0.17527401447296143,\n",
       " 0.1386203169822693,\n",
       " 0.16107453405857086,\n",
       " 0.16847527027130127,\n",
       " 0.16672460734844208,\n",
       " 0.14531540870666504,\n",
       " 0.18234243988990784,\n",
       " 0.17185664176940918,\n",
       " 0.14230355620384216,\n",
       " 0.15335269272327423,\n",
       " 0.14244745671749115,\n",
       " 0.14257436990737915,\n",
       " 0.1496604084968567,\n",
       " 0.13452807068824768,\n",
       " 0.14565783739089966,\n",
       " 0.15591758489608765,\n",
       " 0.1769631803035736,\n",
       " 0.16991309821605682,\n",
       " 0.16590967774391174,\n",
       " 0.14684796333312988,\n",
       " 0.1332419067621231,\n",
       " 0.1481989026069641,\n",
       " 0.14518696069717407,\n",
       " 0.12998977303504944,\n",
       " 0.14101868867874146,\n",
       " 0.13155019283294678,\n",
       " 0.16953597962856293,\n",
       " 0.1405174732208252,\n",
       " 0.16185732185840607,\n",
       " 0.15844354033470154,\n",
       " 0.14397013187408447,\n",
       " 0.16141411662101746,\n",
       " 0.12140670418739319,\n",
       " 0.14998500049114227,\n",
       " 0.1397017389535904,\n",
       " 0.13566911220550537,\n",
       " 0.1623740792274475,\n",
       " 0.13852143287658691,\n",
       " 0.15251567959785461,\n",
       " 0.1814955770969391,\n",
       " 0.1356348991394043,\n",
       " 0.15619727969169617,\n",
       " 0.15910175442695618,\n",
       " 0.14029008150100708,\n",
       " 0.1476495862007141,\n",
       " 0.12690404057502747,\n",
       " 0.1646985113620758,\n",
       " 0.12839356064796448,\n",
       " 0.13773107528686523,\n",
       " 0.14459937810897827,\n",
       " 0.136441171169281,\n",
       " 0.16770300269126892,\n",
       " 0.12569481134414673,\n",
       " 0.14429602026939392,\n",
       " 0.14419373869895935,\n",
       " 0.1624407023191452,\n",
       " 0.1625148057937622,\n",
       " 0.16409049928188324,\n",
       " 0.14281810820102692,\n",
       " 0.1594254970550537,\n",
       " 0.16663314402103424,\n",
       " 0.14911706745624542,\n",
       " 0.15602582693099976,\n",
       " 0.15588179230690002,\n",
       " 0.12786027789115906,\n",
       " 0.12921342253684998,\n",
       " 0.14187434315681458,\n",
       " 0.15103395283222198,\n",
       " 0.1590682715177536,\n",
       " 0.13334988057613373,\n",
       " 0.15917639434337616,\n",
       " 0.14184266328811646,\n",
       " 0.18572573363780975,\n",
       " 0.16258013248443604,\n",
       " 0.14517194032669067,\n",
       " 0.1407032310962677,\n",
       " 0.12673932313919067,\n",
       " 0.13339875638484955,\n",
       " 0.15850648283958435,\n",
       " 0.1827491968870163,\n",
       " 0.10487870872020721,\n",
       " 0.14008179306983948,\n",
       " 0.14769798517227173,\n",
       " 0.155800923705101,\n",
       " 0.13976939022541046,\n",
       " 0.13958969712257385,\n",
       " 0.14096319675445557,\n",
       " 0.15295487642288208,\n",
       " 0.11488300561904907,\n",
       " 0.12498261034488678,\n",
       " 0.12552809715270996,\n",
       " 0.14288514852523804,\n",
       " 0.14288906753063202,\n",
       " 0.13866379857063293,\n",
       " 0.146133691072464,\n",
       " 0.15735062956809998,\n",
       " 0.1268215775489807,\n",
       " 0.14747433364391327,\n",
       " 0.13085518777370453,\n",
       " 0.1519327014684677,\n",
       " 0.1316480040550232,\n",
       " 0.14843761920928955,\n",
       " 0.1692447066307068,\n",
       " 0.16432148218154907,\n",
       " 0.15382687747478485,\n",
       " 0.14431750774383545,\n",
       " 0.12917962670326233,\n",
       " 0.13187961280345917,\n",
       " 0.15016727149486542,\n",
       " 0.14317117631435394,\n",
       " 0.1389550268650055,\n",
       " 0.10790185630321503,\n",
       " 0.14071018993854523,\n",
       " 0.11216095089912415,\n",
       " 0.1208619475364685,\n",
       " 0.14592382311820984,\n",
       " 0.14250388741493225,\n",
       " 0.12479227781295776,\n",
       " 0.16831421852111816,\n",
       " 0.1426410675048828,\n",
       " 0.16081491112709045,\n",
       " 0.14925682544708252,\n",
       " 0.11952036619186401,\n",
       " 0.17876359820365906,\n",
       " 0.16154038906097412,\n",
       " 0.1255841851234436,\n",
       " 0.15213662385940552,\n",
       " 0.14943066239356995,\n",
       " 0.1295250654220581,\n",
       " 0.13018392026424408,\n",
       " 0.13591474294662476,\n",
       " 0.14183947443962097,\n",
       " 0.14026615023612976,\n",
       " 0.1422010362148285,\n",
       " 0.1271410882472992,\n",
       " 0.1350322812795639,\n",
       " 0.1254313588142395,\n",
       " 0.13117825984954834,\n",
       " 0.14227807521820068,\n",
       " 0.12352393567562103,\n",
       " 0.13416197896003723,\n",
       " 0.14296197891235352,\n",
       " 0.13130170106887817,\n",
       " 0.12551471590995789,\n",
       " 0.13913968205451965,\n",
       " 0.13388241827487946,\n",
       " 0.14945441484451294,\n",
       " 0.13060423731803894,\n",
       " 0.11430034041404724,\n",
       " 0.12957996129989624,\n",
       " 0.15576380491256714,\n",
       " 0.10946083068847656,\n",
       " 0.12338011711835861,\n",
       " 0.14441418647766113,\n",
       " 0.13970673084259033,\n",
       " 0.14833155274391174,\n",
       " 0.12955382466316223,\n",
       " 0.13765335083007812,\n",
       " 0.12453403323888779,\n",
       " 0.14028392732143402,\n",
       " 0.12988609075546265,\n",
       " 0.14042800664901733,\n",
       " 0.12861815094947815,\n",
       " 0.11518813669681549,\n",
       " 0.12023084610700607,\n",
       " 0.1542043685913086,\n",
       " 0.143114373087883,\n",
       " 0.13647902011871338,\n",
       " 0.12604191899299622,\n",
       " 0.14157184958457947,\n",
       " 0.155354306101799,\n",
       " 0.144939124584198,\n",
       " 0.17328307032585144,\n",
       " 0.14765876531600952,\n",
       " 0.11280326545238495,\n",
       " 0.13447649776935577,\n",
       " 0.14381343126296997,\n",
       " 0.1222311481833458,\n",
       " 0.11835001409053802,\n",
       " 0.12023055553436279,\n",
       " 0.1583886742591858,\n",
       " 0.12830543518066406,\n",
       " 0.13893678784370422,\n",
       " 0.12748855352401733,\n",
       " 0.1485995352268219,\n",
       " 0.14284257590770721,\n",
       " 0.1337994635105133,\n",
       " 0.13837924599647522,\n",
       " 0.13488702476024628,\n",
       " 0.1533716768026352,\n",
       " 0.12269675731658936,\n",
       " 0.15862441062927246,\n",
       " 0.12447354197502136,\n",
       " 0.13393473625183105,\n",
       " 0.12781932950019836,\n",
       " 0.12867103517055511,\n",
       " 0.13560616970062256,\n",
       " 0.10079044103622437,\n",
       " 0.1141488179564476,\n",
       " 0.15380316972732544,\n",
       " 0.1260213851928711,\n",
       " 0.1253376305103302,\n",
       " 0.1495218276977539,\n",
       " 0.1474636197090149,\n",
       " 0.13659098744392395,\n",
       " 0.15174677968025208,\n",
       " 0.16172292828559875,\n",
       " 0.12596677243709564,\n",
       " 0.12055914103984833,\n",
       " 0.1179492324590683,\n",
       " 0.14502213895320892,\n",
       " 0.14025381207466125,\n",
       " 0.14478091895580292,\n",
       " 0.13185366988182068,\n",
       " 0.12934598326683044,\n",
       " 0.12475746124982834,\n",
       " 0.14534275233745575,\n",
       " 0.12388136982917786,\n",
       " 0.13175956904888153,\n",
       " 0.1156553328037262,\n",
       " 0.12723112106323242,\n",
       " 0.13892321288585663,\n",
       " 0.14872251451015472,\n",
       " 0.10801476240158081,\n",
       " 0.16011810302734375,\n",
       " 0.13052260875701904,\n",
       " 0.12078781425952911,\n",
       " 0.12618552148342133,\n",
       " 0.14965957403182983,\n",
       " 0.13783754408359528,\n",
       " 0.1251230537891388,\n",
       " 0.14271044731140137,\n",
       " 0.13369815051555634,\n",
       " 0.1331663876771927,\n",
       " 0.1271401345729828,\n",
       " 0.16405785083770752,\n",
       " 0.1275702565908432,\n",
       " 0.13772635161876678,\n",
       " 0.12744103372097015,\n",
       " 0.16154351830482483,\n",
       " 0.14708437025547028,\n",
       " 0.11682657897472382,\n",
       " 0.14258776605129242,\n",
       " 0.1414555162191391,\n",
       " 0.11497099697589874,\n",
       " 0.11094766110181808,\n",
       " 0.16168051958084106,\n",
       " 0.11979188770055771,\n",
       " 0.13209769129753113,\n",
       " 0.10795295238494873,\n",
       " 0.11825232952833176,\n",
       " 0.115144282579422,\n",
       " 0.1678529977798462,\n",
       " 0.14993268251419067,\n",
       " 0.13022269308567047,\n",
       " 0.14373932778835297,\n",
       " 0.14049354195594788,\n",
       " 0.15860818326473236,\n",
       " 0.13826918601989746,\n",
       " 0.11305608600378036,\n",
       " 0.14259789884090424,\n",
       " 0.12631160020828247,\n",
       " 0.1701180338859558,\n",
       " 0.14149579405784607,\n",
       " 0.12254185974597931,\n",
       " 0.11861912906169891,\n",
       " 0.13244885206222534,\n",
       " 0.17279677093029022,\n",
       " 0.1405031532049179,\n",
       " 0.11926794052124023,\n",
       " 0.12349697202444077,\n",
       " 0.1547212153673172,\n",
       " 0.12811602652072906,\n",
       " 0.11821969598531723,\n",
       " 0.1314641833305359,\n",
       " 0.12595170736312866,\n",
       " 0.1431654691696167,\n",
       " 0.13963578641414642,\n",
       " 0.12415365874767303,\n",
       " 0.1484776735305786,\n",
       " 0.1445142924785614,\n",
       " 0.13741908967494965,\n",
       " 0.13207685947418213,\n",
       " 0.14276179671287537,\n",
       " 0.14099285006523132,\n",
       " 0.12109439820051193,\n",
       " 0.13408103585243225,\n",
       " 0.12723007798194885,\n",
       " 0.14343808591365814,\n",
       " 0.15430183708667755,\n",
       " 0.14495161175727844,\n",
       " 0.10712754726409912,\n",
       " 0.1436169445514679,\n",
       " 0.1463966816663742,\n",
       " 0.12789303064346313,\n",
       " 0.10467024892568588,\n",
       " 0.12130212038755417,\n",
       " 0.13241475820541382,\n",
       " 0.14711993932724,\n",
       " 0.12227056920528412,\n",
       " 0.10628020763397217,\n",
       " 0.1356515735387802,\n",
       " 0.16298630833625793,\n",
       " 0.1239953488111496,\n",
       " 0.1393732875585556,\n",
       " 0.12877866625785828,\n",
       " 0.12738493084907532,\n",
       " 0.12691059708595276,\n",
       " 0.14663974940776825,\n",
       " 0.13601036369800568,\n",
       " 0.137281596660614,\n",
       " 0.13672208786010742,\n",
       " 0.1390923708677292,\n",
       " 0.13185305893421173,\n",
       " 0.12945982813835144,\n",
       " 0.1440412849187851,\n",
       " 0.11888431012630463,\n",
       " 0.12792615592479706,\n",
       " 0.12922538816928864,\n",
       " 0.1328779011964798,\n",
       " 0.12754926085472107,\n",
       " 0.11890332400798798,\n",
       " 0.12537109851837158,\n",
       " 0.09623517841100693,\n",
       " 0.1364862471818924,\n",
       " 0.12569431960582733,\n",
       " 0.12431847304105759,\n",
       " 0.15328556299209595,\n",
       " 0.11773385107517242,\n",
       " 0.13540704548358917,\n",
       " 0.10488863289356232,\n",
       " 0.14599603414535522,\n",
       " 0.11580723524093628,\n",
       " 0.15025143325328827,\n",
       " 0.1339530646800995,\n",
       " 0.14033547043800354,\n",
       " 0.13318759202957153,\n",
       " 0.12225855886936188,\n",
       " 0.154382586479187,\n",
       " 0.10037161409854889,\n",
       " 0.11860226839780807,\n",
       " 0.12392199039459229,\n",
       " 0.1178351640701294,\n",
       " 0.11518355458974838,\n",
       " 0.13378271460533142,\n",
       " 0.12234996259212494,\n",
       " 0.14115360379219055,\n",
       " 0.15306051075458527,\n",
       " 0.10462941229343414,\n",
       " 0.12021961808204651,\n",
       " 0.13604789972305298,\n",
       " 0.11696021258831024,\n",
       " 0.17093543708324432,\n",
       " 0.1321614682674408,\n",
       " 0.1329060047864914,\n",
       " 0.11705252528190613,\n",
       " 0.11715134233236313,\n",
       " 0.11545922607183456,\n",
       " 0.11812537908554077,\n",
       " 0.12049125134944916,\n",
       " 0.12960170209407806,\n",
       " 0.1389540135860443,\n",
       " 0.11221888661384583,\n",
       " 0.11311137676239014,\n",
       " 0.09359820932149887,\n",
       " 0.13649329543113708,\n",
       " 0.11761462688446045,\n",
       " 0.12596747279167175,\n",
       " 0.14471778273582458,\n",
       " 0.12934610247612,\n",
       " 0.14796948432922363,\n",
       " 0.11285795271396637,\n",
       " 0.11390005052089691,\n",
       " 0.13217702507972717,\n",
       " 0.12134673446416855,\n",
       " 0.1546383798122406,\n",
       " 0.12046947330236435,\n",
       " 0.13090041279792786,\n",
       " 0.13296721875667572,\n",
       " 0.149354487657547,\n",
       " 0.11756519973278046,\n",
       " 0.10519536584615707,\n",
       " 0.12253633141517639,\n",
       " 0.13290852308273315,\n",
       " 0.11275902390480042,\n",
       " 0.11109733581542969,\n",
       " 0.11633633077144623,\n",
       " 0.10373999178409576,\n",
       " 0.10763763636350632,\n",
       " 0.13007108867168427,\n",
       " 0.14773665368556976,\n",
       " 0.12492849677801132,\n",
       " 0.14532390236854553,\n",
       " 0.12726369500160217,\n",
       " 0.11646860837936401,\n",
       " 0.128451868891716,\n",
       " 0.15033239126205444,\n",
       " 0.1407179981470108,\n",
       " 0.1312302052974701,\n",
       " 0.1361190378665924,\n",
       " 0.11301465332508087,\n",
       " 0.12126361578702927,\n",
       " 0.10779335349798203,\n",
       " 0.12970004975795746,\n",
       " 0.10677920281887054,\n",
       " 0.15743407607078552,\n",
       " 0.12830904126167297,\n",
       " 0.11948247253894806,\n",
       " 0.12812232971191406,\n",
       " 0.144454225897789,\n",
       " 0.1035146713256836,\n",
       " 0.12766173481941223,\n",
       " 0.11322208493947983,\n",
       " 0.11991026252508163,\n",
       " 0.1453390121459961,\n",
       " 0.14907756447792053,\n",
       " 0.13469552993774414,\n",
       " 0.12364953756332397,\n",
       " 0.13404744863510132,\n",
       " 0.13152605295181274,\n",
       " 0.1435636430978775,\n",
       " 0.11353921890258789,\n",
       " 0.12672215700149536,\n",
       " 0.11861206591129303,\n",
       " 0.12025155872106552,\n",
       " 0.1265975534915924,\n",
       " 0.113176129758358,\n",
       " 0.11421962082386017,\n",
       " 0.11591404676437378,\n",
       " 0.1092400997877121,\n",
       " 0.12066590785980225,\n",
       " 0.1615552008152008,\n",
       " 0.14087547361850739,\n",
       " 0.11114468425512314,\n",
       " 0.11086948961019516,\n",
       " 0.10812079906463623,\n",
       " 0.11773773282766342,\n",
       " 0.1108861193060875,\n",
       " 0.12143849581480026,\n",
       " 0.11781011521816254,\n",
       " 0.13374346494674683,\n",
       " 0.13637138903141022,\n",
       " 0.13082243502140045,\n",
       " 0.1162772998213768,\n",
       " 0.11069659888744354,\n",
       " 0.11733745038509369,\n",
       " 0.11955871433019638,\n",
       " 0.11123944818973541,\n",
       " 0.12400736659765244,\n",
       " 0.135677307844162,\n",
       " 0.11061303317546844,\n",
       " 0.12069519609212875,\n",
       " 0.12741459906101227,\n",
       " 0.11035716533660889,\n",
       " 0.139072448015213,\n",
       " 0.09332599490880966,\n",
       " 0.12859587371349335,\n",
       " 0.12356895208358765,\n",
       " 0.14502879977226257,\n",
       " 0.11702360957860947,\n",
       " 0.09454052895307541,\n",
       " 0.11108098924160004,\n",
       " 0.11904875934123993,\n",
       " 0.12440647929906845,\n",
       " 0.10735611617565155,\n",
       " 0.12392457574605942,\n",
       " 0.11374819278717041,\n",
       " 0.12260597199201584,\n",
       " 0.12794318795204163,\n",
       " 0.10816299170255661,\n",
       " 0.11763431876897812,\n",
       " 0.09856119006872177,\n",
       " 0.0972951278090477,\n",
       " 0.12887080013751984,\n",
       " 0.14509327709674835,\n",
       " 0.11747678369283676,\n",
       " 0.10516238212585449,\n",
       " 0.1420724242925644,\n",
       " 0.15946118533611298,\n",
       " 0.1075482964515686,\n",
       " 0.10362695157527924,\n",
       " 0.16615568101406097,\n",
       " 0.11740297079086304,\n",
       " 0.12619927525520325,\n",
       " 0.12440525740385056,\n",
       " 0.14431153237819672,\n",
       " 0.12870901823043823,\n",
       " 0.14763441681861877,\n",
       " 0.15712305903434753,\n",
       " 0.09620283544063568,\n",
       " 0.11541800200939178,\n",
       " 0.08829687535762787,\n",
       " 0.09259411692619324,\n",
       " 0.11142313480377197,\n",
       " 0.14452901482582092,\n",
       " 0.10159461200237274,\n",
       " 0.12056809663772583,\n",
       " 0.12185071408748627,\n",
       " 0.12024527788162231,\n",
       " 0.1062341183423996,\n",
       " 0.1079680547118187,\n",
       " 0.11910050362348557,\n",
       " 0.1465030312538147,\n",
       " 0.1310431957244873,\n",
       " 0.08903094381093979,\n",
       " 0.12451723217964172,\n",
       " 0.12156940996646881,\n",
       " 0.146147221326828,\n",
       " 0.11290933936834335,\n",
       " 0.12113472074270248,\n",
       " 0.14002108573913574,\n",
       " 0.15788736939430237,\n",
       " 0.14195537567138672,\n",
       " 0.12645578384399414,\n",
       " 0.12122213840484619,\n",
       " 0.13475798070430756,\n",
       " 0.12197759002447128,\n",
       " 0.13094617426395416,\n",
       " 0.12951594591140747,\n",
       " 0.12247224152088165,\n",
       " 0.13530191779136658,\n",
       " 0.10912525653839111,\n",
       " 0.12071418017148972,\n",
       " 0.13560143113136292,\n",
       " 0.11194517463445663,\n",
       " 0.10922400653362274,\n",
       " 0.1362370103597641,\n",
       " 0.13197076320648193,\n",
       " 0.11734779179096222,\n",
       " 0.10234414041042328,\n",
       " 0.12515351176261902,\n",
       " 0.11884646117687225,\n",
       " 0.11372213065624237,\n",
       " 0.12163414806127548,\n",
       " 0.11056715250015259,\n",
       " 0.11788158118724823,\n",
       " 0.10900244116783142,\n",
       " 0.11649223417043686,\n",
       " 0.11585211753845215,\n",
       " 0.13188666105270386,\n",
       " 0.13744236528873444,\n",
       " 0.1169157326221466,\n",
       " 0.10764026641845703,\n",
       " 0.09684889018535614,\n",
       " 0.10313557833433151,\n",
       " 0.11381188035011292,\n",
       " 0.11337749660015106,\n",
       " 0.09260755777359009,\n",
       " 0.10201871395111084,\n",
       " 0.12504306435585022,\n",
       " 0.1066930741071701,\n",
       " 0.11619073152542114,\n",
       " 0.11412491649389267,\n",
       " 0.11057440936565399,\n",
       " 0.13234446942806244,\n",
       " 0.11231066286563873,\n",
       " 0.11066415160894394,\n",
       " 0.11924948543310165,\n",
       " 0.12876801192760468,\n",
       " 0.11840730905532837,\n",
       " 0.09839482605457306,\n",
       " 0.09628264605998993,\n",
       " 0.13749274611473083,\n",
       " 0.11206674575805664,\n",
       " 0.0855565071105957,\n",
       " 0.10712449252605438,\n",
       " 0.14515627920627594,\n",
       " 0.110604427754879,\n",
       " 0.11890780925750732,\n",
       " 0.1513974666595459,\n",
       " 0.11520516127347946,\n",
       " 0.12174966186285019,\n",
       " 0.12117965519428253,\n",
       " 0.13914433121681213,\n",
       " 0.13165302574634552,\n",
       " 0.11928831785917282,\n",
       " 0.11440470069646835,\n",
       " 0.10659980773925781,\n",
       " 0.10211040824651718,\n",
       " 0.12937335669994354,\n",
       " 0.12078224122524261,\n",
       " 0.11257457733154297,\n",
       " 0.12180677056312561,\n",
       " 0.14197765290737152,\n",
       " 0.12095662206411362,\n",
       " 0.11426763981580734,\n",
       " 0.08901169151067734,\n",
       " 0.12834537029266357,\n",
       " 0.09948548674583435,\n",
       " 0.10835899412631989,\n",
       " 0.1521366685628891,\n",
       " 0.13309207558631897,\n",
       " 0.11457234621047974,\n",
       " 0.12383958697319031,\n",
       " 0.1318921446800232,\n",
       " 0.1041276678442955,\n",
       " 0.14122991263866425,\n",
       " 0.11762332171201706,\n",
       " 0.12323786318302155,\n",
       " 0.1117553561925888,\n",
       " 0.12350881099700928,\n",
       " 0.12580668926239014,\n",
       " 0.14472761750221252,\n",
       " 0.1250542402267456,\n",
       " 0.11065524816513062,\n",
       " 0.1090938076376915,\n",
       " 0.12962031364440918,\n",
       " 0.11847333610057831,\n",
       " 0.1297423094511032,\n",
       " 0.11260726302862167,\n",
       " 0.1016850695014,\n",
       " ...]"
      ]
     },
     "execution_count": 45,
     "metadata": {},
     "output_type": "execute_result"
    }
   ],
   "source": [
    "loss_values_1"
   ]
  },
  {
   "cell_type": "code",
   "execution_count": 42,
   "metadata": {},
   "outputs": [
    {
     "data": {
      "text/plain": [
       "[<matplotlib.lines.Line2D at 0x7f6ed05d1cc0>]"
      ]
     },
     "execution_count": 42,
     "metadata": {},
     "output_type": "execute_result"
    },
    {
     "data": {
      "image/png": "[encoded data removed]",
      "text/plain": [
       "<Figure size 640x480 with 1 Axes>"
      ]
     },
     "metadata": {},
     "output_type": "display_data"
    }
   ],
   "source": [
    "loss_values_1 = np.asarray(loss_values_1)\n",
    "sum1=0\n",
    "loss_values_epoch=[]\n",
    "for i in range(1, loss_values_1.shape[0]):\n",
    "    sum1+=loss_values_1[i]\n",
    "    if(i%200==0):\n",
    "        loss_values_epoch.append(sum1)\n",
    "        sum1=0\n",
    "loss_values_epoch = np.asarray(loss_values_epoch)\n",
    "plt.plot(loss_values_epoch)"
   ]
  },
  {
   "cell_type": "code",
   "execution_count": null,
   "metadata": {},
   "outputs": [],
   "source": [
    "loss_values_1.shape"
   ]
  },
  {
   "cell_type": "code",
   "execution_count": 77,
   "metadata": {},
   "outputs": [
    {
     "data": {
      "image/png": "[encoded data removed]",
      "text/plain": [
       "<Figure size 400x200 with 16 Axes>"
      ]
     },
     "metadata": {},
     "output_type": "display_data"
    }
   ],
   "source": [
    "# user defined context\n",
    "ctx = torch.tensor([\n",
    "    # hero, non-hero, food, spell, side-facing\n",
    "    [1,0,0,0,0,0,0,0,0,0],  \n",
    "    [0,1,0,0,0,0,0,0,0,0],    \n",
    "    [0,0,1,0,0,0,0,0,0,0],\n",
    "    [0,0,0,1,0,0,0,0,0,0],\n",
    "    [0,0,0,0,1,0,0,0,0,0],\n",
    "    [0,0,0,0,0,1,0,0,0,0],\n",
    "    [0,0,0,0,0,0,1,0,0,0],\n",
    "    [0,0,0,0,0,0,0,1,0,0],\n",
    "    \n",
    "    [0,0,0,0,0,0,0,0,1,0],\n",
    "    [0,0,0,0,0,0,0,0,0,1]\n",
    "]).float().to(device)\n",
    "samples, _ = sample_ddpm_context(16)\n",
    "show_images(samples)"
   ]
  },
  {
   "cell_type": "code",
   "execution_count": null,
   "metadata": {},
   "outputs": [],
   "source": [
    "# mix of defined context\n",
    "ctx = torch.tensor([\n",
    "    [1,0,0,0,0,0,0,0,0,0],\n",
    "    [0.9,0.1,0,0,0,0,0,0,0,0],\n",
    "    [0.8,0.2,0,0,0,0,0,0,0,0],\n",
    "    [0.7,0.3,0,0,0,0,0,0,0,0],\n",
    "    [0.6,0.4,0,0,0,0,0,0,0,0],\n",
    "    [0.5,0.5,0,0,0,0,0,0,0,0],\n",
    "    [0.4,0.6,0,0,0,0,0,0,0,0],\n",
    "    [0.3,0.7,0,0,0,0,0,0,0,0],\n",
    "    [0.2,0.8,0,0,0,0,0,0,0,0],\n",
    "    [0.1,0.9,0,0,0,0,0,0,0,0],\n",
    "    [0,1,0,0,0,0,0,0,0,0],\n",
    "]).float().to(device)\n",
    "\n",
    "samples, _ = sample_ddpm_context(ctx.shape[0], ctx)\n",
    "show_images(samples)"
   ]
  },
  {
   "cell_type": "code",
   "execution_count": null,
   "metadata": {},
   "outputs": [],
   "source": [
    "# user defined context\n",
    "ctx = torch.tensor([\n",
    "    # hero, non-hero, food, spell, side-facing\n",
    "    [1,0,0,0,0,0,0,0,0,0],  \n",
    "    [0,1,0,0,0,0,0,0,0,0],    \n",
    "    [0,0,1,0,0,0,0,0,0,0],\n",
    "    [0,0,0,1,0,0,0,0,0,0],\n",
    "    [0,0,0,0,1,0,0,0,0,0],\n",
    "    [0,0,0,0,0,1,0,0,0,0],\n",
    "    [0,0,0,0,0,0,1,0,0,0],\n",
    "    [0,0,0,0,0,0,0,1,0,0],\n",
    "    [0,0,0,0,0,0,0,0,1,0],\n",
    "    [0,0,0,0,0,0,0,0,0,1]\n",
    "]).float().to(device)\n",
    "samples, _ = sample_ddim_context(ctx.shape[0], ctx)\n",
    "show_images(samples)"
   ]
  },
  {
   "cell_type": "code",
   "execution_count": null,
   "metadata": {},
   "outputs": [],
   "source": [
    "# mix of defined context\n",
    "ctx = torch.tensor([\n",
    "    [1,0,0,0,0,0,0,0,0,0],\n",
    "    [0.9,0.1,0,0,0,0,0,0,0,0],\n",
    "    [0.8,0.2,0,0,0,0,0,0,0,0],\n",
    "    [0.7,0.3,0,0,0,0,0,0,0,0],\n",
    "    [0.6,0.4,0,0,0,0,0,0,0,0],\n",
    "    [0.5,0.5,0,0,0,0,0,0,0,0],\n",
    "    [0.4,0.6,0,0,0,0,0,0,0,0],\n",
    "    [0.3,0.7,0,0,0,0,0,0,0,0],\n",
    "    [0.2,0.8,0,0,0,0,0,0,0,0],\n",
    "    [0.1,0.9,0,0,0,0,0,0,0,0],\n",
    "    [0,1,0,0,0,0,0,0,0,0],\n",
    "]).float().to(device)\n",
    "\n",
    "samples, _ = sample_ddim_context(ctx.shape[0], ctx)\n",
    "show_images(samples)"
   ]
  },
  {
   "cell_type": "code",
   "execution_count": null,
   "metadata": {},
   "outputs": [],
   "source": [
    "import os\n",
    "nn_model.train()\n",
    "guide_w = 0.3\n",
    "loss_values_2=[]\n",
    "for ep in range(n_epoch):\n",
    "    optim.param_groups[0]['lr'] = lrate*(1-ep/n_epoch)\n",
    "    pbar = tqdm(dataloader, mininterval = 2)\n",
    "    for x, c in pbar:\n",
    "        optim.zero_grad()\n",
    "        x=x.to(device)\n",
    "        c=c.to(device)\n",
    "        c=make_encoding(c)\n",
    "    #print(c.shape)\n",
    "        context_mask = torch.bernoulli(torch.zeros(c.shape[0]) + 0.9).to(device)\n",
    "        \n",
    "    #print(c.shape)\n",
    "        noise = torch.randn_like(x)\n",
    "        t = torch.randint(1, timesteps + 1, (x.shape[0],))\n",
    "        x_pert = perturb_input(x, t, noise).to(device)\n",
    "        pred_noise_2 = nn_model(x_pert, t/timesteps, c=None)\n",
    "        pred_noise_1 = nn_model(x_pert, t/timesteps, c)\n",
    "        pred_noise_final = eps = (1+guide_w)*pred_noise_1 - guide_w*pred_noise_2\n",
    "        loss = F.mse_loss(pred_noise_final, noise)\n",
    "        loss_values_2.append(loss)\n",
    "        loss.backward()\n",
    "        optim.step()\n",
    "    "
   ]
  },
  {
   "cell_type": "code",
   "execution_count": null,
   "metadata": {},
   "outputs": [],
   "source": [
    "loss_values_2 = torch.tensor(loss_values_2).cpu()\n",
    "plt.plot(np.array(loss_values_2)"
   ]
  },
  {
   "cell_type": "code",
   "execution_count": null,
   "metadata": {},
   "outputs": [],
   "source": [
    "# user defined context\n",
    "ctx = torch.tensor([\n",
    "    # hero, non-hero, food, spell, side-facing\n",
    "    [1,0,0,0,0,0,0,0,0,0],  \n",
    "    [0,1,0,0,0,0,0,0,0,0],    \n",
    "    [0,0,1,0,0,0,0,0,0,0],\n",
    "    [0,0,0,1,0,0,0,0,0,0],\n",
    "    [0,0,0,0,1,0,0,0,0,0],\n",
    "    [0,0,0,0,0,1,0,0,0,0],\n",
    "    [0,0,0,0,0,0,1,0,0,0],\n",
    "    [0,0,0,0,0,0,0,1,0,0],\n",
    "    [0,0,0,0,0,0,0,0,1,0],\n",
    "    [0,0,0,0,0,0,0,0,0,1]\n",
    "]).float().to(device)\n",
    "samples, _ = sample_ddpm_context(ctx.shape[0], ctx)\n",
    "show_images(samples)"
   ]
  },
  {
   "cell_type": "code",
   "execution_count": null,
   "metadata": {
    "id": "8MiuMv8XWbMG"
   },
   "outputs": [],
   "source": [
    "# mix of defined context\n",
    "ctx = torch.tensor([\n",
    "    [1,0,0,0,0,0,0,0,0,0],\n",
    "    [0.9,0.1,0,0,0,0,0,0,0,0],\n",
    "    [0.8,0.2,0,0,0,0,0,0,0,0],\n",
    "    [0.7,0.3,0,0,0,0,0,0,0,0],\n",
    "    [0.6,0.4,0,0,0,0,0,0,0,0],\n",
    "    [0.5,0.5,0,0,0,0,0,0,0,0],\n",
    "    [0.4,0.6,0,0,0,0,0,0,0,0],\n",
    "    [0.3,0.7,0,0,0,0,0,0,0,0],\n",
    "    [0.2,0.8,0,0,0,0,0,0,0,0],\n",
    "    [0.1,0.9,0,0,0,0,0,0,0,0],\n",
    "    [0,1,0,0,0,0,0,0,0,0],\n",
    "]).float().to(device)\n",
    "\n",
    "samples, _ = sample_ddpm_context(ctx.shape[0], ctx)\n",
    "show_images(samples)"
   ]
  },
  {
   "cell_type": "code",
   "execution_count": null,
   "metadata": {},
   "outputs": [],
   "source": [
    "# user defined context\n",
    "ctx = torch.tensor([\n",
    "    # hero, non-hero, food, spell, side-facing\n",
    "    [1,0,0,0,0,0,0,0,0,0],  \n",
    "    [0,1,0,0,0,0,0,0,0,0],    \n",
    "    [0,0,1,0,0,0,0,0,0,0],\n",
    "    [0,0,0,1,0,0,0,0,0,0],\n",
    "    [0,0,0,0,1,0,0,0,0,0],\n",
    "    [0,0,0,0,0,1,0,0,0,0],\n",
    "    [0,0,0,0,0,0,1,0,0,0],\n",
    "    [0,0,0,0,0,0,0,1,0,0],\n",
    "    [0,0,0,0,0,0,0,0,1,0],\n",
    "    [0,0,0,0,0,0,0,0,0,1]\n",
    "]).float().to(device)\n",
    "samples, _ = sample_ddim_context(ctx.shape[0], ctx)\n",
    "show_images(samples)"
   ]
  },
  {
   "cell_type": "code",
   "execution_count": null,
   "metadata": {},
   "outputs": [],
   "source": [
    "# mix of defined context\n",
    "ctx = torch.tensor([\n",
    "    [1,0,0,0,0,0,0,0,0,0],\n",
    "    [0.9,0.1,0,0,0,0,0,0,0,0],\n",
    "    [0.8,0.2,0,0,0,0,0,0,0,0],\n",
    "    [0.7,0.3,0,0,0,0,0,0,0,0],\n",
    "    [0.6,0.4,0,0,0,0,0,0,0,0],\n",
    "    [0.5,0.5,0,0,0,0,0,0,0,0],\n",
    "    [0.4,0.6,0,0,0,0,0,0,0,0],\n",
    "    [0.3,0.7,0,0,0,0,0,0,0,0],\n",
    "    [0.2,0.8,0,0,0,0,0,0,0,0],\n",
    "    [0.1,0.9,0,0,0,0,0,0,0,0],\n",
    "    [0,1,0,0,0,0,0,0,0,0],\n",
    "]).float().to(device)\n",
    "\n",
    "samples, _ = sample_ddim_context(ctx.shape[0], ctx)\n",
    "show_images(samples)"
   ]
  },
  {
   "cell_type": "code",
   "execution_count": null,
   "metadata": {},
   "outputs": [],
   "source": [
    "# mix of defined context\n",
    "ctx = torch.tensor([\n",
    "    [1,0,0,0,0,0,0,0,0,0],\n",
    "    [0.9,0.1,0,0,0,0,0,0,0,0],\n",
    "    [0.8,0.2,0,0,0,0,0,0,0,0],\n",
    "    [0.7,0.3,0,0,0,0,0,0,0,0],\n",
    "    [0.6,0.4,0,0,0,0,0,0,0,0],\n",
    "    [0.5,0.5,0,0,0,0,0,0,0,0],\n",
    "    [0.4,0.6,0,0,0,0,0,0,0,0],\n",
    "    [0.3,0.7,0,0,0,0,0,0,0,0],\n",
    "    [0.2,0.8,0,0,0,0,0,0,0,0],\n",
    "    [0.1,0.9,0,0,0,0,0,0,0,0],\n",
    "    [0,1,0,0,0,0,0,0,0,0],\n",
    "]).float().to(device)\n",
    "\n",
    "samples, _ = sample_ddim_context(ctx.shape[0], None)\n",
    "show_images(samples)"
   ]
  },
  {
   "cell_type": "code",
   "execution_count": null,
   "metadata": {
    "id": "R6dLWSedWWQ1"
   },
   "outputs": [],
   "source": [
    "# visualize samples with randomly selected context\n",
    "plt.clf()\n",
    "ctx = torch.tensor([\n",
    "    # hero, non-hero, food, spell, side-facing\n",
    "    [1,0,0,0,0,0,0,0,0,0],  \n",
    "    [0,1,0,0,0,0,0,0,0,0],    \n",
    "    [0,0,1,0,0,0,0,0,0,0],\n",
    "    [0,0,0,1,0,0,0,0,0,0],\n",
    "    [0,0,0,0,1,0,0,0,0,0],\n",
    "    [0,0,0,0,0,1,0,0,0,0],\n",
    "    [0,0,0,0,0,0,1,0,0,0],\n",
    "    [0,0,0,0,0,0,0,1,0,0],\n",
    "    [0,0,0,0,0,0,0,0,1,0],\n",
    "    [0,0,0,0,0,0,0,0,0,1]\n",
    "]).float().to(device)\n",
    "samples, _ = sample_ddpm_context(ctx.shape[0], ctx)\n",
    "#animation_ddpm_context = plot_sample(intermediate,32,4,save_dir, \"ani_run\", None, save=False)\n",
    "#HTML(animation_ddpm_context.to_jshtml())"
   ]
  },
  {
   "cell_type": "code",
   "execution_count": null,
   "metadata": {
    "id": "OUT-2dDCWfrg"
   },
   "outputs": [],
   "source": []
  },
  {
   "cell_type": "code",
   "execution_count": null,
   "metadata": {
    "id": "oXgPRxJcbR9f"
   },
   "outputs": [],
   "source": []
  },
  {
   "cell_type": "code",
   "execution_count": null,
   "metadata": {},
   "outputs": [],
   "source": []
  },
  {
   "cell_type": "code",
   "execution_count": null,
   "metadata": {},
   "outputs": [],
   "source": []
  },
  {
   "cell_type": "code",
   "execution_count": null,
   "metadata": {},
   "outputs": [],
   "source": []
  },
  {
   "cell_type": "code",
   "execution_count": null,
   "metadata": {},
   "outputs": [],
   "source": []
  },
  {
   "cell_type": "code",
   "execution_count": null,
   "metadata": {},
   "outputs": [],
   "source": []
  }
 ],
 "metadata": {
  "colab": {
   "provenance": []
  },
  "kernelspec": {
   "display_name": "Python 3 (ipykernel)",
   "language": "python",
   "name": "python3"
  },
  "language_info": {
   "codemirror_mode": {
    "name": "ipython",
    "version": 3
   },
   "file_extension": ".py",
   "mimetype": "text/x-python",
   "name": "python",
   "nbconvert_exporter": "python",
   "pygments_lexer": "ipython3",
   "version": "3.10.7"
  }
 },
 "nbformat": 4,
 "nbformat_minor": 1
}

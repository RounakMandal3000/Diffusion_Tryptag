{
 "cells": [
  {
   "cell_type": "code",
   "execution_count": 3,
   "metadata": {
    "id": "I3DjmVErVNeN"
   },
   "outputs": [],
   "source": [
    "from typing import Dict, Tuple\n",
    "import scipy.io as sio\n",
    "from tqdm import tqdm\n",
    "import torch\n",
    "import torch.nn as nn\n",
    "import torch.nn.functional as F\n",
    "from torch.utils.data import DataLoader\n",
    "from torchvision import models, transforms\n",
    "from torchvision.utils import save_image, make_grid\n",
    "from torchvision.transforms import ToTensor\n",
    "import matplotlib.pyplot as plt\n",
    "from matplotlib.animation import FuncAnimation, PillowWriter\n",
    "import numpy as np\n",
    "from IPython.display import HTML\n",
    "import rasterio\n",
    "from rasterio.plot import show\n",
    "from PIL import Image\n",
    "import os\n",
    "import skimage as ski\n",
    "from skimage import io\n",
    "import keras\n",
    "from keras import layers\n",
    "import tensorflow as tf\n",
    "io.use_plugin('pil')"
   ]
  },
  {
   "cell_type": "code",
   "execution_count": 4,
   "metadata": {},
   "outputs": [],
   "source": [
    "def normalize_images(images):\n",
    "    min_value = np.min(images)\n",
    "    max_value = np.max(images)\n",
    "    normalized_images = (images - min_value) / (max_value - min_value)\n",
    "    return normalized_images\n"
   ]
  },
  {
   "cell_type": "code",
   "execution_count": 5,
   "metadata": {},
   "outputs": [],
   "source": [
    "\n",
    "def normalize_gray_images(images):\n",
    "    mean = images.mean()\n",
    "    std = images.std()\n",
    "    normalized_images = (images - mean) / std\n",
    "\n",
    "    return normalized_images\n"
   ]
  },
  {
   "cell_type": "code",
   "execution_count": 6,
   "metadata": {},
   "outputs": [],
   "source": [
    "def subsample(img, k):\n",
    "    lst = []\n",
    "    for i in range(0,img.shape[0]):\n",
    "        x = img[i][::k, ::k]\n",
    "        lst.append(x.T)\n",
    "    return np.array(lst)"
   ]
  },
  {
   "cell_type": "code",
   "execution_count": 7,
   "metadata": {},
   "outputs": [
    {
     "name": "stdout",
     "output_type": "stream",
     "text": [
      "0\n",
      "100\n",
      "200\n",
      "300\n",
      "400\n",
      "500\n",
      "600\n",
      "700\n",
      "800\n",
      "900\n",
      "1000\n",
      "1100\n",
      "1200\n",
      "1300\n",
      "1400\n",
      "1500\n",
      "1600\n",
      "1700\n",
      "1800\n",
      "1900\n",
      "2000\n",
      "2100\n",
      "2200\n",
      "2300\n",
      "2400\n",
      "2500\n",
      "2600\n",
      "2700\n",
      "2800\n",
      "2900\n",
      "3000\n",
      "3100\n",
      "3200\n",
      "3300\n",
      "3400\n",
      "3500\n",
      "3600\n",
      "3700\n",
      "3800\n",
      "3900\n",
      "4000\n",
      "4100\n",
      "4200\n",
      "4300\n",
      "4400\n",
      "4500\n",
      "4600\n",
      "4700\n",
      "4800\n",
      "4900\n",
      "5000\n"
     ]
    }
   ],
   "source": [
    "dataset = []\n",
    "\n",
    "folder_path = \"//home//rounak//Desktop//KN//\"\n",
    "image_files = [file for file in os.listdir(folder_path) if file.endswith(('.tiff'))]\n",
    "k=0\n",
    "for image_file in image_files:\n",
    "    image_path = os.path.join(folder_path, image_file)\n",
    "    if(k%100==0):\n",
    "        print(k)\n",
    "    k+=1\n",
    "    img_push = np.zeros((323,323,3))\n",
    "    img = io.imread(image_path, plugin='pil')\n",
    "    img = np.array(img)\n",
    "    img_push[:,:,0] = normalize_images(img[:,:,0])\n",
    "    img_push[:,:,1] = normalize_images(img[:,:,2])\n",
    "    img_push[:,:,2] = 0.5*normalize_images(img[:,:,0])+0.5*normalize_images(img[:,:,2])\n",
    "    img_push = np.array(img_push)\n",
    "    image_array = img_push.T\n",
    "    tensor = torch.from_numpy(image_array)\n",
    "    tensor = normalize_images(np.array(tensor))\n",
    "    tensor = 2*tensor - 1\n",
    "    '''mean_1, std_1 = tensor[0,:,:].mean(), tensor[0,:,:].std()\n",
    "    mean_2, std_2 = tensor[1,:,:].mean(), tensor[1,:,:].std()\n",
    "    mean_3, std_3 = tensor[2,:,:].mean(), tensor[2,:,:].std()\n",
    "    norm = transforms.Normalize((mean_1, mean_2, mean_3), (std_1, std_2, std_3))\n",
    "    tensor = norm(tensor)'''\n",
    "    #image_array = torch.from_numpy(np.array(image_array))\n",
    "    #norm = transforms.Normalize((0,0,0), (1,1,1), inplace = True)\n",
    "    #image_array = norm(torch.tensor(image_array))\n",
    "    dataset.append((tensor,0))"
   ]
  },
  {
   "cell_type": "code",
   "execution_count": 8,
   "metadata": {},
   "outputs": [
    {
     "data": {
      "text/plain": [
       "(5067, 3, 323, 323)"
      ]
     },
     "execution_count": 8,
     "metadata": {},
     "output_type": "execute_result"
    }
   ],
   "source": [
    "dataset_compressed_1 = []\n",
    "\n",
    "for i in range(5067):\n",
    "    dataset_compressed_1.append(np.float32(np.array(dataset[i][0].T)))\n",
    "\n",
    "dataset_compressed_1 = np.array(dataset_compressed_1)\n",
    "\n",
    "dataset_compressed_1 = subsample(dataset_compressed_1, 1)\n",
    "\n",
    "dataset_compressed_1 = np.array(dataset_compressed_1)\n",
    "dataset_compressed_1.shape"
   ]
  },
  {
   "cell_type": "code",
   "execution_count": 9,
   "metadata": {},
   "outputs": [
    {
     "data": {
      "text/plain": [
       "(5067, 3, 323, 323)"
      ]
     },
     "execution_count": 9,
     "metadata": {},
     "output_type": "execute_result"
    }
   ],
   "source": [
    "dataset_compressed_1 = normalize_gray_images(np.float32(np.array(dataset_compressed_1)))\n",
    "dataset_compressed_1.shape"
   ]
  },
  {
   "cell_type": "code",
   "execution_count": 10,
   "metadata": {},
   "outputs": [],
   "source": [
    "dataset_final_1 = []\n",
    "for i in range(5067):\n",
    "    img_arr = dataset_compressed_1[i]\n",
    "    img_arr = img_arr[:, :320, :320]\n",
    "    dataset_final_1.append((torch.from_numpy(img_arr),0))"
   ]
  },
  {
   "cell_type": "code",
   "execution_count": 11,
   "metadata": {},
   "outputs": [],
   "source": [
    "class DownBlock(nn.Module):\n",
    "    def __init__(self, in_channels, out_channels, device=\"cuda:1\"):\n",
    "        super(DownBlock, self).__init__()\n",
    "        self.in_channels = in_channels\n",
    "        self.out_channels = out_channels\n",
    "        self.model = nn.Sequential(\n",
    "            nn.Conv2d(in_channels, out_channels, 3, 1, 1),\n",
    "            nn.ReLU(),\n",
    "            nn.MaxPool2d(2)\n",
    "        )\n",
    "    def forward(self, x: torch.Tensor) -> torch.Tensor:\n",
    "        return self.model(x)"
   ]
  },
  {
   "cell_type": "code",
   "execution_count": 12,
   "metadata": {},
   "outputs": [],
   "source": [
    "class UpBlock(nn.Module):\n",
    "    def __init__(self, in_channels, out_channels, flag = 1, device=\"cuda:1\"):\n",
    "        super(UpBlock, self).__init__()\n",
    "        self.in_channels = in_channels\n",
    "        self.out_channels = out_channels\n",
    "        if(flag == 1):\n",
    "            self.model = nn.Sequential(\n",
    "                nn.Conv2d(in_channels, out_channels, 3, 1, 1),\n",
    "                nn.ReLU(),\n",
    "                nn.ConvTranspose2d(out_channels, out_channels, 2, 2),\n",
    "            )\n",
    "        else:\n",
    "            self.model = nn.Sequential(\n",
    "                nn.Conv2d(in_channels, out_channels, 3, 1, 1),\n",
    "                nn.ReLU()\n",
    "            )\n",
    "    def forward(self, x: torch.Tensor) -> torch.Tensor:\n",
    "        return self.model(x)"
   ]
  },
  {
   "cell_type": "code",
   "execution_count": 16,
   "metadata": {},
   "outputs": [],
   "source": [
    "class AutoEncoder(nn.Module):\n",
    "    def __init__(self, in_channels_):\n",
    "        super(AutoEncoder, self).__init__()\n",
    "        self.in_channels_ = in_channels_\n",
    "        layers_1 = [\n",
    "            DownBlock(in_channels=in_channels_, out_channels=16),\n",
    "            DownBlock(16, 8),\n",
    "        ]\n",
    "        layers_2 = [\n",
    "            UpBlock(in_channels = 8, out_channels = 16),\n",
    "            UpBlock(in_channels = 16, out_channels = 16),\n",
    "            UpBlock(16, in_channels_, 2)\n",
    "        ]\n",
    "        layers = [*layers_1, *layers_2]\n",
    "        self.model = nn.Sequential(*layers)\n",
    "        self.model_decode = nn.Sequential(*layers_1)\n",
    "        self.model_encode = nn.Sequential(*layers_2)\n",
    "    def forward(self, x: torch.Tensor) -> torch.Tensor:\n",
    "        return self.model(x)\n",
    "    def decode(self, x:torch.Tensor) -> torch.Tensor:\n",
    "        return self.model_decode(x)\n",
    "    def encode(self, x:torch.Tensor) -> torch.Tensor:\n",
    "        return self.model_encode(x)"
   ]
  },
  {
   "cell_type": "code",
   "execution_count": 17,
   "metadata": {},
   "outputs": [],
   "source": [
    "auto_encoder = AutoEncoder(3).to(\"cuda:1\")\n",
    "dataloader = DataLoader(dataset_final_1, batch_size=128, shuffle=True)\n",
    "optim = torch.optim.Adam(auto_encoder.parameters(), lr=1e-4)"
   ]
  },
  {
   "cell_type": "code",
   "execution_count": 18,
   "metadata": {},
   "outputs": [
    {
     "name": "stdout",
     "output_type": "stream",
     "text": [
      "allocated mem - 0.315051008\n",
      "epoch number:  0\n"
     ]
    },
    {
     "name": "stderr",
     "output_type": "stream",
     "text": [
      "100%|███████████████████████████████████████████| 40/40 [00:04<00:00,  9.43it/s]\n"
     ]
    },
    {
     "name": "stdout",
     "output_type": "stream",
     "text": [
      "allocated mem - 0.276617728\n",
      "epoch number:  1\n"
     ]
    },
    {
     "name": "stderr",
     "output_type": "stream",
     "text": [
      "100%|███████████████████████████████████████████| 40/40 [00:04<00:00,  9.60it/s]\n"
     ]
    },
    {
     "name": "stdout",
     "output_type": "stream",
     "text": [
      "allocated mem - 0.27661824\n",
      "epoch number:  2\n"
     ]
    },
    {
     "name": "stderr",
     "output_type": "stream",
     "text": [
      "100%|███████████████████████████████████████████| 40/40 [00:04<00:00,  9.72it/s]\n"
     ]
    },
    {
     "name": "stdout",
     "output_type": "stream",
     "text": [
      "allocated mem - 0.276618752\n",
      "epoch number:  3\n"
     ]
    },
    {
     "name": "stderr",
     "output_type": "stream",
     "text": [
      "100%|███████████████████████████████████████████| 40/40 [00:04<00:00,  9.68it/s]\n"
     ]
    },
    {
     "name": "stdout",
     "output_type": "stream",
     "text": [
      "allocated mem - 0.27661926400000003\n",
      "epoch number:  4\n"
     ]
    },
    {
     "name": "stderr",
     "output_type": "stream",
     "text": [
      "100%|███████████████████████████████████████████| 40/40 [00:04<00:00,  9.66it/s]\n"
     ]
    },
    {
     "name": "stdout",
     "output_type": "stream",
     "text": [
      "allocated mem - 0.27661977600000004\n",
      "epoch number:  5\n"
     ]
    },
    {
     "name": "stderr",
     "output_type": "stream",
     "text": [
      "100%|███████████████████████████████████████████| 40/40 [00:04<00:00,  9.65it/s]\n"
     ]
    },
    {
     "name": "stdout",
     "output_type": "stream",
     "text": [
      "allocated mem - 0.276620288\n",
      "epoch number:  6\n"
     ]
    },
    {
     "name": "stderr",
     "output_type": "stream",
     "text": [
      "100%|███████████████████████████████████████████| 40/40 [00:04<00:00,  9.61it/s]\n"
     ]
    },
    {
     "name": "stdout",
     "output_type": "stream",
     "text": [
      "allocated mem - 0.2766208\n",
      "epoch number:  7\n"
     ]
    },
    {
     "name": "stderr",
     "output_type": "stream",
     "text": [
      "100%|███████████████████████████████████████████| 40/40 [00:04<00:00,  9.39it/s]\n"
     ]
    },
    {
     "name": "stdout",
     "output_type": "stream",
     "text": [
      "allocated mem - 0.276621312\n",
      "epoch number:  8\n"
     ]
    },
    {
     "name": "stderr",
     "output_type": "stream",
     "text": [
      "100%|███████████████████████████████████████████| 40/40 [00:04<00:00,  9.62it/s]\n"
     ]
    },
    {
     "name": "stdout",
     "output_type": "stream",
     "text": [
      "allocated mem - 0.276621824\n",
      "epoch number:  9\n"
     ]
    },
    {
     "name": "stderr",
     "output_type": "stream",
     "text": [
      "100%|███████████████████████████████████████████| 40/40 [00:04<00:00,  9.62it/s]\n"
     ]
    },
    {
     "name": "stdout",
     "output_type": "stream",
     "text": [
      "allocated mem - 0.276622336\n",
      "epoch number:  10\n"
     ]
    },
    {
     "name": "stderr",
     "output_type": "stream",
     "text": [
      "100%|███████████████████████████████████████████| 40/40 [00:04<00:00,  9.56it/s]\n"
     ]
    },
    {
     "name": "stdout",
     "output_type": "stream",
     "text": [
      "allocated mem - 0.27662284800000003\n",
      "epoch number:  11\n"
     ]
    },
    {
     "name": "stderr",
     "output_type": "stream",
     "text": [
      "100%|███████████████████████████████████████████| 40/40 [00:04<00:00,  9.63it/s]\n"
     ]
    },
    {
     "name": "stdout",
     "output_type": "stream",
     "text": [
      "allocated mem - 0.27662336000000004\n",
      "epoch number:  12\n"
     ]
    },
    {
     "name": "stderr",
     "output_type": "stream",
     "text": [
      "100%|███████████████████████████████████████████| 40/40 [00:04<00:00,  9.62it/s]\n"
     ]
    },
    {
     "name": "stdout",
     "output_type": "stream",
     "text": [
      "allocated mem - 0.276623872\n",
      "epoch number:  13\n"
     ]
    },
    {
     "name": "stderr",
     "output_type": "stream",
     "text": [
      "100%|███████████████████████████████████████████| 40/40 [00:04<00:00,  9.64it/s]\n"
     ]
    },
    {
     "name": "stdout",
     "output_type": "stream",
     "text": [
      "allocated mem - 0.276624384\n",
      "epoch number:  14\n"
     ]
    },
    {
     "name": "stderr",
     "output_type": "stream",
     "text": [
      "100%|███████████████████████████████████████████| 40/40 [00:04<00:00,  9.62it/s]\n"
     ]
    },
    {
     "name": "stdout",
     "output_type": "stream",
     "text": [
      "allocated mem - 0.276624896\n",
      "epoch number:  15\n"
     ]
    },
    {
     "name": "stderr",
     "output_type": "stream",
     "text": [
      "100%|███████████████████████████████████████████| 40/40 [00:04<00:00,  9.61it/s]\n"
     ]
    },
    {
     "name": "stdout",
     "output_type": "stream",
     "text": [
      "allocated mem - 0.276625408\n",
      "epoch number:  16\n"
     ]
    },
    {
     "name": "stderr",
     "output_type": "stream",
     "text": [
      "100%|███████████████████████████████████████████| 40/40 [00:04<00:00,  9.61it/s]\n"
     ]
    },
    {
     "name": "stdout",
     "output_type": "stream",
     "text": [
      "allocated mem - 0.27662592\n",
      "epoch number:  17\n"
     ]
    },
    {
     "name": "stderr",
     "output_type": "stream",
     "text": [
      "100%|███████████████████████████████████████████| 40/40 [00:04<00:00,  9.53it/s]\n"
     ]
    },
    {
     "name": "stdout",
     "output_type": "stream",
     "text": [
      "allocated mem - 0.27662643200000003\n",
      "epoch number:  18\n"
     ]
    },
    {
     "name": "stderr",
     "output_type": "stream",
     "text": [
      "100%|███████████████████████████████████████████| 40/40 [00:04<00:00,  9.64it/s]\n"
     ]
    },
    {
     "name": "stdout",
     "output_type": "stream",
     "text": [
      "allocated mem - 0.27662694400000004\n",
      "epoch number:  19\n"
     ]
    },
    {
     "name": "stderr",
     "output_type": "stream",
     "text": [
      "100%|███████████████████████████████████████████| 40/40 [00:04<00:00,  9.64it/s]\n"
     ]
    },
    {
     "name": "stdout",
     "output_type": "stream",
     "text": [
      "allocated mem - 0.276627456\n",
      "epoch number:  20\n"
     ]
    },
    {
     "name": "stderr",
     "output_type": "stream",
     "text": [
      "100%|███████████████████████████████████████████| 40/40 [00:04<00:00,  9.66it/s]\n"
     ]
    },
    {
     "name": "stdout",
     "output_type": "stream",
     "text": [
      "allocated mem - 0.276627968\n",
      "epoch number:  21\n"
     ]
    },
    {
     "name": "stderr",
     "output_type": "stream",
     "text": [
      "100%|███████████████████████████████████████████| 40/40 [00:04<00:00,  9.66it/s]\n"
     ]
    },
    {
     "name": "stdout",
     "output_type": "stream",
     "text": [
      "allocated mem - 0.27662848\n",
      "epoch number:  22\n"
     ]
    },
    {
     "name": "stderr",
     "output_type": "stream",
     "text": [
      "100%|███████████████████████████████████████████| 40/40 [00:04<00:00,  9.66it/s]\n"
     ]
    },
    {
     "name": "stdout",
     "output_type": "stream",
     "text": [
      "allocated mem - 0.276628992\n",
      "epoch number:  23\n"
     ]
    },
    {
     "name": "stderr",
     "output_type": "stream",
     "text": [
      "100%|███████████████████████████████████████████| 40/40 [00:04<00:00,  9.57it/s]\n"
     ]
    },
    {
     "name": "stdout",
     "output_type": "stream",
     "text": [
      "allocated mem - 0.276629504\n",
      "epoch number:  24\n"
     ]
    },
    {
     "name": "stderr",
     "output_type": "stream",
     "text": [
      "100%|███████████████████████████████████████████| 40/40 [00:04<00:00,  9.60it/s]\n"
     ]
    },
    {
     "name": "stdout",
     "output_type": "stream",
     "text": [
      "allocated mem - 0.27663001600000003\n",
      "epoch number:  25\n"
     ]
    },
    {
     "name": "stderr",
     "output_type": "stream",
     "text": [
      "100%|███████████████████████████████████████████| 40/40 [00:04<00:00,  9.59it/s]\n"
     ]
    },
    {
     "name": "stdout",
     "output_type": "stream",
     "text": [
      "allocated mem - 0.27663052800000004\n",
      "epoch number:  26\n"
     ]
    },
    {
     "name": "stderr",
     "output_type": "stream",
     "text": [
      "100%|███████████████████████████████████████████| 40/40 [00:04<00:00,  9.58it/s]\n"
     ]
    },
    {
     "name": "stdout",
     "output_type": "stream",
     "text": [
      "allocated mem - 0.27663104\n",
      "epoch number:  27\n"
     ]
    },
    {
     "name": "stderr",
     "output_type": "stream",
     "text": [
      "100%|███████████████████████████████████████████| 40/40 [00:04<00:00,  9.60it/s]\n"
     ]
    },
    {
     "name": "stdout",
     "output_type": "stream",
     "text": [
      "allocated mem - 0.276631552\n",
      "epoch number:  28\n"
     ]
    },
    {
     "name": "stderr",
     "output_type": "stream",
     "text": [
      "100%|███████████████████████████████████████████| 40/40 [00:04<00:00,  9.59it/s]\n"
     ]
    },
    {
     "name": "stdout",
     "output_type": "stream",
     "text": [
      "allocated mem - 0.276632064\n",
      "epoch number:  29\n"
     ]
    },
    {
     "name": "stderr",
     "output_type": "stream",
     "text": [
      "100%|███████████████████████████████████████████| 40/40 [00:04<00:00,  9.59it/s]\n"
     ]
    },
    {
     "name": "stdout",
     "output_type": "stream",
     "text": [
      "allocated mem - 0.276632576\n",
      "epoch number:  30\n"
     ]
    },
    {
     "name": "stderr",
     "output_type": "stream",
     "text": [
      "100%|███████████████████████████████████████████| 40/40 [00:04<00:00,  9.51it/s]\n"
     ]
    },
    {
     "name": "stdout",
     "output_type": "stream",
     "text": [
      "allocated mem - 0.276633088\n",
      "epoch number:  31\n"
     ]
    },
    {
     "name": "stderr",
     "output_type": "stream",
     "text": [
      "100%|███████████████████████████████████████████| 40/40 [00:04<00:00,  9.58it/s]\n"
     ]
    },
    {
     "name": "stdout",
     "output_type": "stream",
     "text": [
      "allocated mem - 0.27663360000000004\n",
      "epoch number:  32\n"
     ]
    },
    {
     "name": "stderr",
     "output_type": "stream",
     "text": [
      "100%|███████████████████████████████████████████| 40/40 [00:04<00:00,  9.58it/s]\n"
     ]
    },
    {
     "name": "stdout",
     "output_type": "stream",
     "text": [
      "allocated mem - 0.27663411200000004\n",
      "epoch number:  33\n"
     ]
    },
    {
     "name": "stderr",
     "output_type": "stream",
     "text": [
      "100%|███████████████████████████████████████████| 40/40 [00:04<00:00,  9.59it/s]\n"
     ]
    },
    {
     "name": "stdout",
     "output_type": "stream",
     "text": [
      "allocated mem - 0.276634624\n",
      "epoch number:  34\n"
     ]
    },
    {
     "name": "stderr",
     "output_type": "stream",
     "text": [
      "100%|███████████████████████████████████████████| 40/40 [00:04<00:00,  9.62it/s]\n"
     ]
    },
    {
     "name": "stdout",
     "output_type": "stream",
     "text": [
      "allocated mem - 0.276635136\n",
      "epoch number:  35\n"
     ]
    },
    {
     "name": "stderr",
     "output_type": "stream",
     "text": [
      "100%|███████████████████████████████████████████| 40/40 [00:04<00:00,  9.62it/s]\n"
     ]
    },
    {
     "name": "stdout",
     "output_type": "stream",
     "text": [
      "allocated mem - 0.276635648\n",
      "epoch number:  36\n"
     ]
    },
    {
     "name": "stderr",
     "output_type": "stream",
     "text": [
      "100%|███████████████████████████████████████████| 40/40 [00:04<00:00,  9.62it/s]\n"
     ]
    },
    {
     "name": "stdout",
     "output_type": "stream",
     "text": [
      "allocated mem - 0.27663616\n",
      "epoch number:  37\n"
     ]
    },
    {
     "name": "stderr",
     "output_type": "stream",
     "text": [
      "100%|███████████████████████████████████████████| 40/40 [00:04<00:00,  9.62it/s]\n"
     ]
    },
    {
     "name": "stdout",
     "output_type": "stream",
     "text": [
      "allocated mem - 0.27663667200000003\n",
      "epoch number:  38\n"
     ]
    },
    {
     "name": "stderr",
     "output_type": "stream",
     "text": [
      "100%|███████████████████████████████████████████| 40/40 [00:04<00:00,  9.61it/s]\n"
     ]
    },
    {
     "name": "stdout",
     "output_type": "stream",
     "text": [
      "allocated mem - 0.27663718400000004\n",
      "epoch number:  39\n"
     ]
    },
    {
     "name": "stderr",
     "output_type": "stream",
     "text": [
      "100%|███████████████████████████████████████████| 40/40 [00:04<00:00,  9.64it/s]\n"
     ]
    },
    {
     "name": "stdout",
     "output_type": "stream",
     "text": [
      "allocated mem - 0.27663769600000004\n",
      "epoch number:  40\n"
     ]
    },
    {
     "name": "stderr",
     "output_type": "stream",
     "text": [
      "100%|███████████████████████████████████████████| 40/40 [00:04<00:00,  9.64it/s]\n"
     ]
    },
    {
     "name": "stdout",
     "output_type": "stream",
     "text": [
      "allocated mem - 0.276638208\n",
      "epoch number:  41\n"
     ]
    },
    {
     "name": "stderr",
     "output_type": "stream",
     "text": [
      "100%|███████████████████████████████████████████| 40/40 [00:04<00:00,  9.63it/s]\n"
     ]
    },
    {
     "name": "stdout",
     "output_type": "stream",
     "text": [
      "allocated mem - 0.27663872\n",
      "epoch number:  42\n"
     ]
    },
    {
     "name": "stderr",
     "output_type": "stream",
     "text": [
      "100%|███████████████████████████████████████████| 40/40 [00:04<00:00,  9.64it/s]\n"
     ]
    },
    {
     "name": "stdout",
     "output_type": "stream",
     "text": [
      "allocated mem - 0.276639232\n",
      "epoch number:  43\n"
     ]
    },
    {
     "name": "stderr",
     "output_type": "stream",
     "text": [
      "100%|███████████████████████████████████████████| 40/40 [00:04<00:00,  9.63it/s]\n"
     ]
    },
    {
     "name": "stdout",
     "output_type": "stream",
     "text": [
      "allocated mem - 0.276639744\n",
      "epoch number:  44\n"
     ]
    },
    {
     "name": "stderr",
     "output_type": "stream",
     "text": [
      "100%|███████████████████████████████████████████| 40/40 [00:04<00:00,  9.63it/s]\n"
     ]
    },
    {
     "name": "stdout",
     "output_type": "stream",
     "text": [
      "allocated mem - 0.27664025600000003\n",
      "epoch number:  45\n"
     ]
    },
    {
     "name": "stderr",
     "output_type": "stream",
     "text": [
      "100%|███████████████████████████████████████████| 40/40 [00:04<00:00,  9.63it/s]\n"
     ]
    },
    {
     "name": "stdout",
     "output_type": "stream",
     "text": [
      "allocated mem - 0.27664076800000004\n",
      "epoch number:  46\n"
     ]
    },
    {
     "name": "stderr",
     "output_type": "stream",
     "text": [
      "100%|███████████████████████████████████████████| 40/40 [00:04<00:00,  9.63it/s]\n"
     ]
    },
    {
     "name": "stdout",
     "output_type": "stream",
     "text": [
      "allocated mem - 0.27664128000000004\n",
      "epoch number:  47\n"
     ]
    },
    {
     "name": "stderr",
     "output_type": "stream",
     "text": [
      "100%|███████████████████████████████████████████| 40/40 [00:04<00:00,  9.63it/s]\n"
     ]
    },
    {
     "name": "stdout",
     "output_type": "stream",
     "text": [
      "allocated mem - 0.276641792\n",
      "epoch number:  48\n"
     ]
    },
    {
     "name": "stderr",
     "output_type": "stream",
     "text": [
      "100%|███████████████████████████████████████████| 40/40 [00:04<00:00,  9.61it/s]\n"
     ]
    },
    {
     "name": "stdout",
     "output_type": "stream",
     "text": [
      "allocated mem - 0.276642304\n",
      "epoch number:  49\n"
     ]
    },
    {
     "name": "stderr",
     "output_type": "stream",
     "text": [
      "100%|███████████████████████████████████████████| 40/40 [00:04<00:00,  9.58it/s]\n"
     ]
    },
    {
     "name": "stdout",
     "output_type": "stream",
     "text": [
      "allocated mem - 0.276642816\n",
      "epoch number:  50\n"
     ]
    },
    {
     "name": "stderr",
     "output_type": "stream",
     "text": [
      "100%|███████████████████████████████████████████| 40/40 [00:04<00:00,  9.58it/s]\n"
     ]
    },
    {
     "name": "stdout",
     "output_type": "stream",
     "text": [
      "allocated mem - 0.276643328\n",
      "epoch number:  51\n"
     ]
    },
    {
     "name": "stderr",
     "output_type": "stream",
     "text": [
      "100%|███████████████████████████████████████████| 40/40 [00:04<00:00,  9.58it/s]\n"
     ]
    },
    {
     "name": "stdout",
     "output_type": "stream",
     "text": [
      "allocated mem - 0.27664384000000003\n",
      "epoch number:  52\n"
     ]
    },
    {
     "name": "stderr",
     "output_type": "stream",
     "text": [
      "100%|███████████████████████████████████████████| 40/40 [00:04<00:00,  9.45it/s]\n"
     ]
    },
    {
     "name": "stdout",
     "output_type": "stream",
     "text": [
      "allocated mem - 0.27664435200000004\n",
      "epoch number:  53\n"
     ]
    },
    {
     "name": "stderr",
     "output_type": "stream",
     "text": [
      "100%|███████████████████████████████████████████| 40/40 [00:04<00:00,  9.58it/s]\n"
     ]
    },
    {
     "name": "stdout",
     "output_type": "stream",
     "text": [
      "allocated mem - 0.276644864\n",
      "epoch number:  54\n"
     ]
    },
    {
     "name": "stderr",
     "output_type": "stream",
     "text": [
      "100%|███████████████████████████████████████████| 40/40 [00:04<00:00,  9.58it/s]\n"
     ]
    },
    {
     "name": "stdout",
     "output_type": "stream",
     "text": [
      "allocated mem - 0.276645376\n",
      "epoch number:  55\n"
     ]
    },
    {
     "name": "stderr",
     "output_type": "stream",
     "text": [
      "100%|███████████████████████████████████████████| 40/40 [00:04<00:00,  9.57it/s]\n"
     ]
    },
    {
     "name": "stdout",
     "output_type": "stream",
     "text": [
      "allocated mem - 0.276645888\n",
      "epoch number:  56\n"
     ]
    },
    {
     "name": "stderr",
     "output_type": "stream",
     "text": [
      "100%|███████████████████████████████████████████| 40/40 [00:04<00:00,  9.54it/s]\n"
     ]
    },
    {
     "name": "stdout",
     "output_type": "stream",
     "text": [
      "allocated mem - 0.2766464\n",
      "epoch number:  57\n"
     ]
    },
    {
     "name": "stderr",
     "output_type": "stream",
     "text": [
      "100%|███████████████████████████████████████████| 40/40 [00:04<00:00,  9.60it/s]\n"
     ]
    },
    {
     "name": "stdout",
     "output_type": "stream",
     "text": [
      "allocated mem - 0.276646912\n",
      "epoch number:  58\n"
     ]
    },
    {
     "name": "stderr",
     "output_type": "stream",
     "text": [
      "100%|███████████████████████████████████████████| 40/40 [00:04<00:00,  9.60it/s]\n"
     ]
    },
    {
     "name": "stdout",
     "output_type": "stream",
     "text": [
      "allocated mem - 0.27664742400000003\n",
      "epoch number:  59\n"
     ]
    },
    {
     "name": "stderr",
     "output_type": "stream",
     "text": [
      "100%|███████████████████████████████████████████| 40/40 [00:04<00:00,  9.63it/s]\n"
     ]
    },
    {
     "name": "stdout",
     "output_type": "stream",
     "text": [
      "allocated mem - 0.27664793600000004\n",
      "epoch number:  60\n"
     ]
    },
    {
     "name": "stderr",
     "output_type": "stream",
     "text": [
      "100%|███████████████████████████████████████████| 40/40 [00:04<00:00,  9.62it/s]\n"
     ]
    },
    {
     "name": "stdout",
     "output_type": "stream",
     "text": [
      "allocated mem - 0.276648448\n",
      "epoch number:  61\n"
     ]
    },
    {
     "name": "stderr",
     "output_type": "stream",
     "text": [
      "100%|███████████████████████████████████████████| 40/40 [00:04<00:00,  9.62it/s]\n"
     ]
    },
    {
     "name": "stdout",
     "output_type": "stream",
     "text": [
      "allocated mem - 0.27664896\n",
      "epoch number:  62\n"
     ]
    },
    {
     "name": "stderr",
     "output_type": "stream",
     "text": [
      "100%|███████████████████████████████████████████| 40/40 [00:04<00:00,  9.59it/s]\n"
     ]
    },
    {
     "name": "stdout",
     "output_type": "stream",
     "text": [
      "allocated mem - 0.276649472\n",
      "epoch number:  63\n"
     ]
    },
    {
     "name": "stderr",
     "output_type": "stream",
     "text": [
      "100%|███████████████████████████████████████████| 40/40 [00:04<00:00,  9.63it/s]\n"
     ]
    },
    {
     "name": "stdout",
     "output_type": "stream",
     "text": [
      "allocated mem - 0.276649984\n",
      "epoch number:  64\n"
     ]
    },
    {
     "name": "stderr",
     "output_type": "stream",
     "text": [
      "100%|███████████████████████████████████████████| 40/40 [00:04<00:00,  9.62it/s]\n"
     ]
    },
    {
     "name": "stdout",
     "output_type": "stream",
     "text": [
      "allocated mem - 0.276650496\n",
      "epoch number:  65\n"
     ]
    },
    {
     "name": "stderr",
     "output_type": "stream",
     "text": [
      "100%|███████████████████████████████████████████| 40/40 [00:04<00:00,  9.61it/s]\n"
     ]
    },
    {
     "name": "stdout",
     "output_type": "stream",
     "text": [
      "allocated mem - 0.27665100800000003\n",
      "epoch number:  66\n"
     ]
    },
    {
     "name": "stderr",
     "output_type": "stream",
     "text": [
      "100%|███████████████████████████████████████████| 40/40 [00:04<00:00,  9.60it/s]\n"
     ]
    },
    {
     "name": "stdout",
     "output_type": "stream",
     "text": [
      "allocated mem - 0.27665152000000004\n",
      "epoch number:  67\n"
     ]
    },
    {
     "name": "stderr",
     "output_type": "stream",
     "text": [
      "100%|███████████████████████████████████████████| 40/40 [00:04<00:00,  9.62it/s]\n"
     ]
    },
    {
     "name": "stdout",
     "output_type": "stream",
     "text": [
      "allocated mem - 0.276652032\n",
      "epoch number:  68\n"
     ]
    },
    {
     "name": "stderr",
     "output_type": "stream",
     "text": [
      "100%|███████████████████████████████████████████| 40/40 [00:04<00:00,  9.60it/s]\n"
     ]
    },
    {
     "name": "stdout",
     "output_type": "stream",
     "text": [
      "allocated mem - 0.276652544\n",
      "epoch number:  69\n"
     ]
    },
    {
     "name": "stderr",
     "output_type": "stream",
     "text": [
      "100%|███████████████████████████████████████████| 40/40 [00:04<00:00,  9.56it/s]\n"
     ]
    },
    {
     "name": "stdout",
     "output_type": "stream",
     "text": [
      "allocated mem - 0.276653056\n",
      "epoch number:  70\n"
     ]
    },
    {
     "name": "stderr",
     "output_type": "stream",
     "text": [
      "100%|███████████████████████████████████████████| 40/40 [00:04<00:00,  9.61it/s]\n"
     ]
    },
    {
     "name": "stdout",
     "output_type": "stream",
     "text": [
      "allocated mem - 0.276653568\n",
      "epoch number:  71\n"
     ]
    },
    {
     "name": "stderr",
     "output_type": "stream",
     "text": [
      "100%|███████████████████████████████████████████| 40/40 [00:04<00:00,  9.60it/s]\n"
     ]
    },
    {
     "name": "stdout",
     "output_type": "stream",
     "text": [
      "allocated mem - 0.27665408\n",
      "epoch number:  72\n"
     ]
    },
    {
     "name": "stderr",
     "output_type": "stream",
     "text": [
      "100%|███████████████████████████████████████████| 40/40 [00:04<00:00,  9.62it/s]\n"
     ]
    },
    {
     "name": "stdout",
     "output_type": "stream",
     "text": [
      "allocated mem - 0.27665459200000003\n",
      "epoch number:  73\n"
     ]
    },
    {
     "name": "stderr",
     "output_type": "stream",
     "text": [
      "100%|███████████████████████████████████████████| 40/40 [00:04<00:00,  9.61it/s]\n"
     ]
    },
    {
     "name": "stdout",
     "output_type": "stream",
     "text": [
      "allocated mem - 0.27665510400000004\n",
      "epoch number:  74\n"
     ]
    },
    {
     "name": "stderr",
     "output_type": "stream",
     "text": [
      "100%|███████████████████████████████████████████| 40/40 [00:04<00:00,  9.60it/s]\n"
     ]
    },
    {
     "name": "stdout",
     "output_type": "stream",
     "text": [
      "allocated mem - 0.276655616\n",
      "epoch number:  75\n"
     ]
    },
    {
     "name": "stderr",
     "output_type": "stream",
     "text": [
      "100%|███████████████████████████████████████████| 40/40 [00:04<00:00,  9.57it/s]\n"
     ]
    },
    {
     "name": "stdout",
     "output_type": "stream",
     "text": [
      "allocated mem - 0.276656128\n",
      "epoch number:  76\n"
     ]
    },
    {
     "name": "stderr",
     "output_type": "stream",
     "text": [
      "100%|███████████████████████████████████████████| 40/40 [00:04<00:00,  9.57it/s]\n"
     ]
    },
    {
     "name": "stdout",
     "output_type": "stream",
     "text": [
      "allocated mem - 0.27665664\n",
      "epoch number:  77\n"
     ]
    },
    {
     "name": "stderr",
     "output_type": "stream",
     "text": [
      "100%|███████████████████████████████████████████| 40/40 [00:04<00:00,  9.57it/s]\n"
     ]
    },
    {
     "name": "stdout",
     "output_type": "stream",
     "text": [
      "allocated mem - 0.276657152\n",
      "epoch number:  78\n"
     ]
    },
    {
     "name": "stderr",
     "output_type": "stream",
     "text": [
      "100%|███████████████████████████████████████████| 40/40 [00:04<00:00,  9.57it/s]\n"
     ]
    },
    {
     "name": "stdout",
     "output_type": "stream",
     "text": [
      "allocated mem - 0.276657664\n",
      "epoch number:  79\n"
     ]
    },
    {
     "name": "stderr",
     "output_type": "stream",
     "text": [
      "100%|███████████████████████████████████████████| 40/40 [00:04<00:00,  9.47it/s]\n"
     ]
    },
    {
     "name": "stdout",
     "output_type": "stream",
     "text": [
      "allocated mem - 0.27665817600000003\n",
      "epoch number:  80\n"
     ]
    },
    {
     "name": "stderr",
     "output_type": "stream",
     "text": [
      "100%|███████████████████████████████████████████| 40/40 [00:04<00:00,  9.57it/s]\n"
     ]
    },
    {
     "name": "stdout",
     "output_type": "stream",
     "text": [
      "allocated mem - 0.27665868800000004\n",
      "epoch number:  81\n"
     ]
    },
    {
     "name": "stderr",
     "output_type": "stream",
     "text": [
      "100%|███████████████████████████████████████████| 40/40 [00:04<00:00,  9.57it/s]\n"
     ]
    },
    {
     "name": "stdout",
     "output_type": "stream",
     "text": [
      "allocated mem - 0.2766592\n",
      "epoch number:  82\n"
     ]
    },
    {
     "name": "stderr",
     "output_type": "stream",
     "text": [
      "100%|███████████████████████████████████████████| 40/40 [00:04<00:00,  9.57it/s]\n"
     ]
    },
    {
     "name": "stdout",
     "output_type": "stream",
     "text": [
      "allocated mem - 0.276659712\n",
      "epoch number:  83\n"
     ]
    },
    {
     "name": "stderr",
     "output_type": "stream",
     "text": [
      "100%|███████████████████████████████████████████| 40/40 [00:04<00:00,  9.51it/s]\n"
     ]
    },
    {
     "name": "stdout",
     "output_type": "stream",
     "text": [
      "allocated mem - 0.276660224\n",
      "epoch number:  84\n"
     ]
    },
    {
     "name": "stderr",
     "output_type": "stream",
     "text": [
      "100%|███████████████████████████████████████████| 40/40 [00:04<00:00,  9.57it/s]\n"
     ]
    },
    {
     "name": "stdout",
     "output_type": "stream",
     "text": [
      "allocated mem - 0.276660736\n",
      "epoch number:  85\n"
     ]
    },
    {
     "name": "stderr",
     "output_type": "stream",
     "text": [
      "100%|███████████████████████████████████████████| 40/40 [00:04<00:00,  9.57it/s]\n"
     ]
    },
    {
     "name": "stdout",
     "output_type": "stream",
     "text": [
      "allocated mem - 0.276661248\n",
      "epoch number:  86\n"
     ]
    },
    {
     "name": "stderr",
     "output_type": "stream",
     "text": [
      "100%|███████████████████████████████████████████| 40/40 [00:04<00:00,  9.61it/s]\n"
     ]
    },
    {
     "name": "stdout",
     "output_type": "stream",
     "text": [
      "allocated mem - 0.27666176000000003\n",
      "epoch number:  87\n"
     ]
    },
    {
     "name": "stderr",
     "output_type": "stream",
     "text": [
      "100%|███████████████████████████████████████████| 40/40 [00:04<00:00,  9.59it/s]\n"
     ]
    },
    {
     "name": "stdout",
     "output_type": "stream",
     "text": [
      "allocated mem - 0.27666227200000004\n",
      "epoch number:  88\n"
     ]
    },
    {
     "name": "stderr",
     "output_type": "stream",
     "text": [
      "100%|███████████████████████████████████████████| 40/40 [00:04<00:00,  9.58it/s]\n"
     ]
    },
    {
     "name": "stdout",
     "output_type": "stream",
     "text": [
      "allocated mem - 0.276662784\n",
      "epoch number:  89\n"
     ]
    },
    {
     "name": "stderr",
     "output_type": "stream",
     "text": [
      "100%|███████████████████████████████████████████| 40/40 [00:04<00:00,  9.58it/s]\n"
     ]
    },
    {
     "name": "stdout",
     "output_type": "stream",
     "text": [
      "allocated mem - 0.276663296\n",
      "epoch number:  90\n"
     ]
    },
    {
     "name": "stderr",
     "output_type": "stream",
     "text": [
      "100%|███████████████████████████████████████████| 40/40 [00:04<00:00,  9.57it/s]\n"
     ]
    },
    {
     "name": "stdout",
     "output_type": "stream",
     "text": [
      "allocated mem - 0.276663808\n",
      "epoch number:  91\n"
     ]
    },
    {
     "name": "stderr",
     "output_type": "stream",
     "text": [
      "100%|███████████████████████████████████████████| 40/40 [00:04<00:00,  9.57it/s]\n"
     ]
    },
    {
     "name": "stdout",
     "output_type": "stream",
     "text": [
      "allocated mem - 0.27666432\n",
      "epoch number:  92\n"
     ]
    },
    {
     "name": "stderr",
     "output_type": "stream",
     "text": [
      "100%|███████████████████████████████████████████| 40/40 [00:04<00:00,  9.57it/s]\n"
     ]
    },
    {
     "name": "stdout",
     "output_type": "stream",
     "text": [
      "allocated mem - 0.276664832\n",
      "epoch number:  93\n"
     ]
    },
    {
     "name": "stderr",
     "output_type": "stream",
     "text": [
      "100%|███████████████████████████████████████████| 40/40 [00:04<00:00,  9.57it/s]\n"
     ]
    },
    {
     "name": "stdout",
     "output_type": "stream",
     "text": [
      "allocated mem - 0.27666534400000004\n",
      "epoch number:  94\n"
     ]
    },
    {
     "name": "stderr",
     "output_type": "stream",
     "text": [
      "100%|███████████████████████████████████████████| 40/40 [00:04<00:00,  9.58it/s]\n"
     ]
    },
    {
     "name": "stdout",
     "output_type": "stream",
     "text": [
      "allocated mem - 0.27666585600000004\n",
      "epoch number:  95\n"
     ]
    },
    {
     "name": "stderr",
     "output_type": "stream",
     "text": [
      "100%|███████████████████████████████████████████| 40/40 [00:04<00:00,  9.54it/s]\n"
     ]
    },
    {
     "name": "stdout",
     "output_type": "stream",
     "text": [
      "allocated mem - 0.276666368\n",
      "epoch number:  96\n"
     ]
    },
    {
     "name": "stderr",
     "output_type": "stream",
     "text": [
      "100%|███████████████████████████████████████████| 40/40 [00:04<00:00,  9.54it/s]\n"
     ]
    },
    {
     "name": "stdout",
     "output_type": "stream",
     "text": [
      "allocated mem - 0.27666688\n",
      "epoch number:  97\n"
     ]
    },
    {
     "name": "stderr",
     "output_type": "stream",
     "text": [
      "100%|███████████████████████████████████████████| 40/40 [00:04<00:00,  9.58it/s]\n"
     ]
    },
    {
     "name": "stdout",
     "output_type": "stream",
     "text": [
      "allocated mem - 0.276667392\n",
      "epoch number:  98\n"
     ]
    },
    {
     "name": "stderr",
     "output_type": "stream",
     "text": [
      "100%|███████████████████████████████████████████| 40/40 [00:04<00:00,  9.57it/s]\n"
     ]
    },
    {
     "name": "stdout",
     "output_type": "stream",
     "text": [
      "allocated mem - 0.276667904\n",
      "epoch number:  99\n"
     ]
    },
    {
     "name": "stderr",
     "output_type": "stream",
     "text": [
      "100%|███████████████████████████████████████████| 40/40 [00:04<00:00,  9.57it/s]\n"
     ]
    }
   ],
   "source": [
    "import os\n",
    "auto_encoder.train()\n",
    "loss_lst=[]\n",
    "loss_val = 0\n",
    "for ep in range(0, 100):\n",
    "    print(\"allocated mem -\", torch.cuda.memory_allocated(torch.device(\"cuda:1\")) * 1e-9)\n",
    "    print(\"epoch number: \", ep)\n",
    "    optim.param_groups[0]['lr'] = 1e-4\n",
    "    pbar = tqdm(dataloader, mininterval = 2)\n",
    "    loss_val = 0\n",
    "    for x,_ in pbar:\n",
    "        optim.zero_grad()\n",
    "        x=x.to(\"cuda:1\")\n",
    "        pred_x = auto_encoder(x)\n",
    "        loss = F.mse_loss(pred_x, x)\n",
    "        loss_val += loss\n",
    "        loss.backward()\n",
    "        optim.step()\n",
    "    loss_lst.append(loss_val)"
   ]
  },
  {
   "cell_type": "code",
   "execution_count": null,
   "metadata": {},
   "outputs": [],
   "source": [
    "plt.plot(torch.Tensor(loss_lst).cpu().data.numpy())"
   ]
  },
  {
   "cell_type": "code",
   "execution_count": 19,
   "metadata": {},
   "outputs": [
    {
     "name": "stderr",
     "output_type": "stream",
     "text": [
      "Clipping input data to the valid range for imshow with RGB data ([0..1] for floats or [0..255] for integers).\n"
     ]
    },
    {
     "data": {
      "text/plain": [
       "(3, 320, 320)"
      ]
     },
     "execution_count": 19,
     "metadata": {},
     "output_type": "execute_result"
    },
    {
     "data": {
      "image/png": "[encoded data removed]",
      "text/plain": [
       "<Figure size 640x480 with 1 Axes>"
      ]
     },
     "metadata": {},
     "output_type": "display_data"
    }
   ],
   "source": [
    "x = auto_encoder(torch.Tensor(dataset_final_1[2][0]).to(\"cuda:1\"))\n",
    "x = x.cpu().data.numpy()\n",
    "x = np.array(x)\n",
    "plt.imshow(x.T)\n",
    "x.shape"
   ]
  },
  {
   "cell_type": "code",
   "execution_count": 31,
   "metadata": {},
   "outputs": [
    {
     "data": {
      "text/plain": [
       "<matplotlib.image.AxesImage at 0x7f7c243a4be0>"
      ]
     },
     "execution_count": 31,
     "metadata": {},
     "output_type": "execute_result"
    },
    {
     "data": {
      "image/png": "[encoded data removed]",
      "text/plain": [
       "<Figure size 640x480 with 1 Axes>"
      ]
     },
     "metadata": {},
     "output_type": "display_data"
    }
   ],
   "source": [
    "np.linalg.norm(x[0]-np.zeros((320,320)))\n",
    "image = np.zeros((1,320,320))\n",
    "image = np.expand_dims(x[0], axis=0)\n",
    "plt.imshow(image.T, cmap=\"gray\")"
   ]
  },
  {
   "cell_type": "code",
   "execution_count": 42,
   "metadata": {},
   "outputs": [
    {
     "data": {
      "text/plain": [
       "<matplotlib.image.AxesImage at 0x7f7c1ff95450>"
      ]
     },
     "execution_count": 42,
     "metadata": {},
     "output_type": "execute_result"
    },
    {
     "data": {
      "image/png": "[encoded data removed]",
      "text/plain": [
       "<Figure size 640x480 with 1 Axes>"
      ]
     },
     "metadata": {},
     "output_type": "display_data"
    }
   ],
   "source": [
    "image_1 = np.zeros((1,320,320))\n",
    "for i in range(320):\n",
    "    for j in range(320):\n",
    "        if(image[0,i,j]>1.02):\n",
    "            image_1[0][i][j] = 0 \n",
    "        else:\n",
    "            image_1[0][i][j] = 1\n",
    "plt.imshow(image_1.T)"
   ]
  },
  {
   "cell_type": "code",
   "execution_count": 34,
   "metadata": {},
   "outputs": [
    {
     "data": {
      "image/png": "[encoded data removed]",
      "text/plain": [
       "<Figure size 640x480 with 1 Axes>"
      ]
     },
     "metadata": {},
     "output_type": "display_data"
    }
   ],
   "source": [
    "plt.hist(np.reshape(image, -1), bins=100)\n",
    "plt.show()"
   ]
  },
  {
   "cell_type": "code",
   "execution_count": 19,
   "metadata": {},
   "outputs": [
    {
     "data": {
      "text/plain": [
       "(80, 80)"
      ]
     },
     "execution_count": 19,
     "metadata": {},
     "output_type": "execute_result"
    },
    {
     "data": {
      "image/png": "[encoded data removed]",
      "text/plain": [
       "<Figure size 640x480 with 1 Axes>"
      ]
     },
     "metadata": {},
     "output_type": "display_data"
    }
   ],
   "source": [
    "x = auto_encoder.decode(torch.Tensor(dataset_final_1[2][0]).to(\"cuda:1\"))\n",
    "x = x.cpu().data.numpy()\n",
    "x = np.array(x)\n",
    "x = x[2,:,:]\n",
    "plt.imshow(x.T)\n",
    "x.shape"
   ]
  },
  {
   "cell_type": "code",
   "execution_count": 20,
   "metadata": {},
   "outputs": [
    {
     "data": {
      "text/plain": [
       "(5067, 32, 80, 80)"
      ]
     },
     "execution_count": 20,
     "metadata": {},
     "output_type": "execute_result"
    }
   ],
   "source": [
    "dataset_decoded = []\n",
    "for i in range(5067):\n",
    "    x = auto_encoder.decode(torch.Tensor(dataset_final_1[i][0]).to(\"cuda:1\"))\n",
    "    x = x.cpu().data.numpy()\n",
    "    x = np.array(x)\n",
    "    dataset_decoded.append(np.float32(x))\n",
    "dataset_decoded = np.array(dataset_decoded)\n",
    "dataset_decoded.shape"
   ]
  },
  {
   "cell_type": "code",
   "execution_count": 21,
   "metadata": {},
   "outputs": [],
   "source": [
    "dataset_final_decoded = []\n",
    "for i in range(5067):\n",
    "    img_arr = dataset_decoded[i]\n",
    "    dataset_final_decoded.append((torch.from_numpy(img_arr),0))"
   ]
  },
  {
   "cell_type": "code",
   "execution_count": 22,
   "metadata": {},
   "outputs": [
    {
     "data": {
      "text/plain": [
       "torch.Size([32, 80, 80])"
      ]
     },
     "execution_count": 22,
     "metadata": {},
     "output_type": "execute_result"
    }
   ],
   "source": [
    "dataset_final_decoded[0][0].shape"
   ]
  },
  {
   "cell_type": "code",
   "execution_count": 23,
   "metadata": {},
   "outputs": [
    {
     "data": {
      "text/plain": [
       "torch.Size([3, 320, 320])"
      ]
     },
     "execution_count": 23,
     "metadata": {},
     "output_type": "execute_result"
    }
   ],
   "source": [
    "x = torch.Tensor(dataset_decoded[0]).to(\"cuda:1\")\n",
    "x = auto_encoder.encode(torch.Tensor(x))\n",
    "x.shape"
   ]
  },
  {
   "cell_type": "code",
   "execution_count": 24,
   "metadata": {},
   "outputs": [
    {
     "name": "stderr",
     "output_type": "stream",
     "text": [
      "Clipping input data to the valid range for imshow with RGB data ([0..1] for floats or [0..255] for integers).\n"
     ]
    },
    {
     "data": {
      "text/plain": [
       "<matplotlib.image.AxesImage at 0x7f8f6d2aa260>"
      ]
     },
     "execution_count": 24,
     "metadata": {},
     "output_type": "execute_result"
    },
    {
     "data": {
      "image/png": "[encoded data removed]",
      "text/plain": [
       "<Figure size 640x480 with 1 Axes>"
      ]
     },
     "metadata": {},
     "output_type": "display_data"
    }
   ],
   "source": [
    "plt.imshow(x.cpu().data.numpy().T)"
   ]
  },
  {
   "cell_type": "code",
   "execution_count": 5,
   "metadata": {},
   "outputs": [
    {
     "ename": "NameError",
     "evalue": "name 'timesteps' is not defined",
     "output_type": "error",
     "traceback": [
      "\u001b[0;31m---------------------------------------------------------------------------\u001b[0m",
      "\u001b[0;31mNameError\u001b[0m                                 Traceback (most recent call last)",
      "Cell \u001b[0;32mIn[5], line 13\u001b[0m\n\u001b[1;32m      9\u001b[0m     img_inter_ddim \u001b[38;5;241m=\u001b[39m np\u001b[38;5;241m.\u001b[39msin(k\u001b[38;5;241m*\u001b[39mtheta)\u001b[38;5;241m/\u001b[39mnp\u001b[38;5;241m.\u001b[39msin(theta)\u001b[38;5;241m*\u001b[39mimg1_encode \u001b[38;5;241m+\u001b[39m np\u001b[38;5;241m.\u001b[39msin((\u001b[38;5;241m1\u001b[39m\u001b[38;5;241m-\u001b[39mk)\u001b[38;5;241m*\u001b[39mtheta)\u001b[38;5;241m/\u001b[39mnp\u001b[38;5;241m.\u001b[39msin(theta)\u001b[38;5;241m*\u001b[39mimg2_encode\n\u001b[1;32m     10\u001b[0m     \u001b[38;5;28;01mreturn\u001b[39;00m img_inter_ddim       \u001b[38;5;66;03m# create other dot products\u001b[39;00m\n\u001b[0;32m---> 13\u001b[0m \u001b[38;5;28;01mdef\u001b[39;00m \u001b[38;5;21minterpolator\u001b[39m(img1, img2, t_1 \u001b[38;5;241m=\u001b[39m \u001b[43mtimesteps\u001b[49m\u001b[38;5;241m*\u001b[39m\u001b[38;5;241m0.7\u001b[39m, k\u001b[38;5;241m=\u001b[39m\u001b[38;5;241m0.5\u001b[39m):\n\u001b[1;32m     14\u001b[0m     sample \u001b[38;5;241m=\u001b[39m stochastic_mixer(img1, img2, t, k)\n\u001b[1;32m     15\u001b[0m     t \u001b[38;5;241m=\u001b[39m torch\u001b[38;5;241m.\u001b[39mtensor(t_1 \u001b[38;5;241m/\u001b[39m timesteps)\u001b[38;5;241m.\u001b[39mto(device)\n",
      "\u001b[0;31mNameError\u001b[0m: name 'timesteps' is not defined"
     ]
    }
   ],
   "source": [
    "def stochastic_mixer(img1, img2, t, k):\n",
    "    noise_1 = torch.randn_like(img1)\n",
    "    noise_2 = torch.randn_like(img2)\n",
    "    img1_encode = perturb_input(img1, t, noise_1)\n",
    "    img2_encode = perturb_input(img2, t, noise_2)\n",
    "    img1_vec = np.reshape(img1, (-1, 1))\n",
    "    img2_vec = np.reshape(img2, (-1, 1))\n",
    "    theta = np.arccos(np.matmul(img1_vec.T, img2_vec))/np.linalg.norm(img1_vec)*np.linalg.norm(img2_vec)\n",
    "    img_inter_ddim = np.sin(k*theta)/np.sin(theta)*img1_encode + np.sin((1-k)*theta)/np.sin(theta)*img2_encode\n",
    "    return img_inter_ddim       # create other dot products\n",
    "    \n",
    "\n",
    "def interpolator(img1, img2, t_1 = timesteps*0.7, k=0.5):\n",
    "    sample = stochastic_mixer(img1, img2, t, k)\n",
    "    t = torch.tensor(t_1 / timesteps).to(device)\n",
    "    z = torch.randn_like(sample) if i > 1 else 0\n",
    "    eps = nn_model(samples, t)\n",
    "    sample = denoise_add_noise(sample, t_1, eps, z)\n",
    "    return sample\n",
    "\n",
    "def image_value(img):\n",
    "    value=0\n",
    "    for i in range(img.shape[0]):\n",
    "        for j in range(img.shape[1]):\n",
    "            value+=img[i][j]\n",
    "    return value"
   ]
  },
  {
   "cell_type": "code",
   "execution_count": 10,
   "metadata": {},
   "outputs": [
    {
     "data": {
      "text/plain": [
       "(5067, 3, 81, 81)"
      ]
     },
     "execution_count": 10,
     "metadata": {},
     "output_type": "execute_result"
    }
   ],
   "source": [
    "dataset_compressed = []\n",
    "\n",
    "for i in range(5067):\n",
    "    dataset_compressed.append(np.float32(np.array(dataset[i][0].T)))\n",
    "\n",
    "dataset_compressed = np.array(dataset_compressed)\n",
    "\n",
    "dataset_compressed = subsample(dataset_compressed, 4)\n",
    "\n",
    "dataset_compressed = np.array(dataset_compressed)\n",
    "dataset_compressed.shape"
   ]
  },
  {
   "cell_type": "code",
   "execution_count": 11,
   "metadata": {},
   "outputs": [
    {
     "data": {
      "text/plain": [
       "(5067, 3, 81, 81)"
      ]
     },
     "execution_count": 11,
     "metadata": {},
     "output_type": "execute_result"
    }
   ],
   "source": [
    "dataset_compressed = normalize_gray_images(np.float32(np.array(dataset_compressed)))\n",
    "dataset_compressed.shape\n"
   ]
  },
  {
   "cell_type": "code",
   "execution_count": 12,
   "metadata": {},
   "outputs": [],
   "source": [
    "dataset_final = []\n",
    "for i in range(5067):\n",
    "    img_arr = dataset_compressed[i]\n",
    "    img_arr = img_arr[:, :80, :80]\n",
    "    dataset_final.append((torch.from_numpy(img_arr),0))\n"
   ]
  },
  {
   "cell_type": "code",
   "execution_count": 52,
   "metadata": {},
   "outputs": [
    {
     "data": {
      "text/plain": [
       "torch.Size([3, 320, 320])"
      ]
     },
     "execution_count": 52,
     "metadata": {},
     "output_type": "execute_result"
    }
   ],
   "source": [
    "dataset_final_1[0][0].shape"
   ]
  },
  {
   "cell_type": "code",
   "execution_count": 51,
   "metadata": {},
   "outputs": [
    {
     "ename": "NameError",
     "evalue": "name 'dataset_final' is not defined",
     "output_type": "error",
     "traceback": [
      "\u001b[0;31m---------------------------------------------------------------------------\u001b[0m",
      "\u001b[0;31mNameError\u001b[0m                                 Traceback (most recent call last)",
      "Cell \u001b[0;32mIn[51], line 1\u001b[0m\n\u001b[0;32m----> 1\u001b[0m plt\u001b[38;5;241m.\u001b[39mimshow(\u001b[43mdataset_final\u001b[49m[\u001b[38;5;241m1\u001b[39m][\u001b[38;5;241m0\u001b[39m]\u001b[38;5;241m.\u001b[39mT)\n",
      "\u001b[0;31mNameError\u001b[0m: name 'dataset_final' is not defined"
     ]
    }
   ],
   "source": [
    "plt.imshow(dataset_final[1][0].T)"
   ]
  },
  {
   "cell_type": "code",
   "execution_count": 14,
   "metadata": {},
   "outputs": [
    {
     "name": "stderr",
     "output_type": "stream",
     "text": [
      "Clipping input data to the valid range for imshow with RGB data ([0..1] for floats or [0..255] for integers).\n"
     ]
    },
    {
     "data": {
      "text/plain": [
       "<matplotlib.image.AxesImage at 0x7fde18d14520>"
      ]
     },
     "execution_count": 14,
     "metadata": {},
     "output_type": "execute_result"
    },
    {
     "data": {
      "image/png": "[encoded data removed]",
      "text/plain": [
       "<Figure size 640x480 with 1 Axes>"
      ]
     },
     "metadata": {},
     "output_type": "display_data"
    }
   ],
   "source": [
    "plt.imshow(dataset_final[40][0].T, cmap=\"gray\")"
   ]
  },
  {
   "cell_type": "code",
   "execution_count": 15,
   "metadata": {},
   "outputs": [],
   "source": [
    "lst_img = []\n",
    "\n",
    "for i in range(50):\n",
    "    lst_img.append(np.array(dataset[i][0].T))\n",
    "\n",
    "lst_img = np.array(lst_img)"
   ]
  },
  {
   "cell_type": "code",
   "execution_count": 17,
   "metadata": {},
   "outputs": [],
   "source": [
    "lst_of_img_reduced = []\n",
    "loss_lst = []\n",
    "\n",
    "lst_of_img_damn = None\n",
    "for i in range(1,30):\n",
    "    loss_lst.append(0)\n",
    "for k in range(1,30):\n",
    "    lst_of_img_damn = subsample(lst_img, k)\n",
    "    latest_img = torch.from_numpy(lst_of_img_damn).float()\n",
    "    img_interpolated = F.interpolate(latest_img,(323,323), mode='bilinear')\n",
    "    for i in range(dataset[0][0].shape[0]):\n",
    "        img = lst_img[i]\n",
    "        img_int = img_interpolated[i].T\n",
    "        diff_img = np.array(img)- np.array(img_int)\n",
    "        loss_lst[k-1]+=(np.linalg.norm(diff_img))"
   ]
  },
  {
   "cell_type": "code",
   "execution_count": 19,
   "metadata": {},
   "outputs": [
    {
     "name": "stdout",
     "output_type": "stream",
     "text": [
      "[2.24391251e-05 2.05294446e+01 3.58241157e+01 5.63110584e+01\n",
      " 6.35083211e+01 9.57538384e+01 8.27760217e+01 9.17568271e+01\n",
      " 1.46519277e+02 1.10429324e+02 1.22690244e+02 1.81582643e+02\n",
      " 1.81416827e+02 1.53101674e+02 1.72457253e+02 1.65360604e+02\n",
      " 2.35410568e+02 2.41415553e+02 2.53441367e+02 1.95171239e+02\n",
      " 2.10294853e+02 2.37167219e+02 2.18104056e+02 2.27944067e+02\n",
      " 2.74460192e+02 2.42806607e+02 2.62515772e+02 2.44525516e+02\n",
      " 2.45035911e+02]\n"
     ]
    },
    {
     "data": {
      "text/plain": [
       "[<matplotlib.lines.Line2D at 0x7fde18fe2c50>]"
      ]
     },
     "execution_count": 19,
     "metadata": {},
     "output_type": "execute_result"
    },
    {
     "data": {
      "image/png": "[encoded data removed]",
      "text/plain": [
       "<Figure size 640x480 with 1 Axes>"
      ]
     },
     "metadata": {},
     "output_type": "display_data"
    }
   ],
   "source": [
    "print(np.array(loss_lst))\n",
    "plt.plot(loss_lst)"
   ]
  },
  {
   "cell_type": "code",
   "execution_count": 20,
   "metadata": {},
   "outputs": [
    {
     "name": "stdout",
     "output_type": "stream",
     "text": [
      "0\n",
      "100\n",
      "200\n",
      "300\n",
      "400\n",
      "500\n",
      "600\n",
      "700\n",
      "800\n",
      "900\n",
      "1000\n",
      "1100\n",
      "1200\n",
      "1300\n",
      "1400\n",
      "1500\n",
      "1600\n",
      "1700\n",
      "1800\n",
      "1900\n",
      "2000\n",
      "2100\n",
      "2200\n",
      "2300\n",
      "2400\n",
      "2500\n",
      "2600\n",
      "2700\n",
      "2800\n",
      "2900\n",
      "3000\n",
      "3100\n",
      "3200\n",
      "3300\n",
      "3400\n",
      "3500\n",
      "3600\n",
      "3700\n",
      "3800\n",
      "3900\n",
      "4000\n",
      "4100\n",
      "4200\n",
      "4300\n",
      "4400\n",
      "4500\n",
      "4600\n",
      "4700\n",
      "4800\n",
      "4900\n",
      "5000\n"
     ]
    },
    {
     "data": {
      "text/plain": [
       "(5067, 3, 81, 81)"
      ]
     },
     "execution_count": 20,
     "metadata": {},
     "output_type": "execute_result"
    }
   ],
   "source": [
    "dataset_compressed = []\n",
    "\n",
    "for i in range(5067):\n",
    "    dataset_compressed.append(np.float32(np.array(dataset[i][0].T)))\n",
    "    if(i%100==0):\n",
    "        print(i)\n",
    "dataset_compressed = np.array(dataset_compressed)\n",
    "\n",
    "dataset_compressed = subsample(dataset_compressed, 4)\n",
    "\n",
    "dataset_compressed = np.array(dataset_compressed)\n",
    "\n",
    "dataset_compressed.shape"
   ]
  },
  {
   "cell_type": "code",
   "execution_count": 16,
   "metadata": {},
   "outputs": [
    {
     "data": {
      "text/plain": [
       "(5067, 3, 81, 81)"
      ]
     },
     "execution_count": 16,
     "metadata": {},
     "output_type": "execute_result"
    }
   ],
   "source": [
    "dataset_compressed = normalize_images(np.float32(np.array(dataset_compressed)))\n",
    "dataset_compressed.shape"
   ]
  },
  {
   "cell_type": "code",
   "execution_count": 17,
   "metadata": {},
   "outputs": [],
   "source": [
    "dataset_final = []\n",
    "for i in range(5067):\n",
    "    img_arr = dataset_compressed[i]\n",
    "    img_arr = img_arr[:, :80, :80]\n",
    "    dataset_final.append((torch.from_numpy(img_arr),0))\n"
   ]
  },
  {
   "cell_type": "code",
   "execution_count": 25,
   "metadata": {
    "id": "RXh5WJzawU-h"
   },
   "outputs": [],
   "source": [
    "class ResidualConvBlock(nn.Module):\n",
    "    def __init__(self, in_channels: int, out_channels: int, is_res: bool = False) -> None:\n",
    "        super().__init__()\n",
    "        self.same_channels = in_channels == out_channels\n",
    "        self.is_res = is_res\n",
    "        self.conv1 = nn.Sequential(\n",
    "            nn.Conv2d(in_channels, out_channels, 3, 1, 1),\n",
    "            nn.BatchNorm2d(out_channels), \n",
    "            nn.GELU(), \n",
    "        )\n",
    "        self.conv2 = nn.Sequential(\n",
    "            nn.Conv2d(out_channels, out_channels, 3, 1, 1),\n",
    "            nn.BatchNorm2d(out_channels),\n",
    "            nn.GELU(),\n",
    "        )\n",
    "\n",
    "    def forward(self, x: torch.Tensor) -> torch.Tensor:\n",
    "        if self.is_res:\n",
    "            x1 = self.conv1(x)\n",
    "            x2 = self.conv2(x1)\n",
    "            if self.same_channels:\n",
    "                out = x + x2\n",
    "            else:  \n",
    "                shortcut = nn.Conv2d(x.shape[1], x2.shape[1], kernel_size=1, stride=1, padding=0).to(x.device)\n",
    "                out = shortcut(x) + x2\n",
    "            return out / 1.414\n",
    "        else:\n",
    "            x1 = self.conv1(x)\n",
    "            x2 = self.conv2(x1)\n",
    "            return x2"
   ]
  },
  {
   "cell_type": "code",
   "execution_count": 26,
   "metadata": {
    "id": "QlBlPqCSWBvx"
   },
   "outputs": [],
   "source": [
    "class UnetDown(nn.Module):\n",
    "    def __init__(self, in_channels, out_channels):\n",
    "        super(UnetDown, self).__init__()\n",
    "        layers = [ResidualConvBlock(in_channels, out_channels), nn.MaxPool2d(2)]\n",
    "        self.model = nn.Sequential(*layers)\n",
    "\n",
    "    def forward(self, x):\n",
    "        return self.model(x)\n",
    "\n",
    "class UnetUp(nn.Module):\n",
    "    def __init__(self, in_channels, out_channels):\n",
    "        super(UnetUp, self).__init__()\n",
    "        layers = [\n",
    "            nn.ConvTranspose2d(in_channels, out_channels, 2, 2),\n",
    "            ResidualConvBlock(out_channels, out_channels),\n",
    "            ResidualConvBlock(out_channels, out_channels), \n",
    "        ]\n",
    "        self.model = nn.Sequential(*layers)\n",
    "\n",
    "    def forward(self, x, skip):\n",
    "        return self.model(torch.cat((x, skip), 1))\n"
   ]
  },
  {
   "cell_type": "code",
   "execution_count": 27,
   "metadata": {
    "id": "yeTlCQ6JWB1-"
   },
   "outputs": [],
   "source": [
    "\n",
    "class EmbedFC(nn.Module):\n",
    "    def __init__(self, input_dim , emb_dim):\n",
    "        super(EmbedFC, self).__init__()\n",
    "        self.input_dim = input_dim\n",
    "        layers = [\n",
    "            nn.Linear(input_dim, emb_dim),\n",
    "            nn.GELU(),\n",
    "            nn.Linear(emb_dim, emb_dim),\n",
    "        ]\n",
    "        self.model = nn.Sequential(*layers)\n",
    "\n",
    "    def forward(self, x):\n",
    "        x = x.view(-1, self.input_dim).to(device)\n",
    "        return self.model(x)"
   ]
  },
  {
   "cell_type": "code",
   "execution_count": 48,
   "metadata": {
    "id": "4F88l1xfV3AF"
   },
   "outputs": [],
   "source": [
    "class ContextUnet(nn.Module):\n",
    "    def __init__(self, in_channels, n_feat=256, n_cfeat=10):\n",
    "        super(ContextUnet, self).__init__()\n",
    "        self.in_channels = in_channels\n",
    "        self.n_feat = n_feat\n",
    "        self.n_cfeat = n_cfeat\n",
    "        self.init_conv = ResidualConvBlock(in_channels, n_feat, is_res=True)\n",
    "        self.down1 = UnetDown(n_feat, n_feat)\n",
    "        self.down2 = UnetDown(n_feat, 2 * n_feat)\n",
    "        self.to_vec = nn.Sequential(nn.AvgPool2d((2)), nn.GELU())\n",
    "        self.timeembed1 = EmbedFC(1, 2*n_feat)\n",
    "        self.timeembed2 = EmbedFC(1, 1*n_feat)\n",
    "        self.contextembed1 = EmbedFC(n_cfeat, 2*n_feat)\n",
    "        self.contextembed2 = EmbedFC(n_cfeat, 1*n_feat)\n",
    "        self.up0 = nn.Sequential(\n",
    "            nn.ConvTranspose2d(2 * n_feat, 2 * n_feat, 2, 2), \n",
    "            nn.GroupNorm(8, 2 * n_feat),                        \n",
    "            nn.ReLU(),\n",
    "        )\n",
    "        self.up1 = UnetUp(4 * n_feat, n_feat)\n",
    "        self.up2 = UnetUp(2 * n_feat, n_feat)\n",
    "        self.out = nn.Sequential(\n",
    "            nn.Conv2d(2 * n_feat, n_feat, 3, 1, 1),\n",
    "            nn.GroupNorm(8, n_feat),\n",
    "            nn.ReLU(),\n",
    "            nn.Conv2d(n_feat, self.in_channels, 3, 1, 1),\n",
    "        )\n",
    "\n",
    "    def forward(self, x, t, c=None):\n",
    "        x = self.init_conv(x)\n",
    "        down1 = self.down1(x)\n",
    "        down2 = self.down2(down1)\n",
    "        hiddenvec = self.to_vec(down2)\n",
    "        if c is None:\n",
    "            c = torch.zeros(x.shape[0], self.n_cfeat).to(x)\n",
    "        cemb1 = self.contextembed1(c).view(-1, self.n_feat * 2, 1, 1)     # (batch, 2*n_feat, 1,1)\n",
    "        temb1 = self.timeembed1(t).view(-1, self.n_feat * 2, 1, 1)\n",
    "        cemb2 = self.contextembed2(c).view(-1, self.n_feat, 1, 1)\n",
    "        temb2 = self.timeembed2(t).view(-1, self.n_feat, 1, 1)\n",
    "        up1 = self.up0(hiddenvec)\n",
    "        up2 = self.up1(cemb1*up1 + temb1, down2)\n",
    "        up3 = self.up2(cemb2*up2 + temb2, down1)\n",
    "        out = self.out(torch.cat((up3, x), 1))\n",
    "        return out\n"
   ]
  },
  {
   "cell_type": "code",
   "execution_count": 50,
   "metadata": {},
   "outputs": [],
   "source": [
    "class ContextUnet(nn.Module):\n",
    "    def __init__(self, in_channels, n_feat=256, n_cfeat=10):\n",
    "        super(ContextUnet, self).__init__()\n",
    "        self.in_channels = in_channels\n",
    "        self.n_feat = n_feat\n",
    "        self.n_cfeat = n_cfeat\n",
    "        self.init_conv = ResidualConvBlock(in_channels, n_feat, is_res=True)\n",
    "        self.down1 = UnetDown(n_feat, n_feat)\n",
    "        self.down2 = UnetDown(n_feat, 2 * n_feat)\n",
    "        self.down3 = UnetDown(2 * n_feat, 4 * n_feat)\n",
    "        self.to_vec = nn.Sequential(nn.AvgPool2d((2)), nn.GELU())\n",
    "        self.timeembed1 = EmbedFC(1, 4*n_feat)\n",
    "        self.timeembed2 = EmbedFC(1, 2*n_feat)\n",
    "        self.timeembed3 = EmbedFC(1, 1*n_feat)\n",
    "        self.contextembed1 = EmbedFC(n_cfeat, 4*n_feat)\n",
    "        self.contextembed2 = EmbedFC(n_cfeat, 2*n_feat)\n",
    "        self.contextembed3 = EmbedFC(n_cfeat, 1*n_feat)\n",
    "        self.up0 = nn.Sequential(\n",
    "            nn.ConvTranspose2d(4 * n_feat, 4 * n_feat, 2, 2),\n",
    "            nn.GroupNorm(8, 4 * n_feat),\n",
    "            nn.ReLU(),\n",
    "        )\n",
    "        self.up1 = UnetUp(8 * n_feat, 2 * n_feat)\n",
    "        self.up2 = UnetUp(4 * n_feat, n_feat)\n",
    "        self.up3 = UnetUp(2 * n_feat, n_feat)\n",
    "        self.out = nn.Sequential(\n",
    "            nn.Conv2d(2 * n_feat, n_feat, 3, 1, 1),\n",
    "            nn.GroupNorm(8, n_feat),\n",
    "            nn.ReLU(),\n",
    "            nn.Conv2d(n_feat, self.in_channels, 3, 1, 1),\n",
    "        )\n",
    "\n",
    "    def forward(self, x, t, c=None):\n",
    "        x = self.init_conv(x)\n",
    "        down1 = self.down1(x)\n",
    "        down2 = self.down2(down1)\n",
    "        down3 = self.down3(down2)\n",
    "        hiddenvec = self.to_vec(down3)\n",
    "        if c is None:\n",
    "            c = torch.zeros(x.shape[0], self.n_cfeat).to(x)\n",
    "        cemb1 = self.contextembed1(c).view(-1, self.n_feat * 4, 1, 1)\n",
    "        temb1 = self.timeembed1(t).view(-1, self.n_feat * 4, 1, 1)\n",
    "        cemb2 = self.contextembed2(c).view(-1, self.n_feat * 2, 1, 1)     # (batch, 2*n_feat, 1,1)\n",
    "        temb2 = self.timeembed2(t).view(-1, self.n_feat * 2, 1, 1)\n",
    "        cemb3 = self.contextembed3(c).view(-1, self.n_feat, 1, 1)\n",
    "        temb3 = self.timeembed3(t).view(-1, self.n_feat, 1, 1)\n",
    "\n",
    "        up1 = self.up0(hiddenvec)\n",
    "        up2 = self.up1(cemb1*up1 + temb1, down3)\n",
    "        up3 = self.up2(cemb2*up2 + temb2, down2)\n",
    "        up4 = self.up3(cemb3*up3 + temb3, down1)\n",
    "        out = self.out(torch.cat((up4, x), 1))\n",
    "        return out\n"
   ]
  },
  {
   "cell_type": "code",
   "execution_count": 51,
   "metadata": {
    "id": "P0abri9TWKUA"
   },
   "outputs": [],
   "source": [
    "timesteps = 1000\n",
    "beta1 = 1e-4\n",
    "beta2 = 0.02\n",
    "\n",
    "\n",
    "device=\"cuda:1\"\n",
    "n_feat = 128\n",
    "n_cfeat = 10 \n",
    "height = 80\n",
    "save_dir = './weight_nn_decoded/'\n",
    "\n",
    "batch_size = 128\n",
    "n_epoch = 5000\n",
    "lrate=1e-3"
   ]
  },
  {
   "cell_type": "code",
   "execution_count": 52,
   "metadata": {
    "id": "MdHawegkWMAg"
   },
   "outputs": [],
   "source": [
    "b_t = (beta2 - beta1) * torch.linspace(0, 1, timesteps + 1) + beta1\n",
    "a_t = 1 - b_t\n",
    "ab_t = torch.cumsum(a_t.log(), dim=0).exp()    \n",
    "ab_t[0] = 1\n",
    "b_t = b_t.to(device)\n",
    "a_t  = a_t.to(b_t)\n",
    "ab_t = ab_t.to(a_t)"
   ]
  },
  {
   "cell_type": "code",
   "execution_count": 21,
   "metadata": {},
   "outputs": [],
   "source": [
    "s=0.008\n",
    "f = (torch.cos((torch.linspace(0, timesteps, timesteps + 1)/timesteps+s)/(1+s) * torch.asin(torch.tensor(1))))**2\n",
    "ab_t = f/(torch.cos((s)/(1+s) * torch.asin(torch.tensor(1))))**2\n",
    "b_t = []\n",
    "for i in range(1, timesteps):\n",
    "    b_t.append(1-ab_t[i]/ab_t[i-1])\n",
    "b_t = torch.tensor(b_t)\n",
    "a_t = 1 - b_t\n",
    "b_t = b_t.to(device)\n",
    "a_t  = a_t.to(b_t)\n",
    "ab_t = ab_t.to(a_t)"
   ]
  },
  {
   "cell_type": "code",
   "execution_count": 53,
   "metadata": {
    "id": "_qLq6GEKWVzt"
   },
   "outputs": [],
   "source": [
    "@torch.no_grad()\n",
    "def sample_ddpm_context(n_sample, save_rate=20):\n",
    "    # x_T ~ N(0, 1), sample initial noise\n",
    "    samples = torch.randn(n_sample, 32, height, height).to(device)  \n",
    "\n",
    "    # array to keep track of generated steps for plotting\n",
    "    intermediate = [] \n",
    "    for i in range(timesteps, 0, -1):\n",
    "        # reshape time tensor\n",
    "        t = torch.tensor([i / timesteps])[:, None, None, None].to(device)\n",
    "\n",
    "        # sample some random noise to inject back in. For i = 1, don't add back in noise\n",
    "        z = torch.randn_like(samples) if i > 1 else 0\n",
    "\n",
    "        eps = nn_model(samples, t)    # predict noise e_(x_t,t, ctx)\n",
    "        samples = denoise_add_noise(samples, i, eps, z)\n",
    "        if i % save_rate==0 or i==timesteps or i<8:\n",
    "            intermediate.append(samples.detach().cpu().numpy())\n",
    "\n",
    "    intermediate = np.stack(intermediate)\n",
    "    return samples, intermediate"
   ]
  },
  {
   "cell_type": "code",
   "execution_count": 54,
   "metadata": {
    "id": "SOu1LS2AWOov"
   },
   "outputs": [],
   "source": [
    "nn_model = ContextUnet(in_channels=32, n_feat=n_feat, n_cfeat=n_cfeat).to(device)\n",
    "optim = torch.optim.Adam(nn_model.parameters(), lr=lrate)"
   ]
  },
  {
   "cell_type": "code",
   "execution_count": 55,
   "metadata": {
    "colab": {
     "base_uri": "https://localhost:8080/"
    },
    "id": "FhvGmM2wXQ4s",
    "outputId": "5953731b-0a85-40f6-db2e-b794a44c80c3"
   },
   "outputs": [],
   "source": [
    "dataloader = DataLoader(dataset_final_decoded, batch_size=batch_size, shuffle=True)\n",
    "optim = torch.optim.Adam(nn_model.parameters(), lr=lrate)"
   ]
  },
  {
   "cell_type": "code",
   "execution_count": 56,
   "metadata": {
    "id": "hWPgKPrOXdmg"
   },
   "outputs": [],
   "source": [
    "# helper function: perturbs an image to a specified noise level\n",
    "def perturb_input(x, t, noise, device=device):\n",
    "    final = ab_t.sqrt()[t, None, None, None] * x + (1 - ab_t[t, None, None, None]) * noise\n",
    "    final = final.to(device)\n",
    "    return final"
   ]
  },
  {
   "cell_type": "code",
   "execution_count": 57,
   "metadata": {
    "id": "DWbssCNVWSnB"
   },
   "outputs": [],
   "source": [
    "# helper function; removes the predicted noise (but adds some noise back in to avoid collapse)\n",
    "def denoise_add_noise(x, t, pred_noise, z=None):\n",
    "    if z is None:\n",
    "        z = torch.randn_like(x)\n",
    "    noise = b_t.sqrt()[t] * z\n",
    "    mean = (x - pred_noise * ((1 - a_t[t]) / (1 - ab_t[t]).sqrt())) / a_t[t].sqrt()\n",
    "    return mean + noise"
   ]
  },
  {
   "cell_type": "code",
   "execution_count": 58,
   "metadata": {},
   "outputs": [],
   "source": [
    "# define sampling function for DDIM   \n",
    "# removes the noise using ddim\n",
    "def denoise_ddim(x, t, t_prev, pred_noise):\n",
    "    ab = ab_t[t]\n",
    "    ab_prev = ab_t[t_prev]\n",
    "    \n",
    "    x0_pred = ab_prev.sqrt() / ab.sqrt() * (x - (1 - ab).sqrt() * pred_noise)\n",
    "    dir_xt = (1 - ab_prev).sqrt() * pred_noise\n",
    "\n",
    "    return x0_pred + dir_xt"
   ]
  },
  {
   "cell_type": "code",
   "execution_count": 59,
   "metadata": {},
   "outputs": [],
   "source": [
    "# fast sampling algorithm with context\n",
    "@torch.no_grad()\n",
    "def sample_ddim_context(n_sample, n=20):\n",
    "    # x_T ~ N(0, 1), sample initial noise\n",
    "    samples = torch.randn(n_sample, 32, height, height).to(device)  \n",
    "\n",
    "    # array to keep track of generated steps for plotting\n",
    "    intermediate = [] \n",
    "    step_size = timesteps // n\n",
    "    for i in range(timesteps, 0, -step_size):\n",
    "        \n",
    "        # reshape time tensor\n",
    "        t = torch.tensor([i / timesteps])[:, None, None, None].to(device)\n",
    "\n",
    "        eps = nn_model(samples, t)    # predict noise e_(x_t,t)\n",
    "        samples = denoise_ddim(samples, i, i - step_size, eps)\n",
    "        intermediate.append(samples.detach().cpu().numpy())\n",
    "\n",
    "    intermediate = np.stack(intermediate)\n",
    "    return samples, intermediate"
   ]
  },
  {
   "cell_type": "code",
   "execution_count": 60,
   "metadata": {
    "id": "jQNyQpQ9oHRR"
   },
   "outputs": [],
   "source": [
    "def make_encoding(x, n_samples=batch_size, n_classes=n_cfeat):\n",
    "    encode = [\n",
    "    [1,0,0,0,0,0,0,0,0,0],  \n",
    "    [0,1,0,0,0,0,0,0,0,0],    \n",
    "    [0,0,1,0,0,0,0,0,0,0],\n",
    "    [0,0,0,1,0,0,0,0,0,0],\n",
    "    [0,0,0,0,1,0,0,0,0,0],\n",
    "    [0,0,0,0,0,1,0,0,0,0],\n",
    "    [0,0,0,0,0,0,1,0,0,0],\n",
    "    [0,0,0,0,0,0,0,1,0,0],\n",
    "    [0,0,0,0,0,0,0,0,1,0],\n",
    "    [0,0,0,0,0,0,0,0,0,1]\n",
    "    ]\n",
    "    final = np.zeros((n_samples, n_classes))\n",
    "    for i in range(n_samples):\n",
    "        final[i] = encode[x[i].int()]\n",
    "    final = torch.tensor(final).float().to(device)\n",
    "    return final"
   ]
  },
  {
   "cell_type": "code",
   "execution_count": 61,
   "metadata": {},
   "outputs": [],
   "source": [
    "loss_train  = []"
   ]
  },
  {
   "cell_type": "code",
   "execution_count": 62,
   "metadata": {
    "id": "-8zQfjIZWYLf"
   },
   "outputs": [],
   "source": [
    "def show_images(imgs, nrow=2):\n",
    "    _, axs = plt.subplots(nrow, imgs.shape[0] // nrow, figsize=(4,2 ))\n",
    "    axs = axs.flatten()\n",
    "    for img, ax in zip(imgs, axs):\n",
    "        img = (img.permute(1, 2, 0).clip(-1, 1).detach().cpu().numpy() + 1) / 2\n",
    "        ax.set_xticks([])\n",
    "        ax.set_yticks([])\n",
    "        ax.imshow(img, cmap='gray')\n",
    "    plt.show()"
   ]
  },
  {
   "cell_type": "code",
   "execution_count": 63,
   "metadata": {},
   "outputs": [
    {
     "data": {
      "text/plain": [
       "0.0"
      ]
     },
     "execution_count": 63,
     "metadata": {},
     "output_type": "execute_result"
    }
   ],
   "source": [
    "torch.cuda.memory_allocated(torch.device(\"cuda\")) * 1e-9"
   ]
  },
  {
   "cell_type": "code",
   "execution_count": 34,
   "metadata": {},
   "outputs": [
    {
     "data": {
      "text/plain": [
       "<All keys matched successfully>"
      ]
     },
     "execution_count": 34,
     "metadata": {},
     "output_type": "execute_result"
    }
   ],
   "source": [
    "checkpoint = torch.load(f\"{save_dir}nn_model_tryptag6420.pth\", map_location = device)\n",
    "epoch = checkpoint['epoch']\n",
    "optim.load_state_dict(checkpoint['optimizer_state_dict'])\n",
    "nn_model.load_state_dict(checkpoint['model_state_dict'])"
   ]
  },
  {
   "cell_type": "code",
   "execution_count": 35,
   "metadata": {},
   "outputs": [],
   "source": [
    "loss_values_1 = []\n",
    "epoch=0"
   ]
  },
  {
   "cell_type": "code",
   "execution_count": 47,
   "metadata": {},
   "outputs": [
    {
     "data": {
      "text/plain": [
       "[1.145786166191101,\n",
       " 1.224131464958191,\n",
       " 1.1024025678634644,\n",
       " 0.8954920768737793,\n",
       " 0.8134700059890747,\n",
       " 0.721552848815918,\n",
       " 0.7527568936347961,\n",
       " 0.6437762975692749,\n",
       " 0.5956993699073792,\n",
       " 0.5834311246871948,\n",
       " 0.5272763967514038,\n",
       " 0.5189197063446045,\n",
       " 0.4295951724052429,\n",
       " 0.42392048239707947,\n",
       " 0.35207968950271606,\n",
       " 0.3728736340999603,\n",
       " 0.31271758675575256,\n",
       " 0.45025384426116943,\n",
       " 0.3415336012840271,\n",
       " 0.3545990288257599,\n",
       " 0.34924113750457764,\n",
       " 0.38385599851608276,\n",
       " 0.3301984965801239,\n",
       " 0.3027195632457733,\n",
       " 0.2774387300014496,\n",
       " 0.36543041467666626,\n",
       " 0.3589394986629486,\n",
       " 0.3151460886001587,\n",
       " 0.24394257366657257,\n",
       " 0.3327803313732147,\n",
       " 0.25153663754463196,\n",
       " 0.3570013642311096,\n",
       " 0.2795880138874054,\n",
       " 0.2507716715335846,\n",
       " 0.24015845358371735,\n",
       " 0.2478528618812561,\n",
       " 0.31702902913093567,\n",
       " 0.1710890680551529,\n",
       " 0.26615792512893677,\n",
       " 0.21728597581386566,\n",
       " 0.21172188222408295,\n",
       " 0.27311134338378906,\n",
       " 0.3186182379722595,\n",
       " 0.2063940316438675,\n",
       " 0.3080774247646332,\n",
       " 0.17371061444282532,\n",
       " 0.2615916430950165,\n",
       " 0.21391136944293976,\n",
       " 0.31602731347084045,\n",
       " 0.19882707297801971,\n",
       " 0.26428472995758057,\n",
       " 0.24938373267650604,\n",
       " 0.16192574799060822,\n",
       " 0.2995447814464569,\n",
       " 0.2646665573120117,\n",
       " 0.26342931389808655,\n",
       " 0.18115420639514923,\n",
       " 0.2384217381477356,\n",
       " 0.254672110080719,\n",
       " 0.2121434062719345,\n",
       " 0.291448175907135,\n",
       " 0.1842871606349945,\n",
       " 0.24090814590454102,\n",
       " 0.24139222502708435,\n",
       " 0.29470324516296387,\n",
       " 0.19320902228355408,\n",
       " 0.12563548982143402,\n",
       " 0.31325164437294006,\n",
       " 0.31230971217155457,\n",
       " 0.305799663066864,\n",
       " 0.1691850870847702,\n",
       " 0.23345257341861725,\n",
       " 0.2279101312160492,\n",
       " 0.28376418352127075,\n",
       " 0.2657594382762909,\n",
       " 0.2567574679851532,\n",
       " 0.21323390305042267,\n",
       " 0.16553251445293427,\n",
       " 0.2228001058101654,\n",
       " 0.3039759695529938,\n",
       " 0.2591603994369507,\n",
       " 0.20130805671215057,\n",
       " 0.22626754641532898,\n",
       " 0.1817534863948822,\n",
       " 0.20289084315299988,\n",
       " 0.1834234744310379,\n",
       " 0.19379134476184845,\n",
       " 0.22111061215400696,\n",
       " 0.2940196990966797,\n",
       " 0.2359153777360916,\n",
       " 0.25543883442878723,\n",
       " 0.19510908424854279,\n",
       " 0.1090538427233696,\n",
       " 0.19650636613368988,\n",
       " 0.15578944981098175,\n",
       " 0.2326882779598236,\n",
       " 0.1851382553577423,\n",
       " 0.166836217045784,\n",
       " 0.21220733225345612,\n",
       " 0.2215859740972519,\n",
       " 0.17248596251010895,\n",
       " 0.09483454376459122,\n",
       " 0.15269735455513,\n",
       " 0.11046450585126877,\n",
       " 0.20452086627483368,\n",
       " 0.1867559254169464,\n",
       " 0.19291511178016663,\n",
       " 0.23814092576503754,\n",
       " 0.14031817018985748,\n",
       " 0.2455451488494873,\n",
       " 0.14510782063007355,\n",
       " 0.2053537517786026,\n",
       " 0.14598755538463593,\n",
       " 0.1610652059316635,\n",
       " 0.20621918141841888,\n",
       " 0.218919575214386,\n",
       " 0.2328132838010788,\n",
       " 0.1711779087781906,\n",
       " 0.19486966729164124,\n",
       " 0.20856395363807678,\n",
       " 0.20360632240772247,\n",
       " 0.19207118451595306,\n",
       " 0.19840918481349945,\n",
       " 0.2292574942111969,\n",
       " 0.12413610517978668,\n",
       " 0.1367027908563614,\n",
       " 0.19885100424289703,\n",
       " 0.17758548259735107,\n",
       " 0.13946250081062317,\n",
       " 0.12846441566944122,\n",
       " 0.11335892230272293,\n",
       " 0.13010962307453156,\n",
       " 0.21369482576847076,\n",
       " 0.16109468042850494,\n",
       " 0.16142679750919342,\n",
       " 0.15655262768268585,\n",
       " 0.22338224947452545,\n",
       " 0.178562194108963,\n",
       " 0.12689895927906036,\n",
       " 0.13587704300880432,\n",
       " 0.10966277867555618,\n",
       " 0.1474086344242096,\n",
       " 0.15538768470287323,\n",
       " 0.1317758709192276,\n",
       " 0.17806901037693024,\n",
       " 0.18991898000240326,\n",
       " 0.14607708156108856,\n",
       " 0.14927861094474792,\n",
       " 0.18368564546108246,\n",
       " 0.17497143149375916,\n",
       " 0.20060810446739197,\n",
       " 0.18819525837898254,\n",
       " 0.17559775710105896,\n",
       " 0.11946938931941986,\n",
       " 0.1135561615228653,\n",
       " 0.1092337891459465,\n",
       " 0.2051488608121872,\n",
       " 0.15252327919006348,\n",
       " 0.10412169992923737,\n",
       " 0.22304899990558624,\n",
       " 0.13532674312591553,\n",
       " 0.21549254655838013,\n",
       " 0.17563840746879578,\n",
       " 0.20545846223831177,\n",
       " 0.18673935532569885,\n",
       " 0.16138248145580292,\n",
       " 0.2129931002855301,\n",
       " 0.11693781614303589,\n",
       " 0.11852091550827026,\n",
       " 0.15372812747955322,\n",
       " 0.1469266712665558,\n",
       " 0.1968689262866974,\n",
       " 0.17651312053203583,\n",
       " 0.22194832563400269,\n",
       " 0.17772379517555237,\n",
       " 0.23161107301712036,\n",
       " 0.18397411704063416,\n",
       " 0.2086351215839386,\n",
       " 0.16501063108444214,\n",
       " 0.14792665839195251,\n",
       " 0.16156838834285736,\n",
       " 0.143153116106987,\n",
       " 0.15029580891132355,\n",
       " 0.1471322923898697,\n",
       " 0.1724739372730255,\n",
       " 0.1632814109325409,\n",
       " 0.11949731409549713,\n",
       " 0.15718215703964233,\n",
       " 0.19158993661403656,\n",
       " 0.1272641271352768,\n",
       " 0.1841142624616623,\n",
       " 0.21036872267723083,\n",
       " 0.13557282090187073,\n",
       " 0.23250792920589447,\n",
       " 0.15590894222259521,\n",
       " 0.1777115911245346,\n",
       " 0.111862912774086,\n",
       " 0.16839690506458282,\n",
       " 0.1366499364376068,\n",
       " 0.13774271309375763,\n",
       " 0.17804443836212158,\n",
       " 0.12045038491487503,\n",
       " 0.1569124460220337,\n",
       " 0.09482917189598083,\n",
       " 0.12335771322250366,\n",
       " 0.1264849603176117,\n",
       " 0.14371588826179504,\n",
       " 0.1245066449046135,\n",
       " 0.20058678090572357,\n",
       " 0.14679183065891266,\n",
       " 0.1344996839761734,\n",
       " 0.16020460426807404,\n",
       " 0.16787482798099518,\n",
       " 0.14690884947776794,\n",
       " 0.15584959089756012,\n",
       " 0.16918742656707764,\n",
       " 0.11073409020900726,\n",
       " 0.11837715655565262,\n",
       " 0.10903908312320709,\n",
       " 0.20145514607429504,\n",
       " 0.13719512522220612,\n",
       " 0.2073441445827484,\n",
       " 0.17373254895210266,\n",
       " 0.15774735808372498,\n",
       " 0.19523173570632935,\n",
       " 0.15333952009677887,\n",
       " 0.16225934028625488,\n",
       " 0.20408616960048676,\n",
       " 0.126189723610878,\n",
       " 0.15476764738559723,\n",
       " 0.1430819034576416,\n",
       " 0.2454199194908142,\n",
       " 0.1352672278881073,\n",
       " 0.11763950437307358,\n",
       " 0.1588132232427597,\n",
       " 0.13438266515731812,\n",
       " 0.19597704708576202,\n",
       " 0.14430108666419983,\n",
       " 0.16922107338905334,\n",
       " 0.1338338851928711,\n",
       " 0.09688380360603333,\n",
       " 0.13228262960910797,\n",
       " 0.07668852806091309,\n",
       " 0.11162461340427399,\n",
       " 0.11989443749189377,\n",
       " 0.2659282386302948,\n",
       " 0.1353864073753357,\n",
       " 0.1938549131155014,\n",
       " 0.1791078746318817,\n",
       " 0.13787256181240082,\n",
       " 0.14287923276424408,\n",
       " 0.15976479649543762,\n",
       " 0.1528894603252411,\n",
       " 0.19573821127414703,\n",
       " 0.13293977081775665,\n",
       " 0.12964168190956116,\n",
       " 0.09398699551820755,\n",
       " 0.1975679099559784,\n",
       " 0.155029296875,\n",
       " 0.1701509952545166,\n",
       " 0.08263815939426422,\n",
       " 0.2059161365032196,\n",
       " 0.20445755124092102,\n",
       " 0.16394326090812683,\n",
       " 0.2272874116897583,\n",
       " 0.14365780353546143,\n",
       " 0.10209131985902786,\n",
       " 0.13596799969673157,\n",
       " 0.211828351020813,\n",
       " 0.11565558612346649,\n",
       " 0.09682618826627731,\n",
       " 0.1927032619714737,\n",
       " 0.1562241166830063,\n",
       " 0.1357007771730423,\n",
       " 0.1455189734697342,\n",
       " 0.15620091557502747,\n",
       " 0.23373515903949738,\n",
       " 0.1363576054573059,\n",
       " 0.17231081426143646,\n",
       " 0.17188137769699097,\n",
       " 0.14024677872657776,\n",
       " 0.16466708481311798,\n",
       " 0.12737560272216797,\n",
       " 0.13893502950668335,\n",
       " 0.13910238444805145,\n",
       " 0.1401408165693283,\n",
       " 0.12321820110082626,\n",
       " 0.1484328955411911,\n",
       " 0.15568573772907257,\n",
       " 0.1496744453907013,\n",
       " 0.11993996053934097,\n",
       " 0.07747257500886917,\n",
       " 0.07935839891433716,\n",
       " 0.11973520368337631,\n",
       " 0.15408535301685333,\n",
       " 0.17199589312076569,\n",
       " 0.14556266367435455,\n",
       " 0.1109781488776207,\n",
       " 0.18834346532821655,\n",
       " 0.10047824680805206,\n",
       " 0.16944703459739685,\n",
       " 0.16263708472251892,\n",
       " 0.09841373562812805,\n",
       " 0.1365579068660736,\n",
       " 0.12265029549598694,\n",
       " 0.11356157809495926,\n",
       " 0.13796426355838776,\n",
       " 0.13798542320728302,\n",
       " 0.13311134278774261,\n",
       " 0.11860409379005432,\n",
       " 0.07191923260688782,\n",
       " 0.12340130656957626,\n",
       " 0.16046398878097534,\n",
       " 0.13069254159927368,\n",
       " 0.1600613296031952,\n",
       " 0.16514156758785248,\n",
       " 0.17550452053546906,\n",
       " 0.12904056906700134,\n",
       " 0.10940059274435043,\n",
       " 0.1289670765399933,\n",
       " 0.14124378561973572,\n",
       " 0.10068798810243607,\n",
       " 0.20874521136283875,\n",
       " 0.1444689780473709,\n",
       " 0.14124795794487,\n",
       " 0.09172381460666656,\n",
       " 0.16135156154632568,\n",
       " 0.11293061077594757,\n",
       " 0.11781761795282364,\n",
       " 0.12760914862155914,\n",
       " 0.1268044263124466,\n",
       " 0.09984365850687027,\n",
       " 0.2126930058002472,\n",
       " 0.13958367705345154,\n",
       " 0.12600797414779663,\n",
       " 0.06727445870637894,\n",
       " 0.06655457615852356,\n",
       " 0.10854272544384003,\n",
       " 0.11678607016801834,\n",
       " 0.11765715479850769,\n",
       " 0.09273847937583923,\n",
       " 0.12502840161323547,\n",
       " 0.13888223469257355,\n",
       " 0.14719875156879425,\n",
       " 0.08941841125488281,\n",
       " 0.11265368014574051,\n",
       " 0.12401538342237473,\n",
       " 0.14798656105995178,\n",
       " 0.09963028132915497,\n",
       " 0.15486367046833038,\n",
       " 0.16294972598552704,\n",
       " 0.11261868476867676,\n",
       " 0.14357826113700867,\n",
       " 0.10664971172809601,\n",
       " 0.11640099436044693,\n",
       " 0.15960615873336792,\n",
       " 0.15465888381004333,\n",
       " 0.09682196378707886,\n",
       " 0.14298993349075317,\n",
       " 0.11887025088071823,\n",
       " 0.10607737302780151,\n",
       " 0.12895958125591278,\n",
       " 0.09965621680021286,\n",
       " 0.1782355010509491,\n",
       " 0.08475212752819061,\n",
       " 0.13173741102218628,\n",
       " 0.1258314996957779,\n",
       " 0.0854097232222557,\n",
       " 0.09214906394481659,\n",
       " 0.08153499662876129,\n",
       " 0.1258864551782608,\n",
       " 0.12319102883338928,\n",
       " 0.1520230919122696,\n",
       " 0.17900538444519043,\n",
       " 0.12212266027927399,\n",
       " 0.11039953678846359,\n",
       " 0.07855278253555298,\n",
       " 0.13853192329406738,\n",
       " 0.17587558925151825,\n",
       " 0.10783901810646057,\n",
       " 0.16376852989196777,\n",
       " 0.0942377969622612,\n",
       " 0.08289386332035065,\n",
       " 0.1058833971619606,\n",
       " 0.12403035908937454,\n",
       " 0.1249907985329628,\n",
       " 0.0710364505648613,\n",
       " 0.13547196984291077,\n",
       " 0.1486855298280716,\n",
       " 0.09055250883102417,\n",
       " 0.11776098608970642,\n",
       " 0.11174935847520828,\n",
       " 0.13168634474277496,\n",
       " 0.08717687427997589,\n",
       " 0.1396588683128357,\n",
       " 0.1684127300977707,\n",
       " 0.10394250601530075,\n",
       " 0.11537697166204453,\n",
       " 0.083834208548069,\n",
       " 0.14074045419692993,\n",
       " 0.12515398859977722,\n",
       " 0.09825807064771652,\n",
       " 0.1267480105161667,\n",
       " 0.12244662642478943,\n",
       " 0.1471816599369049,\n",
       " 0.11901848763227463,\n",
       " 0.10904666781425476,\n",
       " 0.04415634274482727,\n",
       " 0.15465258061885834,\n",
       " 0.0929432213306427,\n",
       " 0.12051042169332504,\n",
       " 0.11727128177881241,\n",
       " 0.13493509590625763,\n",
       " 0.09972283989191055,\n",
       " 0.08023593574762344,\n",
       " 0.13098737597465515,\n",
       " 0.09805941581726074,\n",
       " 0.07544847577810287,\n",
       " 0.10761839896440506,\n",
       " 0.12116456031799316,\n",
       " 0.11986465007066727,\n",
       " 0.12545433640480042,\n",
       " 0.06535843014717102,\n",
       " 0.0629822388291359,\n",
       " 0.14677470922470093,\n",
       " 0.07102594524621964,\n",
       " 0.16401168704032898,\n",
       " 0.12122543156147003,\n",
       " 0.07467839121818542,\n",
       " 0.10386060178279877,\n",
       " 0.11101076006889343,\n",
       " 0.17752660810947418,\n",
       " 0.1134127750992775,\n",
       " 0.08791252225637436,\n",
       " 0.1155393123626709,\n",
       " 0.11234918236732483,\n",
       " 0.10918290913105011,\n",
       " 0.1646512746810913,\n",
       " 0.17232027649879456,\n",
       " 0.12874633073806763,\n",
       " 0.19339734315872192,\n",
       " 0.10217110812664032,\n",
       " 0.10406927019357681,\n",
       " 0.05809899792075157,\n",
       " 0.12436110526323318,\n",
       " 0.11975972354412079,\n",
       " 0.11046028137207031,\n",
       " 0.17691120505332947,\n",
       " 0.16496537625789642,\n",
       " 0.10570832341909409,\n",
       " 0.14128918945789337,\n",
       " 0.1095321923494339,\n",
       " 0.1543246954679489,\n",
       " 0.08314643800258636,\n",
       " 0.1178029477596283,\n",
       " 0.158584326505661,\n",
       " 0.09657936543226242,\n",
       " 0.15131427347660065,\n",
       " 0.14430789649486542,\n",
       " 0.07623862475156784,\n",
       " 0.1375218629837036,\n",
       " 0.13897886872291565,\n",
       " 0.08728914707899094,\n",
       " 0.14805617928504944,\n",
       " 0.08917329460382462,\n",
       " 0.09044458717107773,\n",
       " 0.08106662333011627,\n",
       " 0.12122520804405212,\n",
       " 0.07011213898658752,\n",
       " 0.12747643887996674,\n",
       " 0.07108912616968155,\n",
       " 0.21762661635875702,\n",
       " 0.1419355869293213,\n",
       " 0.09250476956367493,\n",
       " 0.13478216528892517,\n",
       " 0.07324820756912231,\n",
       " 0.09508462250232697,\n",
       " 0.15355995297431946,\n",
       " 0.12418456375598907,\n",
       " 0.1584368199110031,\n",
       " 0.13613024353981018,\n",
       " 0.10946080088615417,\n",
       " 0.0874340757727623,\n",
       " 0.12386878579854965,\n",
       " 0.10765806585550308,\n",
       " 0.13421490788459778,\n",
       " 0.10784470289945602,\n",
       " 0.09923665225505829,\n",
       " 0.08701963722705841,\n",
       " 0.11646504700183868,\n",
       " 0.1626245528459549,\n",
       " 0.10215017944574356,\n",
       " 0.13150861859321594,\n",
       " 0.11571665108203888,\n",
       " 0.1345931887626648,\n",
       " 0.06703692674636841,\n",
       " 0.07997669279575348,\n",
       " 0.16102106869220734,\n",
       " 0.09131040424108505,\n",
       " 0.07273755222558975,\n",
       " 0.11527878046035767,\n",
       " 0.16832952201366425,\n",
       " 0.10144112259149551,\n",
       " 0.08909624814987183,\n",
       " 0.10044144839048386,\n",
       " 0.08539675921201706,\n",
       " 0.1253049373626709,\n",
       " 0.09532001614570618,\n",
       " 0.1140601709485054,\n",
       " 0.17469020187854767,\n",
       " 0.10634125024080276,\n",
       " 0.08794867992401123,\n",
       " 0.07767998427152634,\n",
       " 0.06559397280216217,\n",
       " 0.12890268862247467,\n",
       " 0.12680841982364655,\n",
       " 0.0678320899605751,\n",
       " 0.07212904095649719,\n",
       " 0.0836530476808548,\n",
       " 0.10974031686782837,\n",
       " 0.1392628401517868,\n",
       " 0.12729446589946747,\n",
       " 0.10783025622367859,\n",
       " 0.1001814603805542,\n",
       " 0.11811783909797668,\n",
       " 0.10599607974290848,\n",
       " 0.08853815495967865,\n",
       " 0.1041482612490654,\n",
       " 0.16696223616600037,\n",
       " 0.061965856701135635,\n",
       " 0.08910184353590012,\n",
       " 0.11342988163232803,\n",
       " 0.08695083111524582,\n",
       " 0.06425441056489944,\n",
       " 0.11030494421720505,\n",
       " 0.12157446146011353,\n",
       " 0.13418012857437134,\n",
       " 0.13374489545822144,\n",
       " 0.11286871880292892,\n",
       " 0.09620668739080429,\n",
       " 0.17309586703777313,\n",
       " 0.11030285805463791,\n",
       " 0.06941627711057663,\n",
       " 0.18399447202682495,\n",
       " 0.1681153029203415,\n",
       " 0.11947410553693771,\n",
       " 0.07602719962596893,\n",
       " 0.12425795942544937,\n",
       " 0.11638704687356949,\n",
       " 0.08901089429855347,\n",
       " 0.0739748477935791,\n",
       " 0.16217516362667084,\n",
       " 0.09527608007192612,\n",
       " 0.16741810739040375,\n",
       " 0.09733659774065018,\n",
       " 0.08634506165981293,\n",
       " 0.06316816806793213,\n",
       " 0.08870277553796768,\n",
       " 0.13172012567520142,\n",
       " 0.07891856878995895,\n",
       " 0.072108693420887,\n",
       " 0.16512219607830048,\n",
       " 0.08196595311164856,\n",
       " 0.08866995573043823,\n",
       " 0.0993761420249939,\n",
       " 0.10624067485332489,\n",
       " 0.080982506275177,\n",
       " 0.08886723965406418,\n",
       " 0.13059458136558533,\n",
       " 0.15009619295597076,\n",
       " 0.11267055571079254,\n",
       " 0.08980311453342438,\n",
       " 0.10501458495855331,\n",
       " 0.05442109704017639,\n",
       " 0.08122764527797699,\n",
       " 0.0860198512673378,\n",
       " 0.15544933080673218,\n",
       " 0.11200546473264694,\n",
       " 0.1026061400771141,\n",
       " 0.09247925132513046,\n",
       " 0.07081609964370728,\n",
       " 0.12410058826208115,\n",
       " 0.09860845655202866,\n",
       " 0.09977135062217712,\n",
       " 0.04280134290456772,\n",
       " 0.18888284265995026,\n",
       " 0.08884008228778839,\n",
       " 0.093382827937603,\n",
       " 0.09618784487247467,\n",
       " 0.15398816764354706,\n",
       " 0.06496963649988174,\n",
       " 0.06238039582967758,\n",
       " 0.12065364420413971,\n",
       " 0.14060215651988983,\n",
       " 0.06426751613616943,\n",
       " 0.08104421198368073,\n",
       " 0.10291686654090881,\n",
       " 0.09494251757860184,\n",
       " 0.09212975949048996,\n",
       " 0.1271994411945343,\n",
       " 0.08197135478258133,\n",
       " 0.06412582844495773,\n",
       " 0.1200409084558487,\n",
       " 0.07453123480081558,\n",
       " 0.13648448884487152,\n",
       " 0.08890377730131149,\n",
       " 0.12690262496471405,\n",
       " 0.07658670097589493,\n",
       " 0.07216205447912216,\n",
       " 0.0963592454791069,\n",
       " 0.10873880982398987,\n",
       " 0.1274157017469406,\n",
       " 0.07631883770227432,\n",
       " 0.14212341606616974,\n",
       " 0.11747042834758759,\n",
       " 0.06466668844223022,\n",
       " 0.0693696141242981,\n",
       " 0.10663150995969772,\n",
       " 0.1064361035823822,\n",
       " 0.10058210045099258,\n",
       " 0.10300952941179276,\n",
       " 0.12352197617292404,\n",
       " 0.09008732438087463,\n",
       " 0.05463322997093201,\n",
       " 0.11739890277385712,\n",
       " 0.14438176155090332,\n",
       " 0.15625344216823578,\n",
       " 0.09675897657871246,\n",
       " 0.08045270293951035,\n",
       " 0.13934941589832306,\n",
       " 0.08287407457828522,\n",
       " 0.12736065685749054,\n",
       " 0.09276987612247467,\n",
       " 0.10824436694383621,\n",
       " 0.15323801338672638,\n",
       " 0.12274531275033951,\n",
       " 0.05753866955637932,\n",
       " 0.11852525174617767,\n",
       " 0.0815775915980339,\n",
       " 0.07013720273971558,\n",
       " 0.0930531769990921,\n",
       " 0.12738139927387238,\n",
       " 0.13835525512695312,\n",
       " 0.11916645616292953,\n",
       " 0.10547708719968796,\n",
       " 0.06305066496133804,\n",
       " 0.10215085744857788,\n",
       " 0.055603936314582825,\n",
       " 0.12085026502609253,\n",
       " 0.03947257250547409,\n",
       " 0.11063326895236969,\n",
       " 0.08087287098169327,\n",
       " 0.13935700058937073,\n",
       " 0.11162374168634415,\n",
       " 0.07645976543426514,\n",
       " 0.09789728373289108,\n",
       " 0.05339449271559715,\n",
       " 0.1292315125465393,\n",
       " 0.13787607848644257,\n",
       " 0.15676862001419067,\n",
       " 0.10885448753833771,\n",
       " 0.0762077122926712,\n",
       " 0.06838873028755188,\n",
       " 0.1310720294713974,\n",
       " 0.09364284574985504,\n",
       " 0.1006462574005127,\n",
       " 0.0833953395485878,\n",
       " 0.08140235394239426,\n",
       " 0.05999178811907768,\n",
       " 0.07867862284183502,\n",
       " 0.16200178861618042,\n",
       " 0.07213232666254044,\n",
       " 0.05237341299653053,\n",
       " 0.10747217386960983,\n",
       " 0.11495031416416168,\n",
       " 0.09578795731067657,\n",
       " 0.07691618800163269,\n",
       " 0.047041069716215134,\n",
       " 0.07557201385498047,\n",
       " 0.06601177901029587,\n",
       " 0.11971945315599442,\n",
       " 0.09664669632911682,\n",
       " 0.09605620056390762,\n",
       " 0.1277354210615158,\n",
       " 0.12190167605876923,\n",
       " 0.10042402148246765,\n",
       " 0.09133730828762054,\n",
       " 0.07590845972299576,\n",
       " 0.07797076553106308,\n",
       " 0.0895928218960762,\n",
       " 0.05066689848899841,\n",
       " 0.11477940529584885,\n",
       " 0.10031456500291824,\n",
       " 0.10447569936513901,\n",
       " 0.08216077834367752,\n",
       " 0.08978458493947983,\n",
       " 0.10413563251495361,\n",
       " 0.0648493692278862,\n",
       " 0.08463224023580551,\n",
       " 0.11718211323022842,\n",
       " 0.1188916340470314,\n",
       " 0.08450224995613098,\n",
       " 0.08184105902910233,\n",
       " 0.04509473964571953,\n",
       " 0.06262066215276718,\n",
       " 0.12208224087953568,\n",
       " 0.0669616237282753,\n",
       " 0.08034361898899078,\n",
       " 0.06149952486157417,\n",
       " 0.04905267059803009,\n",
       " 0.07897236198186874,\n",
       " 0.08371907472610474,\n",
       " 0.1071232259273529,\n",
       " 0.18136410415172577,\n",
       " 0.10962986946105957,\n",
       " 0.08297281712293625,\n",
       " 0.08472703397274017,\n",
       " 0.08908811956644058,\n",
       " 0.06302819401025772,\n",
       " 0.08999838680028915,\n",
       " 0.12677930295467377,\n",
       " 0.0826076939702034,\n",
       " 0.09863516688346863,\n",
       " 0.16041646897792816,\n",
       " 0.08187929540872574,\n",
       " 0.057596515864133835,\n",
       " 0.11717016994953156,\n",
       " 0.12823083996772766,\n",
       " 0.09126853197813034,\n",
       " 0.11312776803970337,\n",
       " 0.0720515176653862,\n",
       " 0.11448627710342407,\n",
       " 0.08268148452043533,\n",
       " 0.10151469707489014,\n",
       " 0.07841933518648148,\n",
       " 0.06359968334436417,\n",
       " 0.12416037172079086,\n",
       " 0.08494288474321365,\n",
       " 0.08203434199094772,\n",
       " 0.0924992710351944,\n",
       " 0.04861936718225479,\n",
       " 0.08129878342151642,\n",
       " 0.12367599457502365,\n",
       " 0.0881805345416069,\n",
       " 0.07495575398206711,\n",
       " 0.1350439488887787,\n",
       " 0.06582179665565491,\n",
       " 0.0674586072564125,\n",
       " 0.06958320736885071,\n",
       " 0.08357933908700943,\n",
       " 0.07051881402730942,\n",
       " 0.08106176555156708,\n",
       " 0.10206407308578491,\n",
       " 0.09141743183135986,\n",
       " 0.0805162712931633,\n",
       " 0.09918519109487534,\n",
       " 0.0875282883644104,\n",
       " 0.05675948038697243,\n",
       " 0.06229410320520401,\n",
       " 0.049951303750276566,\n",
       " 0.08903228491544724,\n",
       " 0.07452119886875153,\n",
       " 0.13235504925251007,\n",
       " 0.07201536744832993,\n",
       " 0.09929419308900833,\n",
       " 0.10393276810646057,\n",
       " 0.07958392053842545,\n",
       " 0.10973888635635376,\n",
       " 0.05907513573765755,\n",
       " 0.07229049503803253,\n",
       " 0.13255701959133148,\n",
       " 0.10263977199792862,\n",
       " 0.10340502113103867,\n",
       " 0.05895237997174263,\n",
       " 0.07611487060785294,\n",
       " 0.1096075028181076,\n",
       " 0.1091093122959137,\n",
       " 0.10452292114496231,\n",
       " 0.08120579272508621,\n",
       " 0.061585478484630585,\n",
       " 0.1242486834526062,\n",
       " 0.13238264620304108,\n",
       " 0.07810971140861511,\n",
       " 0.10061010718345642,\n",
       " 0.15464095771312714,\n",
       " 0.0743529349565506,\n",
       " 0.12965545058250427,\n",
       " 0.10766299068927765,\n",
       " 0.10775637626647949,\n",
       " 0.09571650624275208,\n",
       " 0.10440889745950699,\n",
       " 0.10170847922563553,\n",
       " 0.07034967839717865,\n",
       " 0.09829238057136536,\n",
       " 0.07661951333284378,\n",
       " 0.13054165244102478,\n",
       " 0.08640825748443604,\n",
       " 0.1307220309972763,\n",
       " 0.07093880325555801,\n",
       " 0.09972374886274338,\n",
       " 0.05885379761457443,\n",
       " 0.09850112348794937,\n",
       " 0.10920935869216919,\n",
       " 0.10022188723087311,\n",
       " 0.10556278377771378,\n",
       " 0.07929739356040955,\n",
       " 0.11817315965890884,\n",
       " 0.03826547786593437,\n",
       " 0.15295404195785522,\n",
       " 0.14591161906719208,\n",
       " 0.11720342934131622,\n",
       " 0.0405818335711956,\n",
       " 0.10564978420734406,\n",
       " 0.09153164178133011,\n",
       " 0.060143616050481796,\n",
       " 0.03579499572515488,\n",
       " 0.04520447552204132,\n",
       " 0.14665743708610535,\n",
       " 0.10194078087806702,\n",
       " 0.10416806489229202,\n",
       " 0.09799881279468536,\n",
       " 0.058652810752391815,\n",
       " 0.12874627113342285,\n",
       " 0.1251182109117508,\n",
       " 0.035369955003261566,\n",
       " 0.07345332205295563,\n",
       " 0.08524434268474579,\n",
       " 0.08369804918766022,\n",
       " 0.05108525976538658,\n",
       " 0.12036300450563431,\n",
       " 0.08652189373970032,\n",
       " 0.09974557161331177,\n",
       " 0.07386887818574905,\n",
       " 0.06052885949611664,\n",
       " 0.09757564216852188,\n",
       " 0.11574601382017136,\n",
       " 0.07133560627698898,\n",
       " 0.08171486109495163,\n",
       " 0.14356210827827454,\n",
       " 0.047368694096803665,\n",
       " 0.07873409986495972,\n",
       " 0.10439477860927582,\n",
       " 0.08746490627527237,\n",
       " 0.11256352066993713,\n",
       " 0.13698528707027435,\n",
       " 0.04913610965013504,\n",
       " 0.11631948500871658,\n",
       " 0.10807714611291885,\n",
       " 0.10488583892583847,\n",
       " 0.08106386661529541,\n",
       " 0.0780206248164177,\n",
       " 0.034311313182115555,\n",
       " 0.09590061753988266,\n",
       " 0.062462057918310165,\n",
       " 0.0810069739818573,\n",
       " 0.04465269297361374,\n",
       " 0.046090561896562576,\n",
       " 0.09705565124750137,\n",
       " 0.10280238091945648,\n",
       " 0.06905126571655273,\n",
       " 0.16179828345775604,\n",
       " 0.08700859546661377,\n",
       " 0.0601351372897625,\n",
       " 0.1326552927494049,\n",
       " 0.06319551169872284,\n",
       " 0.11283563077449799,\n",
       " 0.1170148253440857,\n",
       " 0.06627606600522995,\n",
       " 0.07233070582151413,\n",
       " 0.11137951910495758,\n",
       " 0.08091779053211212,\n",
       " 0.10785385966300964,\n",
       " 0.03129791095852852,\n",
       " 0.058821868151426315,\n",
       " 0.09930551052093506,\n",
       " 0.10087495297193527,\n",
       " 0.07741114497184753,\n",
       " 0.05443941056728363,\n",
       " 0.10649296641349792,\n",
       " 0.04003967344760895,\n",
       " 0.03803877532482147,\n",
       " 0.0818215012550354,\n",
       " 0.08670248836278915,\n",
       " 0.08378296345472336,\n",
       " 0.058559246361255646,\n",
       " 0.05506275221705437,\n",
       " 0.08399444818496704,\n",
       " 0.07710658758878708,\n",
       " 0.09768448770046234,\n",
       " 0.06951460242271423,\n",
       " 0.08592744171619415,\n",
       " 0.07428652793169022,\n",
       " 0.08339521288871765,\n",
       " 0.05007445812225342,\n",
       " 0.06882385909557343,\n",
       " 0.07928609102964401,\n",
       " 0.10026808083057404,\n",
       " 0.08598365634679794,\n",
       " 0.10340656340122223,\n",
       " 0.05125817283987999,\n",
       " 0.03493639826774597,\n",
       " 0.07306727021932602,\n",
       " 0.09983129799365997,\n",
       " 0.07872270047664642,\n",
       " 0.07044373452663422,\n",
       " 0.09041084349155426,\n",
       " 0.03658485412597656,\n",
       " 0.04361540451645851,\n",
       " 0.06188129633665085,\n",
       " 0.1360626071691513,\n",
       " 0.04054104909300804,\n",
       " 0.08074067533016205,\n",
       " 0.06185139715671539,\n",
       " 0.11409364640712738,\n",
       " 0.08129322528839111,\n",
       " 0.1307702511548996,\n",
       " 0.09973374009132385,\n",
       " 0.09438516199588776,\n",
       " 0.1042698547244072,\n",
       " 0.11199436336755753,\n",
       " 0.08824482560157776,\n",
       " 0.11363323777914047,\n",
       " 0.08248821645975113,\n",
       " 0.10681162029504776,\n",
       " 0.10108184069395065,\n",
       " 0.11494109034538269,\n",
       " 0.11932777613401413,\n",
       " 0.10165718197822571,\n",
       " 0.05035518854856491,\n",
       " 0.08925871551036835,\n",
       " 0.060169365257024765,\n",
       " 0.05876173451542854,\n",
       " 0.08808940649032593,\n",
       " 0.060093630105257034,\n",
       " 0.09072288870811462,\n",
       " 0.07698745280504227,\n",
       " 0.03760606423020363,\n",
       " 0.08854398131370544,\n",
       " 0.0733208879828453,\n",
       " 0.18484996259212494,\n",
       " 0.0935424342751503,\n",
       " 0.09746535867452621,\n",
       " 0.08399157226085663,\n",
       " 0.05128244683146477,\n",
       " 0.10939209908246994,\n",
       " 0.0888608917593956,\n",
       " 0.07226400822401047,\n",
       " 0.10902818292379379,\n",
       " 0.050759147852659225,\n",
       " 0.10717854648828506,\n",
       " 0.08067481219768524,\n",
       " 0.10643074661493301,\n",
       " 0.09831608086824417,\n",
       " 0.08342577517032623,\n",
       " 0.1256014108657837,\n",
       " 0.07165684551000595,\n",
       " 0.050138164311647415,\n",
       " 0.048664819449186325,\n",
       " 0.080785371363163,\n",
       " 0.07810680568218231,\n",
       " 0.10793771594762802,\n",
       " 0.10370786488056183,\n",
       " 0.048513948917388916,\n",
       " 0.13194791972637177,\n",
       " 0.028790444135665894,\n",
       " 0.14404705166816711,\n",
       " 0.05898943915963173,\n",
       " 0.13583630323410034,\n",
       " 0.10724581778049469,\n",
       " 0.09255620092153549,\n",
       " 0.08257303386926651,\n",
       " 0.08769872039556503,\n",
       " 0.08284305036067963,\n",
       " 0.05236437916755676,\n",
       " 0.07755077630281448,\n",
       " 0.07029061764478683,\n",
       " 0.05397737771272659,\n",
       " 0.05417840927839279,\n",
       " 0.15333327651023865,\n",
       " 0.1007414236664772,\n",
       " 0.034021735191345215,\n",
       " 0.0632808580994606,\n",
       " 0.07635047286748886,\n",
       " 0.05267415940761566,\n",
       " 0.0645882785320282,\n",
       " 0.049060605466365814,\n",
       " 0.04863287881016731,\n",
       " 0.0689149722456932,\n",
       " 0.09309186786413193,\n",
       " 0.030918192118406296,\n",
       " 0.13752537965774536,\n",
       " 0.09786389023065567,\n",
       " 0.04253720864653587,\n",
       " 0.04565700888633728,\n",
       " 0.05444260314106941,\n",
       " 0.059700798243284225,\n",
       " 0.11203252524137497,\n",
       " 0.08619802445173264,\n",
       " 0.10295230150222778,\n",
       " 0.12049306184053421,\n",
       " ...]"
      ]
     },
     "execution_count": 47,
     "metadata": {},
     "output_type": "execute_result"
    }
   ],
   "source": [
    "#sio.savemat(\"losses_colored.mat\", {\"loss\": loss_values_1})\n",
    "losses_list = sio.loadmat(\"losses_colored.mat\")[\"loss\"][0].tolist()\n",
    "loss_values_1 = losses_list\n",
    "losses_list"
   ]
  },
  {
   "cell_type": "code",
   "execution_count": null,
   "metadata": {
    "colab": {
     "base_uri": "https://localhost:8080/",
     "height": 415
    },
    "id": "e2jSpotiWQJm",
    "outputId": "20745c80-3de3-4729-894e-5f8a72ac7d77"
   },
   "outputs": [
    {
     "name": "stdout",
     "output_type": "stream",
     "text": [
      "allocated mem - 0.5779430400000001\n",
      "epoch number:  0\n"
     ]
    },
    {
     "name": "stderr",
     "output_type": "stream",
     "text": [
      "100%|███████████████████████████████████████████████████████████████████████████████████████████████████████████████████████████████████████████████████████████████████████| 40/40 [00:20<00:00,  1.98it/s]\n"
     ]
    },
    {
     "name": "stdout",
     "output_type": "stream",
     "text": [
      "Saved model at ./weight_nn_decoded/nn_model_tryptag_decoded.pth\n",
      "torch.Size([8, 32, 80, 80])\n",
      "torch.Size([8, 3, 320, 320])\n",
      "allocated mem - 0.7916794880000001\n",
      "epoch number:  1\n"
     ]
    },
    {
     "name": "stderr",
     "output_type": "stream",
     "text": [
      "100%|███████████████████████████████████████████████████████████████████████████████████████████████████████████████████████████████████████████████████████████████████████| 40/40 [00:20<00:00,  1.97it/s]\n"
     ]
    },
    {
     "name": "stdout",
     "output_type": "stream",
     "text": [
      "allocated mem - 0.7916794880000001\n",
      "epoch number:  2\n"
     ]
    },
    {
     "name": "stderr",
     "output_type": "stream",
     "text": [
      "100%|███████████████████████████████████████████████████████████████████████████████████████████████████████████████████████████████████████████████████████████████████████| 40/40 [00:20<00:00,  1.96it/s]\n"
     ]
    },
    {
     "name": "stdout",
     "output_type": "stream",
     "text": [
      "allocated mem - 0.7916794880000001\n",
      "epoch number:  3\n"
     ]
    },
    {
     "name": "stderr",
     "output_type": "stream",
     "text": [
      "100%|███████████████████████████████████████████████████████████████████████████████████████████████████████████████████████████████████████████████████████████████████████| 40/40 [00:20<00:00,  1.97it/s]\n"
     ]
    },
    {
     "name": "stdout",
     "output_type": "stream",
     "text": [
      "allocated mem - 0.7916794880000001\n",
      "epoch number:  4\n"
     ]
    },
    {
     "name": "stderr",
     "output_type": "stream",
     "text": [
      "100%|███████████████████████████████████████████████████████████████████████████████████████████████████████████████████████████████████████████████████████████████████████| 40/40 [00:20<00:00,  1.98it/s]\n"
     ]
    },
    {
     "name": "stdout",
     "output_type": "stream",
     "text": [
      "allocated mem - 0.7916794880000001\n",
      "epoch number:  5\n"
     ]
    },
    {
     "name": "stderr",
     "output_type": "stream",
     "text": [
      "100%|███████████████████████████████████████████████████████████████████████████████████████████████████████████████████████████████████████████████████████████████████████| 40/40 [00:20<00:00,  1.98it/s]\n"
     ]
    },
    {
     "name": "stdout",
     "output_type": "stream",
     "text": [
      "allocated mem - 0.7916794880000001\n",
      "epoch number:  6\n"
     ]
    },
    {
     "name": "stderr",
     "output_type": "stream",
     "text": [
      "100%|███████████████████████████████████████████████████████████████████████████████████████████████████████████████████████████████████████████████████████████████████████| 40/40 [00:20<00:00,  1.98it/s]\n"
     ]
    },
    {
     "name": "stdout",
     "output_type": "stream",
     "text": [
      "allocated mem - 0.7916794880000001\n",
      "epoch number:  7\n"
     ]
    },
    {
     "name": "stderr",
     "output_type": "stream",
     "text": [
      "100%|███████████████████████████████████████████████████████████████████████████████████████████████████████████████████████████████████████████████████████████████████████| 40/40 [00:20<00:00,  1.98it/s]\n"
     ]
    },
    {
     "name": "stdout",
     "output_type": "stream",
     "text": [
      "allocated mem - 0.7916794880000001\n",
      "epoch number:  8\n"
     ]
    },
    {
     "name": "stderr",
     "output_type": "stream",
     "text": [
      "100%|███████████████████████████████████████████████████████████████████████████████████████████████████████████████████████████████████████████████████████████████████████| 40/40 [00:20<00:00,  1.98it/s]\n"
     ]
    },
    {
     "name": "stdout",
     "output_type": "stream",
     "text": [
      "allocated mem - 0.7916794880000001\n",
      "epoch number:  9\n"
     ]
    },
    {
     "name": "stderr",
     "output_type": "stream",
     "text": [
      "100%|███████████████████████████████████████████████████████████████████████████████████████████████████████████████████████████████████████████████████████████████████████| 40/40 [00:20<00:00,  1.96it/s]\n"
     ]
    },
    {
     "name": "stdout",
     "output_type": "stream",
     "text": [
      "allocated mem - 0.7916794880000001\n",
      "epoch number:  10\n"
     ]
    },
    {
     "name": "stderr",
     "output_type": "stream",
     "text": [
      "100%|███████████████████████████████████████████████████████████████████████████████████████████████████████████████████████████████████████████████████████████████████████| 40/40 [00:20<00:00,  1.94it/s]\n"
     ]
    },
    {
     "name": "stdout",
     "output_type": "stream",
     "text": [
      "allocated mem - 0.7916794880000001\n",
      "epoch number:  11\n"
     ]
    },
    {
     "name": "stderr",
     "output_type": "stream",
     "text": [
      "100%|███████████████████████████████████████████████████████████████████████████████████████████████████████████████████████████████████████████████████████████████████████| 40/40 [00:20<00:00,  1.94it/s]\n"
     ]
    },
    {
     "name": "stdout",
     "output_type": "stream",
     "text": [
      "allocated mem - 0.7916794880000001\n",
      "epoch number:  12\n"
     ]
    },
    {
     "name": "stderr",
     "output_type": "stream",
     "text": [
      "100%|███████████████████████████████████████████████████████████████████████████████████████████████████████████████████████████████████████████████████████████████████████| 40/40 [00:20<00:00,  1.95it/s]\n"
     ]
    },
    {
     "name": "stdout",
     "output_type": "stream",
     "text": [
      "allocated mem - 0.7916794880000001\n",
      "epoch number:  13\n"
     ]
    },
    {
     "name": "stderr",
     "output_type": "stream",
     "text": [
      "100%|███████████████████████████████████████████████████████████████████████████████████████████████████████████████████████████████████████████████████████████████████████| 40/40 [00:20<00:00,  1.94it/s]\n"
     ]
    },
    {
     "name": "stdout",
     "output_type": "stream",
     "text": [
      "allocated mem - 0.7916794880000001\n",
      "epoch number:  14\n"
     ]
    },
    {
     "name": "stderr",
     "output_type": "stream",
     "text": [
      "100%|███████████████████████████████████████████████████████████████████████████████████████████████████████████████████████████████████████████████████████████████████████| 40/40 [00:20<00:00,  1.95it/s]\n"
     ]
    },
    {
     "name": "stdout",
     "output_type": "stream",
     "text": [
      "allocated mem - 0.7916794880000001\n",
      "epoch number:  15\n"
     ]
    },
    {
     "name": "stderr",
     "output_type": "stream",
     "text": [
      "100%|███████████████████████████████████████████████████████████████████████████████████████████████████████████████████████████████████████████████████████████████████████| 40/40 [00:20<00:00,  1.96it/s]\n"
     ]
    },
    {
     "name": "stdout",
     "output_type": "stream",
     "text": [
      "allocated mem - 0.7916794880000001\n",
      "epoch number:  16\n"
     ]
    },
    {
     "name": "stderr",
     "output_type": "stream",
     "text": [
      "100%|███████████████████████████████████████████████████████████████████████████████████████████████████████████████████████████████████████████████████████████████████████| 40/40 [00:20<00:00,  1.96it/s]\n"
     ]
    },
    {
     "name": "stdout",
     "output_type": "stream",
     "text": [
      "allocated mem - 0.7916794880000001\n",
      "epoch number:  17\n"
     ]
    },
    {
     "name": "stderr",
     "output_type": "stream",
     "text": [
      "100%|███████████████████████████████████████████████████████████████████████████████████████████████████████████████████████████████████████████████████████████████████████| 40/40 [00:20<00:00,  1.96it/s]\n"
     ]
    },
    {
     "name": "stdout",
     "output_type": "stream",
     "text": [
      "allocated mem - 0.7916794880000001\n",
      "epoch number:  18\n"
     ]
    },
    {
     "name": "stderr",
     "output_type": "stream",
     "text": [
      "100%|███████████████████████████████████████████████████████████████████████████████████████████████████████████████████████████████████████████████████████████████████████| 40/40 [00:20<00:00,  1.99it/s]\n"
     ]
    },
    {
     "name": "stdout",
     "output_type": "stream",
     "text": [
      "allocated mem - 0.7916794880000001\n",
      "epoch number:  19\n"
     ]
    },
    {
     "name": "stderr",
     "output_type": "stream",
     "text": [
      "100%|███████████████████████████████████████████████████████████████████████████████████████████████████████████████████████████████████████████████████████████████████████| 40/40 [00:20<00:00,  1.98it/s]\n"
     ]
    },
    {
     "name": "stdout",
     "output_type": "stream",
     "text": [
      "allocated mem - 0.7916794880000001\n",
      "epoch number:  20\n"
     ]
    },
    {
     "name": "stderr",
     "output_type": "stream",
     "text": [
      "100%|███████████████████████████████████████████████████████████████████████████████████████████████████████████████████████████████████████████████████████████████████████| 40/40 [00:20<00:00,  1.98it/s]\n"
     ]
    },
    {
     "name": "stdout",
     "output_type": "stream",
     "text": [
      "Saved model at ./weight_nn_decoded/nn_model_tryptag_decoded.pth\n",
      "torch.Size([8, 32, 80, 80])\n",
      "torch.Size([8, 3, 320, 320])\n",
      "allocated mem - 0.7916794880000001\n",
      "epoch number:  21\n"
     ]
    },
    {
     "name": "stderr",
     "output_type": "stream",
     "text": [
      "100%|███████████████████████████████████████████████████████████████████████████████████████████████████████████████████████████████████████████████████████████████████████| 40/40 [00:20<00:00,  1.98it/s]\n"
     ]
    },
    {
     "name": "stdout",
     "output_type": "stream",
     "text": [
      "allocated mem - 0.7908520960000001\n",
      "epoch number:  22\n"
     ]
    },
    {
     "name": "stderr",
     "output_type": "stream",
     "text": [
      "100%|███████████████████████████████████████████████████████████████████████████████████████████████████████████████████████████████████████████████████████████████████████| 40/40 [00:20<00:00,  1.96it/s]\n"
     ]
    },
    {
     "name": "stdout",
     "output_type": "stream",
     "text": [
      "allocated mem - 0.7917634560000001\n",
      "epoch number:  23\n"
     ]
    },
    {
     "name": "stderr",
     "output_type": "stream",
     "text": [
      "100%|███████████████████████████████████████████████████████████████████████████████████████████████████████████████████████████████████████████████████████████████████████| 40/40 [00:20<00:00,  1.96it/s]\n"
     ]
    },
    {
     "name": "stdout",
     "output_type": "stream",
     "text": [
      "allocated mem - 0.7922042880000001\n",
      "epoch number:  24\n"
     ]
    },
    {
     "name": "stderr",
     "output_type": "stream",
     "text": [
      "100%|███████████████████████████████████████████████████████████████████████████████████████████████████████████████████████████████████████████████████████████████████████| 40/40 [00:20<00:00,  1.96it/s]\n"
     ]
    },
    {
     "name": "stdout",
     "output_type": "stream",
     "text": [
      "allocated mem - 0.7917634560000001\n",
      "epoch number:  25\n"
     ]
    },
    {
     "name": "stderr",
     "output_type": "stream",
     "text": [
      "100%|███████████████████████████████████████████████████████████████████████████████████████████████████████████████████████████████████████████████████████████████████████| 40/40 [00:20<00:00,  1.97it/s]\n"
     ]
    },
    {
     "name": "stdout",
     "output_type": "stream",
     "text": [
      "allocated mem - 0.7908520960000001\n",
      "epoch number:  26\n"
     ]
    },
    {
     "name": "stderr",
     "output_type": "stream",
     "text": [
      "100%|███████████████████████████████████████████████████████████████████████████████████████████████████████████████████████████████████████████████████████████████████████| 40/40 [00:20<00:00,  1.97it/s]\n"
     ]
    },
    {
     "name": "stdout",
     "output_type": "stream",
     "text": [
      "allocated mem - 0.7917634560000001\n",
      "epoch number:  27\n"
     ]
    },
    {
     "name": "stderr",
     "output_type": "stream",
     "text": [
      "100%|███████████████████████████████████████████████████████████████████████████████████████████████████████████████████████████████████████████████████████████████████████| 40/40 [00:20<00:00,  1.97it/s]\n"
     ]
    },
    {
     "name": "stdout",
     "output_type": "stream",
     "text": [
      "allocated mem - 0.7908520960000001\n",
      "epoch number:  28\n"
     ]
    },
    {
     "name": "stderr",
     "output_type": "stream",
     "text": [
      "100%|███████████████████████████████████████████████████████████████████████████████████████████████████████████████████████████████████████████████████████████████████████| 40/40 [00:20<00:00,  1.97it/s]\n"
     ]
    },
    {
     "name": "stdout",
     "output_type": "stream",
     "text": [
      "allocated mem - 0.793115648\n",
      "epoch number:  29\n"
     ]
    },
    {
     "name": "stderr",
     "output_type": "stream",
     "text": [
      "100%|███████████████████████████████████████████████████████████████████████████████████████████████████████████████████████████████████████████████████████████████████████| 40/40 [00:20<00:00,  1.96it/s]\n"
     ]
    },
    {
     "name": "stdout",
     "output_type": "stream",
     "text": [
      "allocated mem - 0.7908520960000001\n",
      "epoch number:  30\n"
     ]
    },
    {
     "name": "stderr",
     "output_type": "stream",
     "text": [
      "100%|███████████████████████████████████████████████████████████████████████████████████████████████████████████████████████████████████████████████████████████████████████| 40/40 [00:20<00:00,  1.97it/s]\n"
     ]
    },
    {
     "name": "stdout",
     "output_type": "stream",
     "text": [
      "allocated mem - 0.7917634560000001\n",
      "epoch number:  31\n"
     ]
    },
    {
     "name": "stderr",
     "output_type": "stream",
     "text": [
      "100%|███████████████████████████████████████████████████████████████████████████████████████████████████████████████████████████████████████████████████████████████████████| 40/40 [00:20<00:00,  1.97it/s]\n"
     ]
    },
    {
     "name": "stdout",
     "output_type": "stream",
     "text": [
      "allocated mem - 0.7908520960000001\n",
      "epoch number:  32\n"
     ]
    },
    {
     "name": "stderr",
     "output_type": "stream",
     "text": [
      "100%|███████████████████████████████████████████████████████████████████████████████████████████████████████████████████████████████████████████████████████████████████████| 40/40 [00:20<00:00,  1.97it/s]\n"
     ]
    },
    {
     "name": "stdout",
     "output_type": "stream",
     "text": [
      "allocated mem - 0.7917634560000001\n",
      "epoch number:  33\n"
     ]
    },
    {
     "name": "stderr",
     "output_type": "stream",
     "text": [
      "100%|███████████████████████████████████████████████████████████████████████████████████████████████████████████████████████████████████████████████████████████████████████| 40/40 [00:20<00:00,  1.97it/s]\n"
     ]
    },
    {
     "name": "stdout",
     "output_type": "stream",
     "text": [
      "allocated mem - 0.7908520960000001\n",
      "epoch number:  34\n"
     ]
    },
    {
     "name": "stderr",
     "output_type": "stream",
     "text": [
      "100%|███████████████████████████████████████████████████████████████████████████████████████████████████████████████████████████████████████████████████████████████████████| 40/40 [00:20<00:00,  1.97it/s]\n"
     ]
    },
    {
     "name": "stdout",
     "output_type": "stream",
     "text": [
      "allocated mem - 0.793115648\n",
      "epoch number:  35\n"
     ]
    },
    {
     "name": "stderr",
     "output_type": "stream",
     "text": [
      "100%|███████████████████████████████████████████████████████████████████████████████████████████████████████████████████████████████████████████████████████████████████████| 40/40 [00:20<00:00,  1.97it/s]\n"
     ]
    },
    {
     "name": "stdout",
     "output_type": "stream",
     "text": [
      "allocated mem - 0.7908520960000001\n",
      "epoch number:  36\n"
     ]
    },
    {
     "name": "stderr",
     "output_type": "stream",
     "text": [
      "100%|███████████████████████████████████████████████████████████████████████████████████████████████████████████████████████████████████████████████████████████████████████| 40/40 [00:20<00:00,  1.97it/s]\n"
     ]
    },
    {
     "name": "stdout",
     "output_type": "stream",
     "text": [
      "allocated mem - 0.7917634560000001\n",
      "epoch number:  37\n"
     ]
    },
    {
     "name": "stderr",
     "output_type": "stream",
     "text": [
      "100%|███████████████████████████████████████████████████████████████████████████████████████████████████████████████████████████████████████████████████████████████████████| 40/40 [00:20<00:00,  1.97it/s]\n"
     ]
    },
    {
     "name": "stdout",
     "output_type": "stream",
     "text": [
      "allocated mem - 0.7908520960000001\n",
      "epoch number:  38\n"
     ]
    },
    {
     "name": "stderr",
     "output_type": "stream",
     "text": [
      "100%|███████████████████████████████████████████████████████████████████████████████████████████████████████████████████████████████████████████████████████████████████████| 40/40 [00:20<00:00,  1.97it/s]\n"
     ]
    },
    {
     "name": "stdout",
     "output_type": "stream",
     "text": [
      "allocated mem - 0.7917634560000001\n",
      "epoch number:  39\n"
     ]
    },
    {
     "name": "stderr",
     "output_type": "stream",
     "text": [
      "100%|███████████████████████████████████████████████████████████████████████████████████████████████████████████████████████████████████████████████████████████████████████| 40/40 [00:20<00:00,  1.97it/s]\n"
     ]
    },
    {
     "name": "stdout",
     "output_type": "stream",
     "text": [
      "allocated mem - 0.7922042880000001\n",
      "epoch number:  40\n"
     ]
    },
    {
     "name": "stderr",
     "output_type": "stream",
     "text": [
      "100%|███████████████████████████████████████████████████████████████████████████████████████████████████████████████████████████████████████████████████████████████████████| 40/40 [00:20<00:00,  1.97it/s]\n"
     ]
    },
    {
     "name": "stdout",
     "output_type": "stream",
     "text": [
      "Saved model at ./weight_nn_decoded/nn_model_tryptag_decoded.pth\n",
      "torch.Size([8, 32, 80, 80])\n",
      "torch.Size([8, 3, 320, 320])\n",
      "allocated mem - 0.7933701120000001\n",
      "epoch number:  41\n"
     ]
    },
    {
     "name": "stderr",
     "output_type": "stream",
     "text": [
      "100%|███████████████████████████████████████████████████████████████████████████████████████████████████████████████████████████████████████████████████████████████████████| 40/40 [00:20<00:00,  1.97it/s]\n"
     ]
    },
    {
     "name": "stdout",
     "output_type": "stream",
     "text": [
      "allocated mem - 0.7925340160000001\n",
      "epoch number:  42\n"
     ]
    },
    {
     "name": "stderr",
     "output_type": "stream",
     "text": [
      "100%|███████████████████████████████████████████████████████████████████████████████████████████████████████████████████████████████████████████████████████████████████████| 40/40 [00:20<00:00,  1.97it/s]\n"
     ]
    },
    {
     "name": "stdout",
     "output_type": "stream",
     "text": [
      "allocated mem - 0.7926574080000001\n",
      "epoch number:  43\n"
     ]
    },
    {
     "name": "stderr",
     "output_type": "stream",
     "text": [
      "100%|███████████████████████████████████████████████████████████████████████████████████████████████████████████████████████████████████████████████████████████████████████| 40/40 [00:20<00:00,  1.98it/s]\n"
     ]
    },
    {
     "name": "stdout",
     "output_type": "stream",
     "text": [
      "allocated mem - 0.7942635520000001\n",
      "epoch number:  44\n"
     ]
    },
    {
     "name": "stderr",
     "output_type": "stream",
     "text": [
      "100%|███████████████████████████████████████████████████████████████████████████████████████████████████████████████████████████████████████████████████████████████████████| 40/40 [00:20<00:00,  1.98it/s]\n"
     ]
    },
    {
     "name": "stdout",
     "output_type": "stream",
     "text": [
      "allocated mem - 0.7946158080000001\n",
      "epoch number:  45\n"
     ]
    },
    {
     "name": "stderr",
     "output_type": "stream",
     "text": [
      "100%|███████████████████████████████████████████████████████████████████████████████████████████████████████████████████████████████████████████████████████████████████████| 40/40 [00:20<00:00,  1.98it/s]\n"
     ]
    },
    {
     "name": "stdout",
     "output_type": "stream",
     "text": [
      "allocated mem - 0.7929113600000001\n",
      "epoch number:  46\n"
     ]
    },
    {
     "name": "stderr",
     "output_type": "stream",
     "text": [
      "100%|███████████████████████████████████████████████████████████████████████████████████████████████████████████████████████████████████████████████████████████████████████| 40/40 [00:20<00:00,  1.98it/s]\n"
     ]
    },
    {
     "name": "stdout",
     "output_type": "stream",
     "text": [
      "allocated mem - 0.7946158080000001\n",
      "epoch number:  47\n"
     ]
    },
    {
     "name": "stderr",
     "output_type": "stream",
     "text": [
      "100%|███████████████████████████████████████████████████████████████████████████████████████████████████████████████████████████████████████████████████████████████████████| 40/40 [00:20<00:00,  1.98it/s]\n"
     ]
    },
    {
     "name": "stdout",
     "output_type": "stream",
     "text": [
      "allocated mem - 0.7929113600000001\n",
      "epoch number:  48\n"
     ]
    },
    {
     "name": "stderr",
     "output_type": "stream",
     "text": [
      "100%|███████████████████████████████████████████████████████████████████████████████████████████████████████████████████████████████████████████████████████████████████████| 40/40 [00:20<00:00,  1.98it/s]\n"
     ]
    },
    {
     "name": "stdout",
     "output_type": "stream",
     "text": [
      "allocated mem - 0.7946158080000001\n",
      "epoch number:  49\n"
     ]
    },
    {
     "name": "stderr",
     "output_type": "stream",
     "text": [
      "100%|███████████████████████████████████████████████████████████████████████████████████████████████████████████████████████████████████████████████████████████████████████| 40/40 [00:20<00:00,  1.98it/s]\n"
     ]
    },
    {
     "name": "stdout",
     "output_type": "stream",
     "text": [
      "allocated mem - 0.7929113600000001\n",
      "epoch number:  50\n"
     ]
    },
    {
     "name": "stderr",
     "output_type": "stream",
     "text": [
      "100%|███████████████████████████████████████████████████████████████████████████████████████████████████████████████████████████████████████████████████████████████████████| 40/40 [00:20<00:00,  1.98it/s]\n"
     ]
    },
    {
     "name": "stdout",
     "output_type": "stream",
     "text": [
      "allocated mem - 0.7946158080000001\n",
      "epoch number:  51\n"
     ]
    },
    {
     "name": "stderr",
     "output_type": "stream",
     "text": [
      "100%|███████████████████████████████████████████████████████████████████████████████████████████████████████████████████████████████████████████████████████████████████████| 40/40 [00:20<00:00,  1.98it/s]\n"
     ]
    },
    {
     "name": "stdout",
     "output_type": "stream",
     "text": [
      "allocated mem - 0.7942635520000001\n",
      "epoch number:  52\n"
     ]
    },
    {
     "name": "stderr",
     "output_type": "stream",
     "text": [
      "100%|███████████████████████████████████████████████████████████████████████████████████████████████████████████████████████████████████████████████████████████████████████| 40/40 [00:20<00:00,  1.98it/s]\n"
     ]
    },
    {
     "name": "stdout",
     "output_type": "stream",
     "text": [
      "allocated mem - 0.7932636160000001\n",
      "epoch number:  53\n"
     ]
    },
    {
     "name": "stderr",
     "output_type": "stream",
     "text": [
      "100%|███████████████████████████████████████████████████████████████████████████████████████████████████████████████████████████████████████████████████████████████████████| 40/40 [00:20<00:00,  1.98it/s]\n"
     ]
    },
    {
     "name": "stdout",
     "output_type": "stream",
     "text": [
      "allocated mem - 0.7942635520000001\n",
      "epoch number:  54\n"
     ]
    },
    {
     "name": "stderr",
     "output_type": "stream",
     "text": [
      "100%|███████████████████████████████████████████████████████████████████████████████████████████████████████████████████████████████████████████████████████████████████████| 40/40 [00:20<00:00,  1.98it/s]\n"
     ]
    },
    {
     "name": "stdout",
     "output_type": "stream",
     "text": [
      "allocated mem - 0.7946158080000001\n",
      "epoch number:  55\n"
     ]
    },
    {
     "name": "stderr",
     "output_type": "stream",
     "text": [
      "100%|███████████████████████████████████████████████████████████████████████████████████████████████████████████████████████████████████████████████████████████████████████| 40/40 [00:20<00:00,  1.96it/s]\n"
     ]
    },
    {
     "name": "stdout",
     "output_type": "stream",
     "text": [
      "allocated mem - 0.7942635520000001\n",
      "epoch number:  56\n"
     ]
    },
    {
     "name": "stderr",
     "output_type": "stream",
     "text": [
      "100%|███████████████████████████████████████████████████████████████████████████████████████████████████████████████████████████████████████████████████████████████████████| 40/40 [00:20<00:00,  1.98it/s]\n"
     ]
    },
    {
     "name": "stdout",
     "output_type": "stream",
     "text": [
      "allocated mem - 0.7946158080000001\n",
      "epoch number:  57\n"
     ]
    },
    {
     "name": "stderr",
     "output_type": "stream",
     "text": [
      "100%|███████████████████████████████████████████████████████████████████████████████████████████████████████████████████████████████████████████████████████████████████████| 40/40 [00:20<00:00,  1.98it/s]\n"
     ]
    },
    {
     "name": "stdout",
     "output_type": "stream",
     "text": [
      "allocated mem - 0.7929113600000001\n",
      "epoch number:  58\n"
     ]
    },
    {
     "name": "stderr",
     "output_type": "stream",
     "text": [
      "100%|███████████████████████████████████████████████████████████████████████████████████████████████████████████████████████████████████████████████████████████████████████| 40/40 [00:20<00:00,  1.98it/s]\n"
     ]
    },
    {
     "name": "stdout",
     "output_type": "stream",
     "text": [
      "allocated mem - 0.7932636160000001\n",
      "epoch number:  59\n"
     ]
    },
    {
     "name": "stderr",
     "output_type": "stream",
     "text": [
      "100%|███████████████████████████████████████████████████████████████████████████████████████████████████████████████████████████████████████████████████████████████████████| 40/40 [00:20<00:00,  1.98it/s]\n"
     ]
    },
    {
     "name": "stdout",
     "output_type": "stream",
     "text": [
      "allocated mem - 0.7942635520000001\n",
      "epoch number:  60\n"
     ]
    },
    {
     "name": "stderr",
     "output_type": "stream",
     "text": [
      "100%|███████████████████████████████████████████████████████████████████████████████████████████████████████████████████████████████████████████████████████████████████████| 40/40 [00:20<00:00,  1.98it/s]\n"
     ]
    },
    {
     "name": "stdout",
     "output_type": "stream",
     "text": [
      "Saved model at ./weight_nn_decoded/nn_model_tryptag_decoded.pth\n",
      "torch.Size([8, 32, 80, 80])\n",
      "torch.Size([8, 3, 320, 320])\n",
      "allocated mem - 0.794361344\n",
      "epoch number:  61\n"
     ]
    },
    {
     "name": "stderr",
     "output_type": "stream",
     "text": [
      "100%|███████████████████████████████████████████████████████████████████████████████████████████████████████████████████████████████████████████████████████████████████████| 40/40 [00:20<00:00,  1.98it/s]\n"
     ]
    },
    {
     "name": "stdout",
     "output_type": "stream",
     "text": [
      "allocated mem - 0.793498624\n",
      "epoch number:  62\n"
     ]
    },
    {
     "name": "stderr",
     "output_type": "stream",
     "text": [
      "100%|███████████████████████████████████████████████████████████████████████████████████████████████████████████████████████████████████████████████████████████████████████| 40/40 [00:20<00:00,  1.98it/s]\n"
     ]
    },
    {
     "name": "stdout",
     "output_type": "stream",
     "text": [
      "allocated mem - 0.792146432\n",
      "epoch number:  63\n"
     ]
    },
    {
     "name": "stderr",
     "output_type": "stream",
     "text": [
      "100%|███████████████████████████████████████████████████████████████████████████████████████████████████████████████████████████████████████████████████████████████████████| 40/40 [00:20<00:00,  1.98it/s]\n"
     ]
    },
    {
     "name": "stdout",
     "output_type": "stream",
     "text": [
      "allocated mem - 0.793498624\n",
      "epoch number:  64\n"
     ]
    },
    {
     "name": "stderr",
     "output_type": "stream",
     "text": [
      "100%|███████████████████████████████████████████████████████████████████████████████████████████████████████████████████████████████████████████████████████████████████████| 40/40 [00:20<00:00,  1.98it/s]\n"
     ]
    },
    {
     "name": "stdout",
     "output_type": "stream",
     "text": [
      "allocated mem - 0.793498624\n",
      "epoch number:  65\n"
     ]
    },
    {
     "name": "stderr",
     "output_type": "stream",
     "text": [
      "100%|███████████████████████████████████████████████████████████████████████████████████████████████████████████████████████████████████████████████████████████████████████| 40/40 [00:20<00:00,  1.98it/s]\n"
     ]
    },
    {
     "name": "stdout",
     "output_type": "stream",
     "text": [
      "allocated mem - 0.7943178240000001\n",
      "epoch number:  66\n"
     ]
    },
    {
     "name": "stderr",
     "output_type": "stream",
     "text": [
      "100%|███████████████████████████████████████████████████████████████████████████████████████████████████████████████████████████████████████████████████████████████████████| 40/40 [00:20<00:00,  1.98it/s]\n"
     ]
    },
    {
     "name": "stdout",
     "output_type": "stream",
     "text": [
      "allocated mem - 0.792146432\n",
      "epoch number:  67\n"
     ]
    },
    {
     "name": "stderr",
     "output_type": "stream",
     "text": [
      "100%|███████████████████████████████████████████████████████████████████████████████████████████████████████████████████████████████████████████████████████████████████████| 40/40 [00:20<00:00,  1.98it/s]\n"
     ]
    },
    {
     "name": "stdout",
     "output_type": "stream",
     "text": [
      "allocated mem - 0.793498624\n",
      "epoch number:  68\n"
     ]
    },
    {
     "name": "stderr",
     "output_type": "stream",
     "text": [
      "100%|███████████████████████████████████████████████████████████████████████████████████████████████████████████████████████████████████████████████████████████████████████| 40/40 [00:20<00:00,  1.98it/s]\n"
     ]
    },
    {
     "name": "stdout",
     "output_type": "stream",
     "text": [
      "allocated mem - 0.793498624\n",
      "epoch number:  69\n"
     ]
    },
    {
     "name": "stderr",
     "output_type": "stream",
     "text": [
      "100%|███████████████████████████████████████████████████████████████████████████████████████████████████████████████████████████████████████████████████████████████████████| 40/40 [00:20<00:00,  1.97it/s]\n"
     ]
    },
    {
     "name": "stdout",
     "output_type": "stream",
     "text": [
      "allocated mem - 0.7943178240000001\n",
      "epoch number:  70\n"
     ]
    },
    {
     "name": "stderr",
     "output_type": "stream",
     "text": [
      "100%|███████████████████████████████████████████████████████████████████████████████████████████████████████████████████████████████████████████████████████████████████████| 40/40 [00:20<00:00,  1.98it/s]\n"
     ]
    },
    {
     "name": "stdout",
     "output_type": "stream",
     "text": [
      "allocated mem - 0.793498624\n",
      "epoch number:  71\n"
     ]
    },
    {
     "name": "stderr",
     "output_type": "stream",
     "text": [
      "100%|███████████████████████████████████████████████████████████████████████████████████████████████████████████████████████████████████████████████████████████████████████| 40/40 [00:20<00:00,  1.98it/s]\n"
     ]
    },
    {
     "name": "stdout",
     "output_type": "stream",
     "text": [
      "allocated mem - 0.792146432\n",
      "epoch number:  72\n"
     ]
    },
    {
     "name": "stderr",
     "output_type": "stream",
     "text": [
      "100%|███████████████████████████████████████████████████████████████████████████████████████████████████████████████████████████████████████████████████████████████████████| 40/40 [00:20<00:00,  1.98it/s]\n"
     ]
    },
    {
     "name": "stdout",
     "output_type": "stream",
     "text": [
      "allocated mem - 0.793498624\n",
      "epoch number:  73\n"
     ]
    },
    {
     "name": "stderr",
     "output_type": "stream",
     "text": [
      "100%|███████████████████████████████████████████████████████████████████████████████████████████████████████████████████████████████████████████████████████████████████████| 40/40 [00:20<00:00,  1.98it/s]\n"
     ]
    },
    {
     "name": "stdout",
     "output_type": "stream",
     "text": [
      "allocated mem - 0.792965632\n",
      "epoch number:  74\n"
     ]
    },
    {
     "name": "stderr",
     "output_type": "stream",
     "text": [
      "100%|███████████████████████████████████████████████████████████████████████████████████████████████████████████████████████████████████████████████████████████████████████| 40/40 [00:20<00:00,  1.98it/s]\n"
     ]
    },
    {
     "name": "stdout",
     "output_type": "stream",
     "text": [
      "allocated mem - 0.792146432\n",
      "epoch number:  75\n"
     ]
    },
    {
     "name": "stderr",
     "output_type": "stream",
     "text": [
      "100%|███████████████████████████████████████████████████████████████████████████████████████████████████████████████████████████████████████████████████████████████████████| 40/40 [00:20<00:00,  1.98it/s]\n"
     ]
    },
    {
     "name": "stdout",
     "output_type": "stream",
     "text": [
      "allocated mem - 0.793498624\n",
      "epoch number:  76\n"
     ]
    },
    {
     "name": "stderr",
     "output_type": "stream",
     "text": [
      "100%|███████████████████████████████████████████████████████████████████████████████████████████████████████████████████████████████████████████████████████████████████████| 40/40 [00:20<00:00,  1.98it/s]\n"
     ]
    },
    {
     "name": "stdout",
     "output_type": "stream",
     "text": [
      "allocated mem - 0.793498624\n",
      "epoch number:  77\n"
     ]
    },
    {
     "name": "stderr",
     "output_type": "stream",
     "text": [
      "100%|███████████████████████████████████████████████████████████████████████████████████████████████████████████████████████████████████████████████████████████████████████| 40/40 [00:20<00:00,  1.98it/s]\n"
     ]
    },
    {
     "name": "stdout",
     "output_type": "stream",
     "text": [
      "allocated mem - 0.792965632\n",
      "epoch number:  78\n"
     ]
    },
    {
     "name": "stderr",
     "output_type": "stream",
     "text": [
      "100%|███████████████████████████████████████████████████████████████████████████████████████████████████████████████████████████████████████████████████████████████████████| 40/40 [00:20<00:00,  1.98it/s]\n"
     ]
    },
    {
     "name": "stdout",
     "output_type": "stream",
     "text": [
      "allocated mem - 0.793498624\n",
      "epoch number:  79\n"
     ]
    },
    {
     "name": "stderr",
     "output_type": "stream",
     "text": [
      "100%|███████████████████████████████████████████████████████████████████████████████████████████████████████████████████████████████████████████████████████████████████████| 40/40 [00:20<00:00,  1.98it/s]\n"
     ]
    },
    {
     "name": "stdout",
     "output_type": "stream",
     "text": [
      "allocated mem - 0.793498624\n",
      "epoch number:  80\n"
     ]
    },
    {
     "name": "stderr",
     "output_type": "stream",
     "text": [
      "100%|███████████████████████████████████████████████████████████████████████████████████████████████████████████████████████████████████████████████████████████████████████| 40/40 [00:20<00:00,  1.98it/s]\n"
     ]
    },
    {
     "name": "stdout",
     "output_type": "stream",
     "text": [
      "Saved model at ./weight_nn_decoded/nn_model_tryptag_decoded.pth\n",
      "torch.Size([8, 32, 80, 80])\n",
      "torch.Size([8, 3, 320, 320])\n",
      "allocated mem - 0.793498624\n",
      "epoch number:  81\n"
     ]
    },
    {
     "name": "stderr",
     "output_type": "stream",
     "text": [
      "100%|███████████████████████████████████████████████████████████████████████████████████████████████████████████████████████████████████████████████████████████████████████| 40/40 [00:20<00:00,  1.98it/s]\n"
     ]
    },
    {
     "name": "stdout",
     "output_type": "stream",
     "text": [
      "allocated mem - 0.7929661440000001\n",
      "epoch number:  82\n"
     ]
    },
    {
     "name": "stderr",
     "output_type": "stream",
     "text": [
      "100%|███████████████████████████████████████████████████████████████████████████████████████████████████████████████████████████████████████████████████████████████████████| 40/40 [00:20<00:00,  1.98it/s]\n"
     ]
    },
    {
     "name": "stdout",
     "output_type": "stream",
     "text": [
      "allocated mem - 0.7936957440000001\n",
      "epoch number:  83\n"
     ]
    },
    {
     "name": "stderr",
     "output_type": "stream",
     "text": [
      "100%|███████████████████████████████████████████████████████████████████████████████████████████████████████████████████████████████████████████████████████████████████████| 40/40 [00:20<00:00,  1.98it/s]\n"
     ]
    },
    {
     "name": "stdout",
     "output_type": "stream",
     "text": [
      "allocated mem - 0.7912678400000001\n",
      "epoch number:  84\n"
     ]
    },
    {
     "name": "stderr",
     "output_type": "stream",
     "text": [
      "100%|███████████████████████████████████████████████████████████████████████████████████████████████████████████████████████████████████████████████████████████████████████| 40/40 [00:20<00:00,  1.98it/s]\n"
     ]
    },
    {
     "name": "stdout",
     "output_type": "stream",
     "text": [
      "allocated mem - 0.7912678400000001\n",
      "epoch number:  85\n"
     ]
    },
    {
     "name": "stderr",
     "output_type": "stream",
     "text": [
      "100%|███████████████████████████████████████████████████████████████████████████████████████████████████████████████████████████████████████████████████████████████████████| 40/40 [00:20<00:00,  1.98it/s]\n"
     ]
    },
    {
     "name": "stdout",
     "output_type": "stream",
     "text": [
      "allocated mem - 0.7936957440000001\n",
      "epoch number:  86\n"
     ]
    },
    {
     "name": "stderr",
     "output_type": "stream",
     "text": [
      "100%|███████████████████████████████████████████████████████████████████████████████████████████████████████████████████████████████████████████████████████████████████████| 40/40 [00:20<00:00,  1.98it/s]\n"
     ]
    },
    {
     "name": "stdout",
     "output_type": "stream",
     "text": [
      "allocated mem - 0.7925135360000001\n",
      "epoch number:  87\n"
     ]
    },
    {
     "name": "stderr",
     "output_type": "stream",
     "text": [
      "100%|███████████████████████████████████████████████████████████████████████████████████████████████████████████████████████████████████████████████████████████████████████| 40/40 [00:20<00:00,  1.98it/s]\n"
     ]
    },
    {
     "name": "stdout",
     "output_type": "stream",
     "text": [
      "allocated mem - 0.7925135360000001\n",
      "epoch number:  88\n"
     ]
    },
    {
     "name": "stderr",
     "output_type": "stream",
     "text": [
      "100%|███████████████████████████████████████████████████████████████████████████████████████████████████████████████████████████████████████████████████████████████████████| 40/40 [00:20<00:00,  1.98it/s]\n"
     ]
    },
    {
     "name": "stdout",
     "output_type": "stream",
     "text": [
      "allocated mem - 0.7925135360000001\n",
      "epoch number:  89\n"
     ]
    },
    {
     "name": "stderr",
     "output_type": "stream",
     "text": [
      "100%|███████████████████████████████████████████████████████████████████████████████████████████████████████████████████████████████████████████████████████████████████████| 40/40 [00:20<00:00,  1.98it/s]\n"
     ]
    },
    {
     "name": "stdout",
     "output_type": "stream",
     "text": [
      "allocated mem - 0.791161344\n",
      "epoch number:  90\n"
     ]
    },
    {
     "name": "stderr",
     "output_type": "stream",
     "text": [
      "100%|███████████████████████████████████████████████████████████████████████████████████████████████████████████████████████████████████████████████████████████████████████| 40/40 [00:20<00:00,  1.98it/s]\n"
     ]
    },
    {
     "name": "stdout",
     "output_type": "stream",
     "text": [
      "allocated mem - 0.7925135360000001\n",
      "epoch number:  91\n"
     ]
    },
    {
     "name": "stderr",
     "output_type": "stream",
     "text": [
      "100%|███████████████████████████████████████████████████████████████████████████████████████████████████████████████████████████████████████████████████████████████████████| 40/40 [00:20<00:00,  1.98it/s]\n"
     ]
    },
    {
     "name": "stdout",
     "output_type": "stream",
     "text": [
      "allocated mem - 0.7925135360000001\n",
      "epoch number:  92\n"
     ]
    },
    {
     "name": "stderr",
     "output_type": "stream",
     "text": [
      "100%|███████████████████████████████████████████████████████████████████████████████████████████████████████████████████████████████████████████████████████████████████████| 40/40 [00:20<00:00,  1.98it/s]\n"
     ]
    },
    {
     "name": "stdout",
     "output_type": "stream",
     "text": [
      "allocated mem - 0.7925135360000001\n",
      "epoch number:  93\n"
     ]
    },
    {
     "name": "stderr",
     "output_type": "stream",
     "text": [
      "100%|███████████████████████████████████████████████████████████████████████████████████████████████████████████████████████████████████████████████████████████████████████| 40/40 [00:20<00:00,  1.98it/s]\n"
     ]
    },
    {
     "name": "stdout",
     "output_type": "stream",
     "text": [
      "allocated mem - 0.7925135360000001\n",
      "epoch number:  94\n"
     ]
    },
    {
     "name": "stderr",
     "output_type": "stream",
     "text": [
      "100%|███████████████████████████████████████████████████████████████████████████████████████████████████████████████████████████████████████████████████████████████████████| 40/40 [00:20<00:00,  1.98it/s]\n"
     ]
    },
    {
     "name": "stdout",
     "output_type": "stream",
     "text": [
      "allocated mem - 0.7925135360000001\n",
      "epoch number:  95\n"
     ]
    },
    {
     "name": "stderr",
     "output_type": "stream",
     "text": [
      "100%|███████████████████████████████████████████████████████████████████████████████████████████████████████████████████████████████████████████████████████████████████████| 40/40 [00:20<00:00,  1.98it/s]\n"
     ]
    },
    {
     "name": "stdout",
     "output_type": "stream",
     "text": [
      "allocated mem - 0.7925135360000001\n",
      "epoch number:  96\n"
     ]
    },
    {
     "name": "stderr",
     "output_type": "stream",
     "text": [
      "100%|███████████████████████████████████████████████████████████████████████████████████████████████████████████████████████████████████████████████████████████████████████| 40/40 [00:20<00:00,  1.98it/s]\n"
     ]
    },
    {
     "name": "stdout",
     "output_type": "stream",
     "text": [
      "allocated mem - 0.7925135360000001\n",
      "epoch number:  97\n"
     ]
    },
    {
     "name": "stderr",
     "output_type": "stream",
     "text": [
      "100%|███████████████████████████████████████████████████████████████████████████████████████████████████████████████████████████████████████████████████████████████████████| 40/40 [00:20<00:00,  1.98it/s]\n"
     ]
    },
    {
     "name": "stdout",
     "output_type": "stream",
     "text": [
      "allocated mem - 0.7925135360000001\n",
      "epoch number:  98\n"
     ]
    },
    {
     "name": "stderr",
     "output_type": "stream",
     "text": [
      "100%|███████████████████████████████████████████████████████████████████████████████████████████████████████████████████████████████████████████████████████████████████████| 40/40 [00:20<00:00,  1.98it/s]\n"
     ]
    },
    {
     "name": "stdout",
     "output_type": "stream",
     "text": [
      "allocated mem - 0.7925135360000001\n",
      "epoch number:  99\n"
     ]
    },
    {
     "name": "stderr",
     "output_type": "stream",
     "text": [
      "100%|███████████████████████████████████████████████████████████████████████████████████████████████████████████████████████████████████████████████████████████████████████| 40/40 [00:20<00:00,  1.98it/s]\n"
     ]
    },
    {
     "name": "stdout",
     "output_type": "stream",
     "text": [
      "allocated mem - 0.7925135360000001\n",
      "epoch number:  100\n"
     ]
    },
    {
     "name": "stderr",
     "output_type": "stream",
     "text": [
      "100%|███████████████████████████████████████████████████████████████████████████████████████████████████████████████████████████████████████████████████████████████████████| 40/40 [00:20<00:00,  1.98it/s]\n"
     ]
    },
    {
     "name": "stdout",
     "output_type": "stream",
     "text": [
      "Saved model at ./weight_nn_decoded/nn_model_tryptag_decoded.pth\n",
      "torch.Size([8, 32, 80, 80])\n",
      "torch.Size([8, 3, 320, 320])\n",
      "allocated mem - 0.7925135360000001\n",
      "epoch number:  101\n"
     ]
    },
    {
     "name": "stderr",
     "output_type": "stream",
     "text": [
      "100%|███████████████████████████████████████████████████████████████████████████████████████████████████████████████████████████████████████████████████████████████████████| 40/40 [00:20<00:00,  1.98it/s]\n"
     ]
    },
    {
     "name": "stdout",
     "output_type": "stream",
     "text": [
      "allocated mem - 0.7935175680000001\n",
      "epoch number:  102\n"
     ]
    },
    {
     "name": "stderr",
     "output_type": "stream",
     "text": [
      "100%|███████████████████████████████████████████████████████████████████████████████████████████████████████████████████████████████████████████████████████████████████████| 40/40 [00:20<00:00,  1.98it/s]\n"
     ]
    },
    {
     "name": "stdout",
     "output_type": "stream",
     "text": [
      "allocated mem - 0.793947136\n",
      "epoch number:  103\n"
     ]
    },
    {
     "name": "stderr",
     "output_type": "stream",
     "text": [
      "100%|███████████████████████████████████████████████████████████████████████████████████████████████████████████████████████████████████████████████████████████████████████| 40/40 [00:20<00:00,  1.98it/s]\n"
     ]
    },
    {
     "name": "stdout",
     "output_type": "stream",
     "text": [
      "allocated mem - 0.793947136\n",
      "epoch number:  104\n"
     ]
    },
    {
     "name": "stderr",
     "output_type": "stream",
     "text": [
      "100%|███████████████████████████████████████████████████████████████████████████████████████████████████████████████████████████████████████████████████████████████████████| 40/40 [00:20<00:00,  1.98it/s]\n"
     ]
    },
    {
     "name": "stdout",
     "output_type": "stream",
     "text": [
      "allocated mem - 0.7935175680000001\n",
      "epoch number:  105\n"
     ]
    },
    {
     "name": "stderr",
     "output_type": "stream",
     "text": [
      "100%|███████████████████████████████████████████████████████████████████████████████████████████████████████████████████████████████████████████████████████████████████████| 40/40 [00:20<00:00,  1.98it/s]\n"
     ]
    },
    {
     "name": "stdout",
     "output_type": "stream",
     "text": [
      "allocated mem - 0.7935175680000001\n",
      "epoch number:  106\n"
     ]
    },
    {
     "name": "stderr",
     "output_type": "stream",
     "text": [
      "100%|███████████████████████████████████████████████████████████████████████████████████████████████████████████████████████████████████████████████████████████████████████| 40/40 [00:20<00:00,  1.98it/s]\n"
     ]
    },
    {
     "name": "stdout",
     "output_type": "stream",
     "text": [
      "allocated mem - 0.793947136\n",
      "epoch number:  107\n"
     ]
    },
    {
     "name": "stderr",
     "output_type": "stream",
     "text": [
      "100%|███████████████████████████████████████████████████████████████████████████████████████████████████████████████████████████████████████████████████████████████████████| 40/40 [00:20<00:00,  1.98it/s]\n"
     ]
    },
    {
     "name": "stdout",
     "output_type": "stream",
     "text": [
      "allocated mem - 0.7925949440000001\n",
      "epoch number:  108\n"
     ]
    },
    {
     "name": "stderr",
     "output_type": "stream",
     "text": [
      "100%|███████████████████████████████████████████████████████████████████████████████████████████████████████████████████████████████████████████████████████████████████████| 40/40 [00:20<00:00,  1.98it/s]\n"
     ]
    },
    {
     "name": "stdout",
     "output_type": "stream",
     "text": [
      "allocated mem - 0.792165376\n",
      "epoch number:  109\n"
     ]
    },
    {
     "name": "stderr",
     "output_type": "stream",
     "text": [
      "100%|███████████████████████████████████████████████████████████████████████████████████████████████████████████████████████████████████████████████████████████████████████| 40/40 [00:20<00:00,  1.98it/s]\n"
     ]
    },
    {
     "name": "stdout",
     "output_type": "stream",
     "text": [
      "allocated mem - 0.7935175680000001\n",
      "epoch number:  110\n"
     ]
    },
    {
     "name": "stderr",
     "output_type": "stream",
     "text": [
      "100%|███████████████████████████████████████████████████████████████████████████████████████████████████████████████████████████████████████████████████████████████████████| 40/40 [00:20<00:00,  1.98it/s]\n"
     ]
    },
    {
     "name": "stdout",
     "output_type": "stream",
     "text": [
      "allocated mem - 0.793947136\n",
      "epoch number:  111\n"
     ]
    },
    {
     "name": "stderr",
     "output_type": "stream",
     "text": [
      "100%|███████████████████████████████████████████████████████████████████████████████████████████████████████████████████████████████████████████████████████████████████████| 40/40 [00:20<00:00,  1.98it/s]\n"
     ]
    },
    {
     "name": "stdout",
     "output_type": "stream",
     "text": [
      "allocated mem - 0.793947136\n",
      "epoch number:  112\n"
     ]
    },
    {
     "name": "stderr",
     "output_type": "stream",
     "text": [
      "100%|███████████████████████████████████████████████████████████████████████████████████████████████████████████████████████████████████████████████████████████████████████| 40/40 [00:20<00:00,  1.98it/s]\n"
     ]
    },
    {
     "name": "stdout",
     "output_type": "stream",
     "text": [
      "allocated mem - 0.7935175680000001\n",
      "epoch number:  113\n"
     ]
    },
    {
     "name": "stderr",
     "output_type": "stream",
     "text": [
      " 38%|██████████████████████████████████████████████████████████████▋                                                                                                        | 15/40 [00:07<00:12,  2.00it/s]"
     ]
    }
   ],
   "source": [
    "import os\n",
    "nn_model.train()\n",
    "\n",
    "lmin=1e10\n",
    "\n",
    "for ep in range(0, n_epoch*2):\n",
    "    print(\"allocated mem -\", torch.cuda.memory_allocated(torch.device(\"cuda:1\")) * 1e-9)\n",
    "    print(\"epoch number: \", ep)\n",
    "    optim.param_groups[0]['lr'] = lrate*(1-0.2*ep/n_epoch)\n",
    "    pbar = tqdm(dataloader, mininterval = 2)\n",
    "    #print(pbar)\n",
    "    #break\n",
    "    #k=0\n",
    "    loss_val = 0\n",
    "    for x,_ in pbar:\n",
    "        optim.zero_grad()\n",
    "        x=x.to(device)\n",
    "        noise = torch.randn_like(x)\n",
    "        t = torch.randint(1, timesteps + 1, (x.shape[0],))\n",
    "        x_pert = perturb_input(x, t, noise).to(device)\n",
    "        pred_noise = nn_model(x_pert, t/timesteps)\n",
    "        loss = F.mse_loss(pred_noise, noise)\n",
    "        #loss_values_1.append(loss.item())\n",
    "        loss_val+=loss\n",
    "        loss.backward()\n",
    "        optim.step()\n",
    "    if (loss_val < lmin):\n",
    "        lmin = loss_val\n",
    "        torch.save({\n",
    "            'epoch': ep,\n",
    "            'model_state_dict': nn_model.state_dict(),\n",
    "            'optimizer_state_dict': optim.state_dict(),\n",
    "            'loss': loss_val\n",
    "        }, str(save_dir+f\"nn_model_tryptag_decoded_best.pth\"))\n",
    "    if(ep%20==0):\n",
    "        if not os.path.exists(save_dir):\n",
    "            os.mkdir(save_dir)\n",
    "        torch.save({\n",
    "            'epoch': ep,\n",
    "            'model_state_dict': nn_model.state_dict(),\n",
    "            'optimizer_state_dict': optim.state_dict(),\n",
    "            'loss': loss_val\n",
    "            }, str(save_dir+f\"nn_model_decoded_tryptag{ep}.pth\"))\n",
    "        print(\"Saved model at \" + str(save_dir+f\"nn_model_tryptag_decoded.pth\"))\n",
    "        with torch.no_grad():\n",
    "                xh,_ = sample_ddpm_context(8)\n",
    "                x_encoded = []\n",
    "                for i in range(8):\n",
    "                    x_encoded.append(auto_encoder.encode(xh[i]).cpu().data.numpy())\n",
    "                x_encoded = torch.from_numpy(np.array(x_encoded)).to(\"cuda:1\")\n",
    "                x_encoded_1 = []\n",
    "                for i in range(8):\n",
    "                    x_encoded_1.append(auto_encoder.encode(x[i]).cpu().data.numpy())\n",
    "                x_encoded_1 = torch.from_numpy(np.array(x_encoded_1)).to(\"cuda:1\")\n",
    "                print(x[:8].shape)\n",
    "                print(x_encoded.shape)\n",
    "                xset = torch.cat([x_encoded, x_encoded_1], dim=0)\n",
    "                grid = make_grid(xset, normalize=True, value_range=(-1, 1), nrow=4)\n",
    "                save_image(grid, str(save_dir+f\"ddpm_sample_tryptag_colored_decoded_better{ep}.png\"))"
   ]
  },
  {
   "cell_type": "code",
   "execution_count": 47,
   "metadata": {},
   "outputs": [
    {
     "data": {
      "image/png": "[encoded data removed]",
      "text/plain": [
       "<Figure size 640x480 with 1 Axes>"
      ]
     },
     "metadata": {},
     "output_type": "display_data"
    }
   ],
   "source": [
    "loss_values_1 = torch.tensor(loss_values_1).cpu()\n",
    "plt.plot(np.array(loss_values_1))\n",
    "loss_values_1 = loss_values_1.tolist()"
   ]
  },
  {
   "cell_type": "code",
   "execution_count": 84,
   "metadata": {},
   "outputs": [
    {
     "data": {
      "text/plain": [
       "[<matplotlib.lines.Line2D at 0x7fb2af0525c0>]"
      ]
     },
     "execution_count": 84,
     "metadata": {},
     "output_type": "execute_result"
    },
    {
     "data": {
      "image/png": "[encoded data removed]",
      "text/plain": [
       "<Figure size 640x480 with 1 Axes>"
      ]
     },
     "metadata": {},
     "output_type": "display_data"
    }
   ],
   "source": [
    "loss_values_1 = np.asarray(loss_values_1)\n",
    "sum1=0\n",
    "loss_values_epoch=[]\n",
    "for i in range(1, loss_values_1.shape[0]):\n",
    "    sum1+=loss_values_1[i]\n",
    "    if(i%500==0):\n",
    "        loss_values_epoch.append(sum1)\n",
    "        sum1=0\n",
    "loss_values_epoch = np.asarray(loss_values_epoch)\n",
    "plt.plot(loss_values_epoch)"
   ]
  },
  {
   "cell_type": "code",
   "execution_count": 90,
   "metadata": {},
   "outputs": [
    {
     "data": {
      "text/plain": [
       "torch.Size([364738])"
      ]
     },
     "execution_count": 90,
     "metadata": {},
     "output_type": "execute_result"
    }
   ],
   "source": [
    "loss_values_1.shape"
   ]
  },
  {
   "cell_type": "code",
   "execution_count": 88,
   "metadata": {},
   "outputs": [
    {
     "data": {
      "image/png": "[encoded data removed]",
      "text/plain": [
       "<Figure size 400x200 with 10 Axes>"
      ]
     },
     "metadata": {},
     "output_type": "display_data"
    }
   ],
   "source": [
    "# user defined context\n",
    "ctx = torch.tensor([\n",
    "    # hero, non-hero, food, spell, side-facing\n",
    "    [1,0,0,0,0,0,0,0,0,0],  \n",
    "    [0,1,0,0,0,0,0,0,0,0],    \n",
    "    [0,0,1,0,0,0,0,0,0,0],\n",
    "    [0,0,0,1,0,0,0,0,0,0],\n",
    "    [0,0,0,0,1,0,0,0,0,0],\n",
    "    [0,0,0,0,0,1,0,0,0,0],\n",
    "    [0,0,0,0,0,0,1,0,0,0],\n",
    "    [0,0,0,0,0,0,0,1,0,0],\n",
    "    [0,0,0,0,0,0,0,0,1,0],\n",
    "    [0,0,0,0,0,0,0,0,0,1]\n",
    "]).float().to(device)\n",
    "samples, _ = sample_ddpm_context(ctx.shape[0], ctx)\n",
    "show_images(samples)"
   ]
  },
  {
   "cell_type": "code",
   "execution_count": null,
   "metadata": {},
   "outputs": [],
   "source": [
    "from network import Net"
   ]
  },
  {
   "cell_type": "code",
   "execution_count": 50,
   "metadata": {},
   "outputs": [
    {
     "data": {
      "image/png": "[encoded data removed]",
      "text/plain": [
       "<Figure size 400x200 with 10 Axes>"
      ]
     },
     "metadata": {},
     "output_type": "display_data"
    }
   ],
   "source": [
    "# mix of defined context\n",
    "ctx = torch.tensor([\n",
    "    [1,0,0,0,0,0,0,0,0,0],\n",
    "    [0.9,0.1,0,0,0,0,0,0,0,0],\n",
    "    [0.8,0.2,0,0,0,0,0,0,0,0],\n",
    "    [0.7,0.3,0,0,0,0,0,0,0,0],\n",
    "    [0.6,0.4,0,0,0,0,0,0,0,0],\n",
    "    [0.5,0.5,0,0,0,0,0,0,0,0],\n",
    "    [0.4,0.6,0,0,0,0,0,0,0,0],\n",
    "    [0.3,0.7,0,0,0,0,0,0,0,0],\n",
    "    [0.2,0.8,0,0,0,0,0,0,0,0],\n",
    "    [0.1,0.9,0,0,0,0,0,0,0,0],\n",
    "    [0,1,0,0,0,0,0,0,0,0],\n",
    "]).float().to(device)\n",
    "\n",
    "samples, _ = sample_ddpm_context(ctx.shape[0])\n",
    "show_images(samples)"
   ]
  },
  {
   "cell_type": "code",
   "execution_count": 93,
   "metadata": {},
   "outputs": [
    {
     "data": {
      "image/png": "[encoded data removed]",
      "text/plain": [
       "<Figure size 400x200 with 4 Axes>"
      ]
     },
     "metadata": {},
     "output_type": "display_data"
    }
   ],
   "source": [
    "# user defined context\n",
    "ctx = torch.tensor([\n",
    "    # hero, non-hero, food, spell, side-facing\n",
    "    [1,0,0,0,0,0,0,0,0,0],  \n",
    "    [0,1,0,0,0,0,0,0,0,0],    \n",
    "    [0,0,1,0,0,0,0,0,0,0],\n",
    "    [0,0,0,1,0,0,0,0,0,0],\n",
    "    [0,0,0,0,1,0,0,0,0,0],\n",
    "    [0,0,0,0,0,1,0,0,0,0],\n",
    "    [0,0,0,0,0,0,1,0,0,0],\n",
    "    [0,0,0,0,0,0,0,1,0,0],\n",
    "    [0,0,0,0,0,0,0,0,1,0],\n",
    "    [0,0,0,0,0,0,0,0,0,1]\n",
    "]).float().to(device)\n",
    "samples, _ = sample_ddim_context(4)\n",
    "show_images(samples)"
   ]
  },
  {
   "cell_type": "code",
   "execution_count": 96,
   "metadata": {},
   "outputs": [
    {
     "data": {
      "text/plain": [
       "<matplotlib.image.AxesImage at 0x7fb2ae902fb0>"
      ]
     },
     "execution_count": 96,
     "metadata": {},
     "output_type": "execute_result"
    },
    {
     "data": {
      "image/png": "[encoded data removed]",
      "text/plain": [
       "<Figure size 640x480 with 1 Axes>"
      ]
     },
     "metadata": {},
     "output_type": "display_data"
    }
   ],
   "source": [
    "plt.imshow(samples[0][0,:,:].cpu().T, cmap=\"gray\")"
   ]
  },
  {
   "cell_type": "code",
   "execution_count": null,
   "metadata": {},
   "outputs": [],
   "source": [
    "# mix of defined context\n",
    "ctx = torch.tensor([\n",
    "    [1,0,0,0,0,0,0,0,0,0],\n",
    "    [0.9,0.1,0,0,0,0,0,0,0,0],\n",
    "    [0.8,0.2,0,0,0,0,0,0,0,0],\n",
    "    [0.7,0.3,0,0,0,0,0,0,0,0],\n",
    "    [0.6,0.4,0,0,0,0,0,0,0,0],\n",
    "    [0.5,0.5,0,0,0,0,0,0,0,0],\n",
    "    [0.4,0.6,0,0,0,0,0,0,0,0],\n",
    "    [0.3,0.7,0,0,0,0,0,0,0,0],\n",
    "    [0.2,0.8,0,0,0,0,0,0,0,0],\n",
    "    [0.1,0.9,0,0,0,0,0,0,0,0],\n",
    "    [0,1,0,0,0,0,0,0,0,0],\n",
    "]).float().to(device)\n",
    "\n",
    "samples, _ = sample_ddim_context(ctx.shape[0], ctx)\n",
    "show_images(samples)"
   ]
  },
  {
   "cell_type": "code",
   "execution_count": null,
   "metadata": {},
   "outputs": [],
   "source": [
    "import os\n",
    "nn_model.train()\n",
    "guide_w = 0.3\n",
    "loss_values_2=[]\n",
    "for ep in range(n_epoch):\n",
    "    optim.param_groups[0]['lr'] = lrate*(1-ep/n_epoch)\n",
    "    pbar = tqdm(dataloader, mininterval = 2)\n",
    "    for x, c in pbar:\n",
    "        optim.zero_grad()\n",
    "        x=x.to(device)\n",
    "        c=c.to(device)\n",
    "        c=make_encoding(c)\n",
    "    #print(c.shape)\n",
    "        context_mask = torch.bernoulli(torch.zeros(c.shape[0]) + 0.9).to(device)\n",
    "        \n",
    "    #print(c.shape)\n",
    "        noise = torch.randn_like(x)\n",
    "        t = torch.randint(1, timesteps + 1, (x.shape[0],))\n",
    "        x_pert = perturb_input(x, t, noise).to(device)\n",
    "        pred_noise_2 = nn_model(x_pert, t/timesteps, c=None)\n",
    "        pred_noise_1 = nn_model(x_pert, t/timesteps, c)\n",
    "        pred_noise_final = eps = (1+guide_w)*pred_noise_1 - guide_w*pred_noise_2\n",
    "        loss = F.mse_loss(pred_noise_final, noise)\n",
    "        loss_values_2.append(loss)\n",
    "        loss.backward()\n",
    "        optim.step()\n",
    "    "
   ]
  },
  {
   "cell_type": "code",
   "execution_count": null,
   "metadata": {},
   "outputs": [],
   "source": [
    "loss_values_2 = torch.tensor(loss_values_2).cpu()\n",
    "plt.plot(np.array(loss_values_2)"
   ]
  },
  {
   "cell_type": "code",
   "execution_count": null,
   "metadata": {},
   "outputs": [],
   "source": [
    "# user defined context\n",
    "ctx = torch.tensor([\n",
    "    # hero, non-hero, food, spell, side-facing\n",
    "    [1,0,0,0,0,0,0,0,0,0],  \n",
    "    [0,1,0,0,0,0,0,0,0,0],    \n",
    "    [0,0,1,0,0,0,0,0,0,0],\n",
    "    [0,0,0,1,0,0,0,0,0,0],\n",
    "    [0,0,0,0,1,0,0,0,0,0],\n",
    "    [0,0,0,0,0,1,0,0,0,0],\n",
    "    [0,0,0,0,0,0,1,0,0,0],\n",
    "    [0,0,0,0,0,0,0,1,0,0],\n",
    "    [0,0,0,0,0,0,0,0,1,0],\n",
    "    [0,0,0,0,0,0,0,0,0,1]\n",
    "]).float().to(device)\n",
    "samples, _ = sample_ddpm_context(ctx.shape[0], ctx)\n",
    "show_images(samples)"
   ]
  },
  {
   "cell_type": "code",
   "execution_count": null,
   "metadata": {
    "id": "8MiuMv8XWbMG"
   },
   "outputs": [],
   "source": [
    "# mix of defined context\n",
    "ctx = torch.tensor([\n",
    "    [1,0,0,0,0,0,0,0,0,0],\n",
    "    [0.9,0.1,0,0,0,0,0,0,0,0],\n",
    "    [0.8,0.2,0,0,0,0,0,0,0,0],\n",
    "    [0.7,0.3,0,0,0,0,0,0,0,0],\n",
    "    [0.6,0.4,0,0,0,0,0,0,0,0],\n",
    "    [0.5,0.5,0,0,0,0,0,0,0,0],\n",
    "    [0.4,0.6,0,0,0,0,0,0,0,0],\n",
    "    [0.3,0.7,0,0,0,0,0,0,0,0],\n",
    "    [0.2,0.8,0,0,0,0,0,0,0,0],\n",
    "    [0.1,0.9,0,0,0,0,0,0,0,0],\n",
    "    [0,1,0,0,0,0,0,0,0,0],\n",
    "]).float().to(device)\n",
    "\n",
    "samples, _ = sample_ddpm_context(ctx.shape[0], ctx)\n",
    "show_images(samples)"
   ]
  },
  {
   "cell_type": "code",
   "execution_count": null,
   "metadata": {},
   "outputs": [],
   "source": [
    "# user defined context\n",
    "ctx = torch.tensor([\n",
    "    # hero, non-hero, food, spell, side-facing\n",
    "    [1,0,0,0,0,0,0,0,0,0],  \n",
    "    [0,1,0,0,0,0,0,0,0,0],    \n",
    "    [0,0,1,0,0,0,0,0,0,0],\n",
    "    [0,0,0,1,0,0,0,0,0,0],\n",
    "    [0,0,0,0,1,0,0,0,0,0],\n",
    "    [0,0,0,0,0,1,0,0,0,0],\n",
    "    [0,0,0,0,0,0,1,0,0,0],\n",
    "    [0,0,0,0,0,0,0,1,0,0],\n",
    "    [0,0,0,0,0,0,0,0,1,0],\n",
    "    [0,0,0,0,0,0,0,0,0,1]\n",
    "]).float().to(device)\n",
    "samples, _ = sample_ddim_context(ctx.shape[0], ctx)\n",
    "show_images(samples)"
   ]
  },
  {
   "cell_type": "code",
   "execution_count": null,
   "metadata": {},
   "outputs": [],
   "source": [
    "# mix of defined context\n",
    "ctx = torch.tensor([\n",
    "    [1,0,0,0,0,0,0,0,0,0],\n",
    "    [0.9,0.1,0,0,0,0,0,0,0,0],\n",
    "    [0.8,0.2,0,0,0,0,0,0,0,0],\n",
    "    [0.7,0.3,0,0,0,0,0,0,0,0],\n",
    "    [0.6,0.4,0,0,0,0,0,0,0,0],\n",
    "    [0.5,0.5,0,0,0,0,0,0,0,0],\n",
    "    [0.4,0.6,0,0,0,0,0,0,0,0],\n",
    "    [0.3,0.7,0,0,0,0,0,0,0,0],\n",
    "    [0.2,0.8,0,0,0,0,0,0,0,0],\n",
    "    [0.1,0.9,0,0,0,0,0,0,0,0],\n",
    "    [0,1,0,0,0,0,0,0,0,0],\n",
    "]).float().to(device)\n",
    "\n",
    "samples, _ = sample_ddim_context(ctx.shape[0], ctx)\n",
    "show_images(samples)"
   ]
  },
  {
   "cell_type": "code",
   "execution_count": null,
   "metadata": {},
   "outputs": [],
   "source": [
    "# mix of defined context\n",
    "ctx = torch.tensor([\n",
    "    [1,0,0,0,0,0,0,0,0,0],\n",
    "    [0.9,0.1,0,0,0,0,0,0,0,0],\n",
    "    [0.8,0.2,0,0,0,0,0,0,0,0],\n",
    "    [0.7,0.3,0,0,0,0,0,0,0,0],\n",
    "    [0.6,0.4,0,0,0,0,0,0,0,0],\n",
    "    [0.5,0.5,0,0,0,0,0,0,0,0],\n",
    "    [0.4,0.6,0,0,0,0,0,0,0,0],\n",
    "    [0.3,0.7,0,0,0,0,0,0,0,0],\n",
    "    [0.2,0.8,0,0,0,0,0,0,0,0],\n",
    "    [0.1,0.9,0,0,0,0,0,0,0,0],\n",
    "    [0,1,0,0,0,0,0,0,0,0],\n",
    "]).float().to(device)\n",
    "\n",
    "samples, _ = sample_ddim_context(ctx.shape[0], None)\n",
    "show_images(samples)"
   ]
  },
  {
   "cell_type": "code",
   "execution_count": null,
   "metadata": {
    "id": "R6dLWSedWWQ1"
   },
   "outputs": [],
   "source": [
    "# visualize samples with randomly selected context\n",
    "plt.clf()\n",
    "ctx = torch.tensor([\n",
    "    # hero, non-hero, food, spell, side-facing\n",
    "    [1,0,0,0,0,0,0,0,0,0],  \n",
    "    [0,1,0,0,0,0,0,0,0,0],    \n",
    "    [0,0,1,0,0,0,0,0,0,0],\n",
    "    [0,0,0,1,0,0,0,0,0,0],\n",
    "    [0,0,0,0,1,0,0,0,0,0],\n",
    "    [0,0,0,0,0,1,0,0,0,0],\n",
    "    [0,0,0,0,0,0,1,0,0,0],\n",
    "    [0,0,0,0,0,0,0,1,0,0],\n",
    "    [0,0,0,0,0,0,0,0,1,0],\n",
    "    [0,0,0,0,0,0,0,0,0,1]\n",
    "]).float().to(device)\n",
    "samples, _ = sample_ddpm_context(ctx.shape[0], ctx)\n",
    "#animation_ddpm_context = plot_sample(intermediate,32,4,save_dir, \"ani_run\", None, save=False)\n",
    "#HTML(animation_ddpm_context.to_jshtml())"
   ]
  },
  {
   "cell_type": "code",
   "execution_count": null,
   "metadata": {
    "id": "OUT-2dDCWfrg"
   },
   "outputs": [],
   "source": []
  },
  {
   "cell_type": "code",
   "execution_count": null,
   "metadata": {
    "id": "oXgPRxJcbR9f"
   },
   "outputs": [],
   "source": []
  },
  {
   "cell_type": "code",
   "execution_count": null,
   "metadata": {},
   "outputs": [],
   "source": []
  },
  {
   "cell_type": "code",
   "execution_count": null,
   "metadata": {},
   "outputs": [],
   "source": []
  },
  {
   "cell_type": "code",
   "execution_count": null,
   "metadata": {},
   "outputs": [],
   "source": []
  },
  {
   "cell_type": "code",
   "execution_count": null,
   "metadata": {},
   "outputs": [],
   "source": []
  },
  {
   "cell_type": "code",
   "execution_count": null,
   "metadata": {},
   "outputs": [],
   "source": []
  }
 ],
 "metadata": {
  "colab": {
   "provenance": []
  },
  "kernelspec": {
   "display_name": "Python 3 (ipykernel)",
   "language": "python",
   "name": "python3"
  },
  "language_info": {
   "codemirror_mode": {
    "name": "ipython",
    "version": 3
   },
   "file_extension": ".py",
   "mimetype": "text/x-python",
   "name": "python",
   "nbconvert_exporter": "python",
   "pygments_lexer": "ipython3",
   "version": "3.10.7"
  }
 },
 "nbformat": 4,
 "nbformat_minor": 1
}
